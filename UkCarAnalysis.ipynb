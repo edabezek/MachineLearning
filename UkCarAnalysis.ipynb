{
  "nbformat": 4,
  "nbformat_minor": 0,
  "metadata": {
    "colab": {
      "name": "UkCarAnalysis.ipynb",
      "provenance": [],
      "authorship_tag": "ABX9TyPeEhhF18kfRdZvmiQxnJ1Q",
      "include_colab_link": true
    },
    "kernelspec": {
      "name": "python3",
      "display_name": "Python 3"
    },
    "language_info": {
      "name": "python"
    }
  },
  "cells": [
    {
      "cell_type": "markdown",
      "metadata": {
        "id": "view-in-github",
        "colab_type": "text"
      },
      "source": [
        "<a href=\"https://colab.research.google.com/github/edabezek/MachineLearning/blob/main/UkCarAnalysis.ipynb\" target=\"_parent\"><img src=\"https://colab.research.google.com/assets/colab-badge.svg\" alt=\"Open In Colab\"/></a>"
      ]
    },
    {
      "cell_type": "code",
      "metadata": {
        "id": "sWSn9qbonH-U"
      },
      "source": [
        "import pandas as pd\n",
        "import numpy as np\n",
        "import matplotlib.pyplot as plt\n",
        "import seaborn as sbn"
      ],
      "execution_count": null,
      "outputs": []
    },
    {
      "cell_type": "code",
      "metadata": {
        "id": "Ful6fl7iqYsz"
      },
      "source": [
        "dataFrame= pd.read_excel(\"merc.xlsx\")"
      ],
      "execution_count": null,
      "outputs": []
    },
    {
      "cell_type": "code",
      "metadata": {
        "colab": {
          "base_uri": "https://localhost:8080/",
          "height": 203
        },
        "id": "NyUk8s8-qvfT",
        "outputId": "6c1b8521-1b6d-469d-dd5a-0251426c1891"
      },
      "source": [
        "dataFrame.head()"
      ],
      "execution_count": null,
      "outputs": [
        {
          "output_type": "execute_result",
          "data": {
            "text/html": [
              "<div>\n",
              "<style scoped>\n",
              "    .dataframe tbody tr th:only-of-type {\n",
              "        vertical-align: middle;\n",
              "    }\n",
              "\n",
              "    .dataframe tbody tr th {\n",
              "        vertical-align: top;\n",
              "    }\n",
              "\n",
              "    .dataframe thead th {\n",
              "        text-align: right;\n",
              "    }\n",
              "</style>\n",
              "<table border=\"1\" class=\"dataframe\">\n",
              "  <thead>\n",
              "    <tr style=\"text-align: right;\">\n",
              "      <th></th>\n",
              "      <th>year</th>\n",
              "      <th>price</th>\n",
              "      <th>transmission</th>\n",
              "      <th>mileage</th>\n",
              "      <th>tax</th>\n",
              "      <th>mpg</th>\n",
              "      <th>engineSize</th>\n",
              "    </tr>\n",
              "  </thead>\n",
              "  <tbody>\n",
              "    <tr>\n",
              "      <th>0</th>\n",
              "      <td>2005</td>\n",
              "      <td>5200</td>\n",
              "      <td>Automatic</td>\n",
              "      <td>63000</td>\n",
              "      <td>325</td>\n",
              "      <td>32.1</td>\n",
              "      <td>1.8</td>\n",
              "    </tr>\n",
              "    <tr>\n",
              "      <th>1</th>\n",
              "      <td>2017</td>\n",
              "      <td>34948</td>\n",
              "      <td>Automatic</td>\n",
              "      <td>27000</td>\n",
              "      <td>20</td>\n",
              "      <td>61.4</td>\n",
              "      <td>2.1</td>\n",
              "    </tr>\n",
              "    <tr>\n",
              "      <th>2</th>\n",
              "      <td>2016</td>\n",
              "      <td>49948</td>\n",
              "      <td>Automatic</td>\n",
              "      <td>6200</td>\n",
              "      <td>555</td>\n",
              "      <td>28.0</td>\n",
              "      <td>5.5</td>\n",
              "    </tr>\n",
              "    <tr>\n",
              "      <th>3</th>\n",
              "      <td>2016</td>\n",
              "      <td>61948</td>\n",
              "      <td>Automatic</td>\n",
              "      <td>16000</td>\n",
              "      <td>325</td>\n",
              "      <td>30.4</td>\n",
              "      <td>4.0</td>\n",
              "    </tr>\n",
              "    <tr>\n",
              "      <th>4</th>\n",
              "      <td>2016</td>\n",
              "      <td>73948</td>\n",
              "      <td>Automatic</td>\n",
              "      <td>4000</td>\n",
              "      <td>325</td>\n",
              "      <td>30.1</td>\n",
              "      <td>4.0</td>\n",
              "    </tr>\n",
              "  </tbody>\n",
              "</table>\n",
              "</div>"
            ],
            "text/plain": [
              "   year  price transmission  mileage  tax   mpg  engineSize\n",
              "0  2005   5200    Automatic    63000  325  32.1         1.8\n",
              "1  2017  34948    Automatic    27000   20  61.4         2.1\n",
              "2  2016  49948    Automatic     6200  555  28.0         5.5\n",
              "3  2016  61948    Automatic    16000  325  30.4         4.0\n",
              "4  2016  73948    Automatic     4000  325  30.1         4.0"
            ]
          },
          "metadata": {},
          "execution_count": 5
        }
      ]
    },
    {
      "cell_type": "code",
      "metadata": {
        "colab": {
          "base_uri": "https://localhost:8080/",
          "height": 295
        },
        "id": "t_gAzPDvq36v",
        "outputId": "55be9d77-1052-4b3b-8bb4-2e873c306513"
      },
      "source": [
        "dataFrame.describe()"
      ],
      "execution_count": null,
      "outputs": [
        {
          "output_type": "execute_result",
          "data": {
            "text/html": [
              "<div>\n",
              "<style scoped>\n",
              "    .dataframe tbody tr th:only-of-type {\n",
              "        vertical-align: middle;\n",
              "    }\n",
              "\n",
              "    .dataframe tbody tr th {\n",
              "        vertical-align: top;\n",
              "    }\n",
              "\n",
              "    .dataframe thead th {\n",
              "        text-align: right;\n",
              "    }\n",
              "</style>\n",
              "<table border=\"1\" class=\"dataframe\">\n",
              "  <thead>\n",
              "    <tr style=\"text-align: right;\">\n",
              "      <th></th>\n",
              "      <th>year</th>\n",
              "      <th>price</th>\n",
              "      <th>mileage</th>\n",
              "      <th>tax</th>\n",
              "      <th>mpg</th>\n",
              "      <th>engineSize</th>\n",
              "    </tr>\n",
              "  </thead>\n",
              "  <tbody>\n",
              "    <tr>\n",
              "      <th>count</th>\n",
              "      <td>13119.000000</td>\n",
              "      <td>13119.000000</td>\n",
              "      <td>13119.000000</td>\n",
              "      <td>13119.000000</td>\n",
              "      <td>13119.000000</td>\n",
              "      <td>13119.000000</td>\n",
              "    </tr>\n",
              "    <tr>\n",
              "      <th>mean</th>\n",
              "      <td>2017.296288</td>\n",
              "      <td>24698.596920</td>\n",
              "      <td>21949.559037</td>\n",
              "      <td>129.972178</td>\n",
              "      <td>55.155843</td>\n",
              "      <td>2.071530</td>\n",
              "    </tr>\n",
              "    <tr>\n",
              "      <th>std</th>\n",
              "      <td>2.224709</td>\n",
              "      <td>11842.675542</td>\n",
              "      <td>21176.512267</td>\n",
              "      <td>65.260286</td>\n",
              "      <td>15.220082</td>\n",
              "      <td>0.572426</td>\n",
              "    </tr>\n",
              "    <tr>\n",
              "      <th>min</th>\n",
              "      <td>1970.000000</td>\n",
              "      <td>650.000000</td>\n",
              "      <td>1.000000</td>\n",
              "      <td>0.000000</td>\n",
              "      <td>1.100000</td>\n",
              "      <td>0.000000</td>\n",
              "    </tr>\n",
              "    <tr>\n",
              "      <th>25%</th>\n",
              "      <td>2016.000000</td>\n",
              "      <td>17450.000000</td>\n",
              "      <td>6097.500000</td>\n",
              "      <td>125.000000</td>\n",
              "      <td>45.600000</td>\n",
              "      <td>1.800000</td>\n",
              "    </tr>\n",
              "    <tr>\n",
              "      <th>50%</th>\n",
              "      <td>2018.000000</td>\n",
              "      <td>22480.000000</td>\n",
              "      <td>15189.000000</td>\n",
              "      <td>145.000000</td>\n",
              "      <td>56.500000</td>\n",
              "      <td>2.000000</td>\n",
              "    </tr>\n",
              "    <tr>\n",
              "      <th>75%</th>\n",
              "      <td>2019.000000</td>\n",
              "      <td>28980.000000</td>\n",
              "      <td>31779.500000</td>\n",
              "      <td>145.000000</td>\n",
              "      <td>64.200000</td>\n",
              "      <td>2.100000</td>\n",
              "    </tr>\n",
              "    <tr>\n",
              "      <th>max</th>\n",
              "      <td>2020.000000</td>\n",
              "      <td>159999.000000</td>\n",
              "      <td>259000.000000</td>\n",
              "      <td>580.000000</td>\n",
              "      <td>217.300000</td>\n",
              "      <td>6.200000</td>\n",
              "    </tr>\n",
              "  </tbody>\n",
              "</table>\n",
              "</div>"
            ],
            "text/plain": [
              "               year          price  ...           mpg    engineSize\n",
              "count  13119.000000   13119.000000  ...  13119.000000  13119.000000\n",
              "mean    2017.296288   24698.596920  ...     55.155843      2.071530\n",
              "std        2.224709   11842.675542  ...     15.220082      0.572426\n",
              "min     1970.000000     650.000000  ...      1.100000      0.000000\n",
              "25%     2016.000000   17450.000000  ...     45.600000      1.800000\n",
              "50%     2018.000000   22480.000000  ...     56.500000      2.000000\n",
              "75%     2019.000000   28980.000000  ...     64.200000      2.100000\n",
              "max     2020.000000  159999.000000  ...    217.300000      6.200000\n",
              "\n",
              "[8 rows x 6 columns]"
            ]
          },
          "metadata": {},
          "execution_count": 6
        }
      ]
    },
    {
      "cell_type": "code",
      "metadata": {
        "id": "47BeWJJArYlG",
        "colab": {
          "base_uri": "https://localhost:8080/",
          "height": 417
        },
        "outputId": "4927789c-7ea5-4eb1-d3e0-8082b32e255f"
      },
      "source": [
        "dataFrame.isnull()"
      ],
      "execution_count": null,
      "outputs": [
        {
          "output_type": "execute_result",
          "data": {
            "text/html": [
              "<div>\n",
              "<style scoped>\n",
              "    .dataframe tbody tr th:only-of-type {\n",
              "        vertical-align: middle;\n",
              "    }\n",
              "\n",
              "    .dataframe tbody tr th {\n",
              "        vertical-align: top;\n",
              "    }\n",
              "\n",
              "    .dataframe thead th {\n",
              "        text-align: right;\n",
              "    }\n",
              "</style>\n",
              "<table border=\"1\" class=\"dataframe\">\n",
              "  <thead>\n",
              "    <tr style=\"text-align: right;\">\n",
              "      <th></th>\n",
              "      <th>year</th>\n",
              "      <th>price</th>\n",
              "      <th>transmission</th>\n",
              "      <th>mileage</th>\n",
              "      <th>tax</th>\n",
              "      <th>mpg</th>\n",
              "      <th>engineSize</th>\n",
              "    </tr>\n",
              "  </thead>\n",
              "  <tbody>\n",
              "    <tr>\n",
              "      <th>0</th>\n",
              "      <td>False</td>\n",
              "      <td>False</td>\n",
              "      <td>False</td>\n",
              "      <td>False</td>\n",
              "      <td>False</td>\n",
              "      <td>False</td>\n",
              "      <td>False</td>\n",
              "    </tr>\n",
              "    <tr>\n",
              "      <th>1</th>\n",
              "      <td>False</td>\n",
              "      <td>False</td>\n",
              "      <td>False</td>\n",
              "      <td>False</td>\n",
              "      <td>False</td>\n",
              "      <td>False</td>\n",
              "      <td>False</td>\n",
              "    </tr>\n",
              "    <tr>\n",
              "      <th>2</th>\n",
              "      <td>False</td>\n",
              "      <td>False</td>\n",
              "      <td>False</td>\n",
              "      <td>False</td>\n",
              "      <td>False</td>\n",
              "      <td>False</td>\n",
              "      <td>False</td>\n",
              "    </tr>\n",
              "    <tr>\n",
              "      <th>3</th>\n",
              "      <td>False</td>\n",
              "      <td>False</td>\n",
              "      <td>False</td>\n",
              "      <td>False</td>\n",
              "      <td>False</td>\n",
              "      <td>False</td>\n",
              "      <td>False</td>\n",
              "    </tr>\n",
              "    <tr>\n",
              "      <th>4</th>\n",
              "      <td>False</td>\n",
              "      <td>False</td>\n",
              "      <td>False</td>\n",
              "      <td>False</td>\n",
              "      <td>False</td>\n",
              "      <td>False</td>\n",
              "      <td>False</td>\n",
              "    </tr>\n",
              "    <tr>\n",
              "      <th>...</th>\n",
              "      <td>...</td>\n",
              "      <td>...</td>\n",
              "      <td>...</td>\n",
              "      <td>...</td>\n",
              "      <td>...</td>\n",
              "      <td>...</td>\n",
              "      <td>...</td>\n",
              "    </tr>\n",
              "    <tr>\n",
              "      <th>13114</th>\n",
              "      <td>False</td>\n",
              "      <td>False</td>\n",
              "      <td>False</td>\n",
              "      <td>False</td>\n",
              "      <td>False</td>\n",
              "      <td>False</td>\n",
              "      <td>False</td>\n",
              "    </tr>\n",
              "    <tr>\n",
              "      <th>13115</th>\n",
              "      <td>False</td>\n",
              "      <td>False</td>\n",
              "      <td>False</td>\n",
              "      <td>False</td>\n",
              "      <td>False</td>\n",
              "      <td>False</td>\n",
              "      <td>False</td>\n",
              "    </tr>\n",
              "    <tr>\n",
              "      <th>13116</th>\n",
              "      <td>False</td>\n",
              "      <td>False</td>\n",
              "      <td>False</td>\n",
              "      <td>False</td>\n",
              "      <td>False</td>\n",
              "      <td>False</td>\n",
              "      <td>False</td>\n",
              "    </tr>\n",
              "    <tr>\n",
              "      <th>13117</th>\n",
              "      <td>False</td>\n",
              "      <td>False</td>\n",
              "      <td>False</td>\n",
              "      <td>False</td>\n",
              "      <td>False</td>\n",
              "      <td>False</td>\n",
              "      <td>False</td>\n",
              "    </tr>\n",
              "    <tr>\n",
              "      <th>13118</th>\n",
              "      <td>False</td>\n",
              "      <td>False</td>\n",
              "      <td>False</td>\n",
              "      <td>False</td>\n",
              "      <td>False</td>\n",
              "      <td>False</td>\n",
              "      <td>False</td>\n",
              "    </tr>\n",
              "  </tbody>\n",
              "</table>\n",
              "<p>13119 rows × 7 columns</p>\n",
              "</div>"
            ],
            "text/plain": [
              "        year  price  transmission  mileage    tax    mpg  engineSize\n",
              "0      False  False         False    False  False  False       False\n",
              "1      False  False         False    False  False  False       False\n",
              "2      False  False         False    False  False  False       False\n",
              "3      False  False         False    False  False  False       False\n",
              "4      False  False         False    False  False  False       False\n",
              "...      ...    ...           ...      ...    ...    ...         ...\n",
              "13114  False  False         False    False  False  False       False\n",
              "13115  False  False         False    False  False  False       False\n",
              "13116  False  False         False    False  False  False       False\n",
              "13117  False  False         False    False  False  False       False\n",
              "13118  False  False         False    False  False  False       False\n",
              "\n",
              "[13119 rows x 7 columns]"
            ]
          },
          "metadata": {},
          "execution_count": 7
        }
      ]
    },
    {
      "cell_type": "code",
      "metadata": {
        "colab": {
          "base_uri": "https://localhost:8080/"
        },
        "id": "PqdHzTPGM2J0",
        "outputId": "236fcc90-14ce-4abb-8079-50f663f521ba"
      },
      "source": [
        "dataFrame.isnull().sum()  "
      ],
      "execution_count": null,
      "outputs": [
        {
          "output_type": "execute_result",
          "data": {
            "text/plain": [
              "year            0\n",
              "price           0\n",
              "transmission    0\n",
              "mileage         0\n",
              "tax             0\n",
              "mpg             0\n",
              "engineSize      0\n",
              "dtype: int64"
            ]
          },
          "metadata": {},
          "execution_count": 8
        }
      ]
    },
    {
      "cell_type": "code",
      "metadata": {
        "colab": {
          "base_uri": "https://localhost:8080/",
          "height": 361
        },
        "id": "cBEigJLLNNs6",
        "outputId": "ef02b272-999b-490e-a739-4ecdf2e685a0"
      },
      "source": [
        "sbn.distplot(dataFrame[\"price\"]) #distrubition plot"
      ],
      "execution_count": null,
      "outputs": [
        {
          "output_type": "stream",
          "text": [
            "/usr/local/lib/python3.7/dist-packages/seaborn/distributions.py:2557: FutureWarning: `distplot` is a deprecated function and will be removed in a future version. Please adapt your code to use either `displot` (a figure-level function with similar flexibility) or `histplot` (an axes-level function for histograms).\n",
            "  warnings.warn(msg, FutureWarning)\n"
          ],
          "name": "stderr"
        },
        {
          "output_type": "execute_result",
          "data": {
            "text/plain": [
              "<matplotlib.axes._subplots.AxesSubplot at 0x7f1d899f1e10>"
            ]
          },
          "metadata": {},
          "execution_count": 9
        },
        {
          "output_type": "display_data",
          "data": {
            "image/png": "[encoded data removed]",
            "text/plain": [
              "<Figure size 432x288 with 1 Axes>"
            ]
          },
          "metadata": {
            "needs_background": "light"
          }
        }
      ]
    },
    {
      "cell_type": "code",
      "metadata": {
        "colab": {
          "base_uri": "https://localhost:8080/",
          "height": 415
        },
        "id": "ygnv1z0SN4rX",
        "outputId": "2b9133d5-169a-4540-c639-714abf4ed56f"
      },
      "source": [
        "plt.figure(figsize=(7,5))\n",
        "sbn.distplot(dataFrame[\"price\"])"
      ],
      "execution_count": null,
      "outputs": [
        {
          "output_type": "stream",
          "text": [
            "/usr/local/lib/python3.7/dist-packages/seaborn/distributions.py:2557: FutureWarning: `distplot` is a deprecated function and will be removed in a future version. Please adapt your code to use either `displot` (a figure-level function with similar flexibility) or `histplot` (an axes-level function for histograms).\n",
            "  warnings.warn(msg, FutureWarning)\n"
          ],
          "name": "stderr"
        },
        {
          "output_type": "execute_result",
          "data": {
            "text/plain": [
              "<matplotlib.axes._subplots.AxesSubplot at 0x7f1d766fb190>"
            ]
          },
          "metadata": {},
          "execution_count": 10
        },
        {
          "output_type": "display_data",
          "data": {
            "image/png": "[encoded data removed]",
            "text/plain": [
              "<Figure size 504x360 with 1 Axes>"
            ]
          },
          "metadata": {
            "needs_background": "light"
          }
        }
      ]
    },
    {
      "cell_type": "markdown",
      "metadata": {
        "id": "i9cNmJVsOksG"
      },
      "source": [
        "not: bu grafikte birkaç araba çok pahalı gözüküyor, fiyatlarımızı etkilememesi için bu pahalı arabaları çıkarıp analiz yapacağız.fakat çıkarmadanki halinin analizi yapılıp da hangi model iyi bakılmalı."
      ]
    },
    {
      "cell_type": "code",
      "metadata": {
        "colab": {
          "base_uri": "https://localhost:8080/",
          "height": 350
        },
        "id": "Iknbxd_9OisO",
        "outputId": "7b3fbf37-94d0-49a6-986a-cc2a2e6f8544"
      },
      "source": [
        "sbn.countplot(dataFrame[\"year\"])"
      ],
      "execution_count": null,
      "outputs": [
        {
          "output_type": "stream",
          "text": [
            "/usr/local/lib/python3.7/dist-packages/seaborn/_decorators.py:43: FutureWarning: Pass the following variable as a keyword arg: x. From version 0.12, the only valid positional argument will be `data`, and passing other arguments without an explicit keyword will result in an error or misinterpretation.\n",
            "  FutureWarning\n"
          ],
          "name": "stderr"
        },
        {
          "output_type": "execute_result",
          "data": {
            "text/plain": [
              "<matplotlib.axes._subplots.AxesSubplot at 0x7f1d766ff6d0>"
            ]
          },
          "metadata": {},
          "execution_count": 11
        },
        {
          "output_type": "display_data",
          "data": {
            "image/png": "[encoded data removed]",
            "text/plain": [
              "<Figure size 432x288 with 1 Axes>"
            ]
          },
          "metadata": {
            "needs_background": "light"
          }
        }
      ]
    },
    {
      "cell_type": "code",
      "metadata": {
        "colab": {
          "base_uri": "https://localhost:8080/",
          "height": 234
        },
        "id": "FSyds_bhPRgH",
        "outputId": "4265881b-9aaa-41f1-a0b5-d03c302e7371"
      },
      "source": [
        "dataFrame.corr()"
      ],
      "execution_count": null,
      "outputs": [
        {
          "output_type": "execute_result",
          "data": {
            "text/html": [
              "<div>\n",
              "<style scoped>\n",
              "    .dataframe tbody tr th:only-of-type {\n",
              "        vertical-align: middle;\n",
              "    }\n",
              "\n",
              "    .dataframe tbody tr th {\n",
              "        vertical-align: top;\n",
              "    }\n",
              "\n",
              "    .dataframe thead th {\n",
              "        text-align: right;\n",
              "    }\n",
              "</style>\n",
              "<table border=\"1\" class=\"dataframe\">\n",
              "  <thead>\n",
              "    <tr style=\"text-align: right;\">\n",
              "      <th></th>\n",
              "      <th>year</th>\n",
              "      <th>price</th>\n",
              "      <th>mileage</th>\n",
              "      <th>tax</th>\n",
              "      <th>mpg</th>\n",
              "      <th>engineSize</th>\n",
              "    </tr>\n",
              "  </thead>\n",
              "  <tbody>\n",
              "    <tr>\n",
              "      <th>year</th>\n",
              "      <td>1.000000</td>\n",
              "      <td>0.520712</td>\n",
              "      <td>-0.738027</td>\n",
              "      <td>0.012480</td>\n",
              "      <td>-0.094626</td>\n",
              "      <td>-0.142147</td>\n",
              "    </tr>\n",
              "    <tr>\n",
              "      <th>price</th>\n",
              "      <td>0.520712</td>\n",
              "      <td>1.000000</td>\n",
              "      <td>-0.537214</td>\n",
              "      <td>0.268717</td>\n",
              "      <td>-0.438445</td>\n",
              "      <td>0.516126</td>\n",
              "    </tr>\n",
              "    <tr>\n",
              "      <th>mileage</th>\n",
              "      <td>-0.738027</td>\n",
              "      <td>-0.537214</td>\n",
              "      <td>1.000000</td>\n",
              "      <td>-0.160223</td>\n",
              "      <td>0.202850</td>\n",
              "      <td>0.063652</td>\n",
              "    </tr>\n",
              "    <tr>\n",
              "      <th>tax</th>\n",
              "      <td>0.012480</td>\n",
              "      <td>0.268717</td>\n",
              "      <td>-0.160223</td>\n",
              "      <td>1.000000</td>\n",
              "      <td>-0.513742</td>\n",
              "      <td>0.338341</td>\n",
              "    </tr>\n",
              "    <tr>\n",
              "      <th>mpg</th>\n",
              "      <td>-0.094626</td>\n",
              "      <td>-0.438445</td>\n",
              "      <td>0.202850</td>\n",
              "      <td>-0.513742</td>\n",
              "      <td>1.000000</td>\n",
              "      <td>-0.339862</td>\n",
              "    </tr>\n",
              "    <tr>\n",
              "      <th>engineSize</th>\n",
              "      <td>-0.142147</td>\n",
              "      <td>0.516126</td>\n",
              "      <td>0.063652</td>\n",
              "      <td>0.338341</td>\n",
              "      <td>-0.339862</td>\n",
              "      <td>1.000000</td>\n",
              "    </tr>\n",
              "  </tbody>\n",
              "</table>\n",
              "</div>"
            ],
            "text/plain": [
              "                year     price   mileage       tax       mpg  engineSize\n",
              "year        1.000000  0.520712 -0.738027  0.012480 -0.094626   -0.142147\n",
              "price       0.520712  1.000000 -0.537214  0.268717 -0.438445    0.516126\n",
              "mileage    -0.738027 -0.537214  1.000000 -0.160223  0.202850    0.063652\n",
              "tax         0.012480  0.268717 -0.160223  1.000000 -0.513742    0.338341\n",
              "mpg        -0.094626 -0.438445  0.202850 -0.513742  1.000000   -0.339862\n",
              "engineSize -0.142147  0.516126  0.063652  0.338341 -0.339862    1.000000"
            ]
          },
          "metadata": {},
          "execution_count": 12
        }
      ]
    },
    {
      "cell_type": "code",
      "metadata": {
        "colab": {
          "base_uri": "https://localhost:8080/"
        },
        "id": "HSX-aruaPdds",
        "outputId": "f2f1ec61-21d8-482f-f623-9aaa901ff498"
      },
      "source": [
        "dataFrame.corr()[\"price\"].sort_values() #sort value küçükten büyüğe sırala"
      ],
      "execution_count": null,
      "outputs": [
        {
          "output_type": "execute_result",
          "data": {
            "text/plain": [
              "mileage      -0.537214\n",
              "mpg          -0.438445\n",
              "tax           0.268717\n",
              "engineSize    0.516126\n",
              "year          0.520712\n",
              "price         1.000000\n",
              "Name: price, dtype: float64"
            ]
          },
          "metadata": {},
          "execution_count": 13
        }
      ]
    },
    {
      "cell_type": "markdown",
      "metadata": {
        "id": "p8YQQQsLQBUc"
      },
      "source": [
        "fıyatı etkileyen en çok yıl gibi gözüküyor,\n",
        "tax / year / engineSize fiyatı pozitif yönde etkiliyor.yani artışları fiyatı etkiliyor.mileperg mil basına ne kadar yol yaptığı fiyatı negatif etkiliyor, mileage de öyle."
      ]
    },
    {
      "cell_type": "markdown",
      "metadata": {
        "id": "RYUYa-C9RKuM"
      },
      "source": [
        "#en yüksek fiyatlı arabalar\n"
      ]
    },
    {
      "cell_type": "code",
      "metadata": {
        "colab": {
          "base_uri": "https://localhost:8080/",
          "height": 296
        },
        "id": "tBxb8h6WP4_9",
        "outputId": "b4a1a015-28d2-44a8-9c42-f50c206cd0ba"
      },
      "source": [
        "sbn.scatterplot(x=\"mileage\",y=\"price\",data=dataFrame)"
      ],
      "execution_count": null,
      "outputs": [
        {
          "output_type": "execute_result",
          "data": {
            "text/plain": [
              "<matplotlib.axes._subplots.AxesSubplot at 0x7f1d6620ac50>"
            ]
          },
          "metadata": {},
          "execution_count": 15
        },
        {
          "output_type": "display_data",
          "data": {
            "image/png": "[encoded data removed]",
            "text/plain": [
              "<Figure size 432x288 with 1 Axes>"
            ]
          },
          "metadata": {
            "needs_background": "light"
          }
        }
      ]
    },
    {
      "cell_type": "markdown",
      "metadata": {
        "id": "5kSNp_5ETJ8a"
      },
      "source": [
        "km arttıkça fiyat hızla düşüyor"
      ]
    },
    {
      "cell_type": "code",
      "metadata": {
        "colab": {
          "base_uri": "https://localhost:8080/",
          "height": 417
        },
        "id": "iRLjRF26S_fM",
        "outputId": "04725ce3-7221-4296-cfc6-d274f16083bc"
      },
      "source": [
        "dataFrame.sort_values(\"price\",ascending=False) #en yüksek fiyatı en yukarıda getirecek."
      ],
      "execution_count": null,
      "outputs": [
        {
          "output_type": "execute_result",
          "data": {
            "text/html": [
              "<div>\n",
              "<style scoped>\n",
              "    .dataframe tbody tr th:only-of-type {\n",
              "        vertical-align: middle;\n",
              "    }\n",
              "\n",
              "    .dataframe tbody tr th {\n",
              "        vertical-align: top;\n",
              "    }\n",
              "\n",
              "    .dataframe thead th {\n",
              "        text-align: right;\n",
              "    }\n",
              "</style>\n",
              "<table border=\"1\" class=\"dataframe\">\n",
              "  <thead>\n",
              "    <tr style=\"text-align: right;\">\n",
              "      <th></th>\n",
              "      <th>year</th>\n",
              "      <th>price</th>\n",
              "      <th>transmission</th>\n",
              "      <th>mileage</th>\n",
              "      <th>tax</th>\n",
              "      <th>mpg</th>\n",
              "      <th>engineSize</th>\n",
              "    </tr>\n",
              "  </thead>\n",
              "  <tbody>\n",
              "    <tr>\n",
              "      <th>6199</th>\n",
              "      <td>2020</td>\n",
              "      <td>159999</td>\n",
              "      <td>Semi-Auto</td>\n",
              "      <td>1350</td>\n",
              "      <td>145</td>\n",
              "      <td>21.4</td>\n",
              "      <td>4.0</td>\n",
              "    </tr>\n",
              "    <tr>\n",
              "      <th>10044</th>\n",
              "      <td>2020</td>\n",
              "      <td>154998</td>\n",
              "      <td>Automatic</td>\n",
              "      <td>3000</td>\n",
              "      <td>150</td>\n",
              "      <td>21.4</td>\n",
              "      <td>4.0</td>\n",
              "    </tr>\n",
              "    <tr>\n",
              "      <th>5</th>\n",
              "      <td>2011</td>\n",
              "      <td>149948</td>\n",
              "      <td>Automatic</td>\n",
              "      <td>3000</td>\n",
              "      <td>570</td>\n",
              "      <td>21.4</td>\n",
              "      <td>6.2</td>\n",
              "    </tr>\n",
              "    <tr>\n",
              "      <th>8737</th>\n",
              "      <td>2019</td>\n",
              "      <td>140319</td>\n",
              "      <td>Semi-Auto</td>\n",
              "      <td>785</td>\n",
              "      <td>150</td>\n",
              "      <td>22.1</td>\n",
              "      <td>4.0</td>\n",
              "    </tr>\n",
              "    <tr>\n",
              "      <th>6386</th>\n",
              "      <td>2018</td>\n",
              "      <td>139995</td>\n",
              "      <td>Semi-Auto</td>\n",
              "      <td>13046</td>\n",
              "      <td>145</td>\n",
              "      <td>21.4</td>\n",
              "      <td>4.0</td>\n",
              "    </tr>\n",
              "    <tr>\n",
              "      <th>...</th>\n",
              "      <td>...</td>\n",
              "      <td>...</td>\n",
              "      <td>...</td>\n",
              "      <td>...</td>\n",
              "      <td>...</td>\n",
              "      <td>...</td>\n",
              "      <td>...</td>\n",
              "    </tr>\n",
              "    <tr>\n",
              "      <th>11549</th>\n",
              "      <td>2002</td>\n",
              "      <td>1495</td>\n",
              "      <td>Automatic</td>\n",
              "      <td>13800</td>\n",
              "      <td>305</td>\n",
              "      <td>39.8</td>\n",
              "      <td>2.7</td>\n",
              "    </tr>\n",
              "    <tr>\n",
              "      <th>12594</th>\n",
              "      <td>2004</td>\n",
              "      <td>1495</td>\n",
              "      <td>Manual</td>\n",
              "      <td>119000</td>\n",
              "      <td>300</td>\n",
              "      <td>34.5</td>\n",
              "      <td>1.8</td>\n",
              "    </tr>\n",
              "    <tr>\n",
              "      <th>11765</th>\n",
              "      <td>2000</td>\n",
              "      <td>1490</td>\n",
              "      <td>Automatic</td>\n",
              "      <td>87000</td>\n",
              "      <td>265</td>\n",
              "      <td>27.2</td>\n",
              "      <td>3.2</td>\n",
              "    </tr>\n",
              "    <tr>\n",
              "      <th>12008</th>\n",
              "      <td>2010</td>\n",
              "      <td>1350</td>\n",
              "      <td>Manual</td>\n",
              "      <td>116126</td>\n",
              "      <td>145</td>\n",
              "      <td>54.3</td>\n",
              "      <td>2.0</td>\n",
              "    </tr>\n",
              "    <tr>\n",
              "      <th>11816</th>\n",
              "      <td>2003</td>\n",
              "      <td>650</td>\n",
              "      <td>Manual</td>\n",
              "      <td>109090</td>\n",
              "      <td>235</td>\n",
              "      <td>40.0</td>\n",
              "      <td>1.4</td>\n",
              "    </tr>\n",
              "  </tbody>\n",
              "</table>\n",
              "<p>13119 rows × 7 columns</p>\n",
              "</div>"
            ],
            "text/plain": [
              "       year   price transmission  mileage  tax   mpg  engineSize\n",
              "6199   2020  159999    Semi-Auto     1350  145  21.4         4.0\n",
              "10044  2020  154998    Automatic     3000  150  21.4         4.0\n",
              "5      2011  149948    Automatic     3000  570  21.4         6.2\n",
              "8737   2019  140319    Semi-Auto      785  150  22.1         4.0\n",
              "6386   2018  139995    Semi-Auto    13046  145  21.4         4.0\n",
              "...     ...     ...          ...      ...  ...   ...         ...\n",
              "11549  2002    1495    Automatic    13800  305  39.8         2.7\n",
              "12594  2004    1495       Manual   119000  300  34.5         1.8\n",
              "11765  2000    1490    Automatic    87000  265  27.2         3.2\n",
              "12008  2010    1350       Manual   116126  145  54.3         2.0\n",
              "11816  2003     650       Manual   109090  235  40.0         1.4\n",
              "\n",
              "[13119 rows x 7 columns]"
            ]
          },
          "metadata": {},
          "execution_count": 16
        }
      ]
    },
    {
      "cell_type": "code",
      "metadata": {
        "colab": {
          "base_uri": "https://localhost:8080/",
          "height": 665
        },
        "id": "Za5Q6xXGTnRU",
        "outputId": "9dcf3195-a925-4783-9a6f-496ac9132202"
      },
      "source": [
        "dataFrame.sort_values(\"price\",ascending=True).head(20)"
      ],
      "execution_count": null,
      "outputs": [
        {
          "output_type": "execute_result",
          "data": {
            "text/html": [
              "<div>\n",
              "<style scoped>\n",
              "    .dataframe tbody tr th:only-of-type {\n",
              "        vertical-align: middle;\n",
              "    }\n",
              "\n",
              "    .dataframe tbody tr th {\n",
              "        vertical-align: top;\n",
              "    }\n",
              "\n",
              "    .dataframe thead th {\n",
              "        text-align: right;\n",
              "    }\n",
              "</style>\n",
              "<table border=\"1\" class=\"dataframe\">\n",
              "  <thead>\n",
              "    <tr style=\"text-align: right;\">\n",
              "      <th></th>\n",
              "      <th>year</th>\n",
              "      <th>price</th>\n",
              "      <th>transmission</th>\n",
              "      <th>mileage</th>\n",
              "      <th>tax</th>\n",
              "      <th>mpg</th>\n",
              "      <th>engineSize</th>\n",
              "    </tr>\n",
              "  </thead>\n",
              "  <tbody>\n",
              "    <tr>\n",
              "      <th>11816</th>\n",
              "      <td>2003</td>\n",
              "      <td>650</td>\n",
              "      <td>Manual</td>\n",
              "      <td>109090</td>\n",
              "      <td>235</td>\n",
              "      <td>40.0</td>\n",
              "      <td>1.4</td>\n",
              "    </tr>\n",
              "    <tr>\n",
              "      <th>12008</th>\n",
              "      <td>2010</td>\n",
              "      <td>1350</td>\n",
              "      <td>Manual</td>\n",
              "      <td>116126</td>\n",
              "      <td>145</td>\n",
              "      <td>54.3</td>\n",
              "      <td>2.0</td>\n",
              "    </tr>\n",
              "    <tr>\n",
              "      <th>11765</th>\n",
              "      <td>2000</td>\n",
              "      <td>1490</td>\n",
              "      <td>Automatic</td>\n",
              "      <td>87000</td>\n",
              "      <td>265</td>\n",
              "      <td>27.2</td>\n",
              "      <td>3.2</td>\n",
              "    </tr>\n",
              "    <tr>\n",
              "      <th>11549</th>\n",
              "      <td>2002</td>\n",
              "      <td>1495</td>\n",
              "      <td>Automatic</td>\n",
              "      <td>13800</td>\n",
              "      <td>305</td>\n",
              "      <td>39.8</td>\n",
              "      <td>2.7</td>\n",
              "    </tr>\n",
              "    <tr>\n",
              "      <th>12594</th>\n",
              "      <td>2004</td>\n",
              "      <td>1495</td>\n",
              "      <td>Manual</td>\n",
              "      <td>119000</td>\n",
              "      <td>300</td>\n",
              "      <td>34.5</td>\n",
              "      <td>1.8</td>\n",
              "    </tr>\n",
              "    <tr>\n",
              "      <th>11174</th>\n",
              "      <td>2001</td>\n",
              "      <td>1695</td>\n",
              "      <td>Automatic</td>\n",
              "      <td>108800</td>\n",
              "      <td>325</td>\n",
              "      <td>31.7</td>\n",
              "      <td>3.2</td>\n",
              "    </tr>\n",
              "    <tr>\n",
              "      <th>12710</th>\n",
              "      <td>2006</td>\n",
              "      <td>1695</td>\n",
              "      <td>Automatic</td>\n",
              "      <td>153000</td>\n",
              "      <td>300</td>\n",
              "      <td>33.6</td>\n",
              "      <td>1.8</td>\n",
              "    </tr>\n",
              "    <tr>\n",
              "      <th>12766</th>\n",
              "      <td>2004</td>\n",
              "      <td>1780</td>\n",
              "      <td>Automatic</td>\n",
              "      <td>118000</td>\n",
              "      <td>265</td>\n",
              "      <td>41.5</td>\n",
              "      <td>2.2</td>\n",
              "    </tr>\n",
              "    <tr>\n",
              "      <th>12009</th>\n",
              "      <td>2007</td>\n",
              "      <td>1800</td>\n",
              "      <td>Automatic</td>\n",
              "      <td>84000</td>\n",
              "      <td>200</td>\n",
              "      <td>42.8</td>\n",
              "      <td>1.5</td>\n",
              "    </tr>\n",
              "    <tr>\n",
              "      <th>11764</th>\n",
              "      <td>1998</td>\n",
              "      <td>1990</td>\n",
              "      <td>Automatic</td>\n",
              "      <td>99300</td>\n",
              "      <td>265</td>\n",
              "      <td>32.1</td>\n",
              "      <td>2.3</td>\n",
              "    </tr>\n",
              "    <tr>\n",
              "      <th>11808</th>\n",
              "      <td>1998</td>\n",
              "      <td>1990</td>\n",
              "      <td>Automatic</td>\n",
              "      <td>113557</td>\n",
              "      <td>265</td>\n",
              "      <td>32.1</td>\n",
              "      <td>2.3</td>\n",
              "    </tr>\n",
              "    <tr>\n",
              "      <th>11383</th>\n",
              "      <td>2005</td>\n",
              "      <td>1995</td>\n",
              "      <td>Automatic</td>\n",
              "      <td>105000</td>\n",
              "      <td>260</td>\n",
              "      <td>43.5</td>\n",
              "      <td>2.1</td>\n",
              "    </tr>\n",
              "    <tr>\n",
              "      <th>11378</th>\n",
              "      <td>2004</td>\n",
              "      <td>1995</td>\n",
              "      <td>Semi-Auto</td>\n",
              "      <td>165000</td>\n",
              "      <td>330</td>\n",
              "      <td>20.0</td>\n",
              "      <td>3.7</td>\n",
              "    </tr>\n",
              "    <tr>\n",
              "      <th>11857</th>\n",
              "      <td>2002</td>\n",
              "      <td>2140</td>\n",
              "      <td>Automatic</td>\n",
              "      <td>52700</td>\n",
              "      <td>325</td>\n",
              "      <td>31.4</td>\n",
              "      <td>2.0</td>\n",
              "    </tr>\n",
              "    <tr>\n",
              "      <th>11906</th>\n",
              "      <td>2007</td>\n",
              "      <td>2478</td>\n",
              "      <td>Automatic</td>\n",
              "      <td>81000</td>\n",
              "      <td>160</td>\n",
              "      <td>49.6</td>\n",
              "      <td>2.0</td>\n",
              "    </tr>\n",
              "    <tr>\n",
              "      <th>11795</th>\n",
              "      <td>2005</td>\n",
              "      <td>2490</td>\n",
              "      <td>Automatic</td>\n",
              "      <td>101980</td>\n",
              "      <td>200</td>\n",
              "      <td>47.9</td>\n",
              "      <td>2.0</td>\n",
              "    </tr>\n",
              "    <tr>\n",
              "      <th>12765</th>\n",
              "      <td>2004</td>\n",
              "      <td>2495</td>\n",
              "      <td>Automatic</td>\n",
              "      <td>104000</td>\n",
              "      <td>325</td>\n",
              "      <td>31.7</td>\n",
              "      <td>1.8</td>\n",
              "    </tr>\n",
              "    <tr>\n",
              "      <th>11943</th>\n",
              "      <td>2005</td>\n",
              "      <td>2690</td>\n",
              "      <td>Automatic</td>\n",
              "      <td>109000</td>\n",
              "      <td>325</td>\n",
              "      <td>32.1</td>\n",
              "      <td>1.8</td>\n",
              "    </tr>\n",
              "    <tr>\n",
              "      <th>11263</th>\n",
              "      <td>2007</td>\n",
              "      <td>2795</td>\n",
              "      <td>Manual</td>\n",
              "      <td>79485</td>\n",
              "      <td>200</td>\n",
              "      <td>45.6</td>\n",
              "      <td>1.5</td>\n",
              "    </tr>\n",
              "    <tr>\n",
              "      <th>49</th>\n",
              "      <td>2006</td>\n",
              "      <td>2880</td>\n",
              "      <td>Automatic</td>\n",
              "      <td>66000</td>\n",
              "      <td>160</td>\n",
              "      <td>52.3</td>\n",
              "      <td>2.0</td>\n",
              "    </tr>\n",
              "  </tbody>\n",
              "</table>\n",
              "</div>"
            ],
            "text/plain": [
              "       year  price transmission  mileage  tax   mpg  engineSize\n",
              "11816  2003    650       Manual   109090  235  40.0         1.4\n",
              "12008  2010   1350       Manual   116126  145  54.3         2.0\n",
              "11765  2000   1490    Automatic    87000  265  27.2         3.2\n",
              "11549  2002   1495    Automatic    13800  305  39.8         2.7\n",
              "12594  2004   1495       Manual   119000  300  34.5         1.8\n",
              "11174  2001   1695    Automatic   108800  325  31.7         3.2\n",
              "12710  2006   1695    Automatic   153000  300  33.6         1.8\n",
              "12766  2004   1780    Automatic   118000  265  41.5         2.2\n",
              "12009  2007   1800    Automatic    84000  200  42.8         1.5\n",
              "11764  1998   1990    Automatic    99300  265  32.1         2.3\n",
              "11808  1998   1990    Automatic   113557  265  32.1         2.3\n",
              "11383  2005   1995    Automatic   105000  260  43.5         2.1\n",
              "11378  2004   1995    Semi-Auto   165000  330  20.0         3.7\n",
              "11857  2002   2140    Automatic    52700  325  31.4         2.0\n",
              "11906  2007   2478    Automatic    81000  160  49.6         2.0\n",
              "11795  2005   2490    Automatic   101980  200  47.9         2.0\n",
              "12765  2004   2495    Automatic   104000  325  31.7         1.8\n",
              "11943  2005   2690    Automatic   109000  325  32.1         1.8\n",
              "11263  2007   2795       Manual    79485  200  45.6         1.5\n",
              "49     2006   2880    Automatic    66000  160  52.3         2.0"
            ]
          },
          "metadata": {},
          "execution_count": 17
        }
      ]
    },
    {
      "cell_type": "code",
      "metadata": {
        "colab": {
          "base_uri": "https://localhost:8080/"
        },
        "id": "OYz9tXypT-ex",
        "outputId": "d9f32c1e-0d43-4870-fb62-cabb552a0d6f"
      },
      "source": [
        "len(dataFrame)"
      ],
      "execution_count": null,
      "outputs": [
        {
          "output_type": "execute_result",
          "data": {
            "text/plain": [
              "13119"
            ]
          },
          "metadata": {},
          "execution_count": 18
        }
      ]
    },
    {
      "cell_type": "code",
      "metadata": {
        "colab": {
          "base_uri": "https://localhost:8080/"
        },
        "id": "IPdBdAd0UMFp",
        "outputId": "ea4cd8c5-f9e0-4bbb-a947-7e52ebb701f3"
      },
      "source": [
        "len(dataFrame)*0.01  #verinin yüzde birini atacağız.(en pahalı arabaları)"
      ],
      "execution_count": null,
      "outputs": [
        {
          "output_type": "execute_result",
          "data": {
            "text/plain": [
              "131.19"
            ]
          },
          "metadata": {},
          "execution_count": 20
        }
      ]
    },
    {
      "cell_type": "markdown",
      "metadata": {
        "id": "oa0118_LUoee"
      },
      "source": [
        "#veri temizliği"
      ]
    },
    {
      "cell_type": "code",
      "metadata": {
        "colab": {
          "base_uri": "https://localhost:8080/",
          "height": 417
        },
        "id": "YQW0jeqfUWCz",
        "outputId": "54bd1f1f-0d1a-4d88-8207-1a76986ef67c"
      },
      "source": [
        "#iloc : indexe göre locate et\n",
        "dataFrame.sort_values(\"price\",ascending=False).iloc[131:] #burda 131.den sonraki listeyi getirecek"
      ],
      "execution_count": null,
      "outputs": [
        {
          "output_type": "execute_result",
          "data": {
            "text/html": [
              "<div>\n",
              "<style scoped>\n",
              "    .dataframe tbody tr th:only-of-type {\n",
              "        vertical-align: middle;\n",
              "    }\n",
              "\n",
              "    .dataframe tbody tr th {\n",
              "        vertical-align: top;\n",
              "    }\n",
              "\n",
              "    .dataframe thead th {\n",
              "        text-align: right;\n",
              "    }\n",
              "</style>\n",
              "<table border=\"1\" class=\"dataframe\">\n",
              "  <thead>\n",
              "    <tr style=\"text-align: right;\">\n",
              "      <th></th>\n",
              "      <th>year</th>\n",
              "      <th>price</th>\n",
              "      <th>transmission</th>\n",
              "      <th>mileage</th>\n",
              "      <th>tax</th>\n",
              "      <th>mpg</th>\n",
              "      <th>engineSize</th>\n",
              "    </tr>\n",
              "  </thead>\n",
              "  <tbody>\n",
              "    <tr>\n",
              "      <th>6177</th>\n",
              "      <td>2019</td>\n",
              "      <td>65990</td>\n",
              "      <td>Semi-Auto</td>\n",
              "      <td>5076</td>\n",
              "      <td>150</td>\n",
              "      <td>30.4</td>\n",
              "      <td>3.0</td>\n",
              "    </tr>\n",
              "    <tr>\n",
              "      <th>5779</th>\n",
              "      <td>2020</td>\n",
              "      <td>65990</td>\n",
              "      <td>Semi-Auto</td>\n",
              "      <td>999</td>\n",
              "      <td>145</td>\n",
              "      <td>28.0</td>\n",
              "      <td>4.0</td>\n",
              "    </tr>\n",
              "    <tr>\n",
              "      <th>3191</th>\n",
              "      <td>2020</td>\n",
              "      <td>65980</td>\n",
              "      <td>Semi-Auto</td>\n",
              "      <td>3999</td>\n",
              "      <td>145</td>\n",
              "      <td>28.0</td>\n",
              "      <td>4.0</td>\n",
              "    </tr>\n",
              "    <tr>\n",
              "      <th>4727</th>\n",
              "      <td>2019</td>\n",
              "      <td>65000</td>\n",
              "      <td>Semi-Auto</td>\n",
              "      <td>3398</td>\n",
              "      <td>145</td>\n",
              "      <td>27.2</td>\n",
              "      <td>4.0</td>\n",
              "    </tr>\n",
              "    <tr>\n",
              "      <th>8814</th>\n",
              "      <td>2019</td>\n",
              "      <td>64999</td>\n",
              "      <td>Semi-Auto</td>\n",
              "      <td>119</td>\n",
              "      <td>145</td>\n",
              "      <td>40.9</td>\n",
              "      <td>3.0</td>\n",
              "    </tr>\n",
              "    <tr>\n",
              "      <th>...</th>\n",
              "      <td>...</td>\n",
              "      <td>...</td>\n",
              "      <td>...</td>\n",
              "      <td>...</td>\n",
              "      <td>...</td>\n",
              "      <td>...</td>\n",
              "      <td>...</td>\n",
              "    </tr>\n",
              "    <tr>\n",
              "      <th>11549</th>\n",
              "      <td>2002</td>\n",
              "      <td>1495</td>\n",
              "      <td>Automatic</td>\n",
              "      <td>13800</td>\n",
              "      <td>305</td>\n",
              "      <td>39.8</td>\n",
              "      <td>2.7</td>\n",
              "    </tr>\n",
              "    <tr>\n",
              "      <th>12594</th>\n",
              "      <td>2004</td>\n",
              "      <td>1495</td>\n",
              "      <td>Manual</td>\n",
              "      <td>119000</td>\n",
              "      <td>300</td>\n",
              "      <td>34.5</td>\n",
              "      <td>1.8</td>\n",
              "    </tr>\n",
              "    <tr>\n",
              "      <th>11765</th>\n",
              "      <td>2000</td>\n",
              "      <td>1490</td>\n",
              "      <td>Automatic</td>\n",
              "      <td>87000</td>\n",
              "      <td>265</td>\n",
              "      <td>27.2</td>\n",
              "      <td>3.2</td>\n",
              "    </tr>\n",
              "    <tr>\n",
              "      <th>12008</th>\n",
              "      <td>2010</td>\n",
              "      <td>1350</td>\n",
              "      <td>Manual</td>\n",
              "      <td>116126</td>\n",
              "      <td>145</td>\n",
              "      <td>54.3</td>\n",
              "      <td>2.0</td>\n",
              "    </tr>\n",
              "    <tr>\n",
              "      <th>11816</th>\n",
              "      <td>2003</td>\n",
              "      <td>650</td>\n",
              "      <td>Manual</td>\n",
              "      <td>109090</td>\n",
              "      <td>235</td>\n",
              "      <td>40.0</td>\n",
              "      <td>1.4</td>\n",
              "    </tr>\n",
              "  </tbody>\n",
              "</table>\n",
              "<p>12988 rows × 7 columns</p>\n",
              "</div>"
            ],
            "text/plain": [
              "       year  price transmission  mileage  tax   mpg  engineSize\n",
              "6177   2019  65990    Semi-Auto     5076  150  30.4         3.0\n",
              "5779   2020  65990    Semi-Auto      999  145  28.0         4.0\n",
              "3191   2020  65980    Semi-Auto     3999  145  28.0         4.0\n",
              "4727   2019  65000    Semi-Auto     3398  145  27.2         4.0\n",
              "8814   2019  64999    Semi-Auto      119  145  40.9         3.0\n",
              "...     ...    ...          ...      ...  ...   ...         ...\n",
              "11549  2002   1495    Automatic    13800  305  39.8         2.7\n",
              "12594  2004   1495       Manual   119000  300  34.5         1.8\n",
              "11765  2000   1490    Automatic    87000  265  27.2         3.2\n",
              "12008  2010   1350       Manual   116126  145  54.3         2.0\n",
              "11816  2003    650       Manual   109090  235  40.0         1.4\n",
              "\n",
              "[12988 rows x 7 columns]"
            ]
          },
          "metadata": {},
          "execution_count": 21
        }
      ]
    },
    {
      "cell_type": "code",
      "metadata": {
        "id": "eHNCeZERVLG1"
      },
      "source": [
        "yuzdeDoksanDokuzDF= dataFrame.sort_values(\"price\",ascending=False).iloc[131:]"
      ],
      "execution_count": null,
      "outputs": []
    },
    {
      "cell_type": "code",
      "metadata": {
        "colab": {
          "base_uri": "https://localhost:8080/",
          "height": 295
        },
        "id": "bPgcHdNnVYP1",
        "outputId": "f3d310f9-030d-4e43-a0a0-a442b8623c02"
      },
      "source": [
        "yuzdeDoksanDokuzDF.describe()"
      ],
      "execution_count": null,
      "outputs": [
        {
          "output_type": "execute_result",
          "data": {
            "text/html": [
              "<div>\n",
              "<style scoped>\n",
              "    .dataframe tbody tr th:only-of-type {\n",
              "        vertical-align: middle;\n",
              "    }\n",
              "\n",
              "    .dataframe tbody tr th {\n",
              "        vertical-align: top;\n",
              "    }\n",
              "\n",
              "    .dataframe thead th {\n",
              "        text-align: right;\n",
              "    }\n",
              "</style>\n",
              "<table border=\"1\" class=\"dataframe\">\n",
              "  <thead>\n",
              "    <tr style=\"text-align: right;\">\n",
              "      <th></th>\n",
              "      <th>year</th>\n",
              "      <th>price</th>\n",
              "      <th>mileage</th>\n",
              "      <th>tax</th>\n",
              "      <th>mpg</th>\n",
              "      <th>engineSize</th>\n",
              "    </tr>\n",
              "  </thead>\n",
              "  <tbody>\n",
              "    <tr>\n",
              "      <th>count</th>\n",
              "      <td>12988.000000</td>\n",
              "      <td>12988.000000</td>\n",
              "      <td>12988.000000</td>\n",
              "      <td>12988.000000</td>\n",
              "      <td>12988.000000</td>\n",
              "      <td>12988.000000</td>\n",
              "    </tr>\n",
              "    <tr>\n",
              "      <th>mean</th>\n",
              "      <td>2017.281876</td>\n",
              "      <td>24074.926933</td>\n",
              "      <td>22132.741146</td>\n",
              "      <td>129.689714</td>\n",
              "      <td>55.437142</td>\n",
              "      <td>2.050901</td>\n",
              "    </tr>\n",
              "    <tr>\n",
              "      <th>std</th>\n",
              "      <td>2.228515</td>\n",
              "      <td>9866.224575</td>\n",
              "      <td>21196.776401</td>\n",
              "      <td>65.183076</td>\n",
              "      <td>15.025999</td>\n",
              "      <td>0.532596</td>\n",
              "    </tr>\n",
              "    <tr>\n",
              "      <th>min</th>\n",
              "      <td>1970.000000</td>\n",
              "      <td>650.000000</td>\n",
              "      <td>1.000000</td>\n",
              "      <td>0.000000</td>\n",
              "      <td>1.100000</td>\n",
              "      <td>0.000000</td>\n",
              "    </tr>\n",
              "    <tr>\n",
              "      <th>25%</th>\n",
              "      <td>2016.000000</td>\n",
              "      <td>17357.500000</td>\n",
              "      <td>6322.000000</td>\n",
              "      <td>125.000000</td>\n",
              "      <td>45.600000</td>\n",
              "      <td>1.675000</td>\n",
              "    </tr>\n",
              "    <tr>\n",
              "      <th>50%</th>\n",
              "      <td>2018.000000</td>\n",
              "      <td>22299.000000</td>\n",
              "      <td>15369.500000</td>\n",
              "      <td>145.000000</td>\n",
              "      <td>56.500000</td>\n",
              "      <td>2.000000</td>\n",
              "    </tr>\n",
              "    <tr>\n",
              "      <th>75%</th>\n",
              "      <td>2019.000000</td>\n",
              "      <td>28706.000000</td>\n",
              "      <td>31982.250000</td>\n",
              "      <td>145.000000</td>\n",
              "      <td>64.200000</td>\n",
              "      <td>2.100000</td>\n",
              "    </tr>\n",
              "    <tr>\n",
              "      <th>max</th>\n",
              "      <td>2020.000000</td>\n",
              "      <td>65990.000000</td>\n",
              "      <td>259000.000000</td>\n",
              "      <td>580.000000</td>\n",
              "      <td>217.300000</td>\n",
              "      <td>6.200000</td>\n",
              "    </tr>\n",
              "  </tbody>\n",
              "</table>\n",
              "</div>"
            ],
            "text/plain": [
              "               year         price  ...           mpg    engineSize\n",
              "count  12988.000000  12988.000000  ...  12988.000000  12988.000000\n",
              "mean    2017.281876  24074.926933  ...     55.437142      2.050901\n",
              "std        2.228515   9866.224575  ...     15.025999      0.532596\n",
              "min     1970.000000    650.000000  ...      1.100000      0.000000\n",
              "25%     2016.000000  17357.500000  ...     45.600000      1.675000\n",
              "50%     2018.000000  22299.000000  ...     56.500000      2.000000\n",
              "75%     2019.000000  28706.000000  ...     64.200000      2.100000\n",
              "max     2020.000000  65990.000000  ...    217.300000      6.200000\n",
              "\n",
              "[8 rows x 6 columns]"
            ]
          },
          "metadata": {},
          "execution_count": 23
        }
      ]
    },
    {
      "cell_type": "code",
      "metadata": {
        "colab": {
          "base_uri": "https://localhost:8080/",
          "height": 415
        },
        "id": "qJiTAcf8Vg5Y",
        "outputId": "af5d0a23-2d2d-4642-b259-278c033bdb6b"
      },
      "source": [
        "plt.figure(figsize=(7,5))\n",
        "sbn.distplot(yuzdeDoksanDokuzDF[\"price\"])"
      ],
      "execution_count": null,
      "outputs": [
        {
          "output_type": "stream",
          "text": [
            "/usr/local/lib/python3.7/dist-packages/seaborn/distributions.py:2557: FutureWarning: `distplot` is a deprecated function and will be removed in a future version. Please adapt your code to use either `displot` (a figure-level function with similar flexibility) or `histplot` (an axes-level function for histograms).\n",
            "  warnings.warn(msg, FutureWarning)\n"
          ],
          "name": "stderr"
        },
        {
          "output_type": "execute_result",
          "data": {
            "text/plain": [
              "<matplotlib.axes._subplots.AxesSubplot at 0x7f1d660a5e90>"
            ]
          },
          "metadata": {},
          "execution_count": 24
        },
        {
          "output_type": "display_data",
          "data": {
            "image/png": "[encoded data removed]",
            "text/plain": [
              "<Figure size 504x360 with 1 Axes>"
            ]
          },
          "metadata": {
            "needs_background": "light"
          }
        }
      ]
    },
    {
      "cell_type": "code",
      "metadata": {
        "colab": {
          "base_uri": "https://localhost:8080/"
        },
        "id": "iU1stYXwWJCk",
        "outputId": "58f79878-daee-44c7-a794-6a22f074aed7"
      },
      "source": [
        "dataFrame.groupby(\"year\").mean()[\"price\"]"
      ],
      "execution_count": null,
      "outputs": [
        {
          "output_type": "execute_result",
          "data": {
            "text/plain": [
              "year\n",
              "1970    24999.000000\n",
              "1997     9995.000000\n",
              "1998     8605.000000\n",
              "1999     5995.000000\n",
              "2000     5743.333333\n",
              "2001     4957.900000\n",
              "2002     5820.444444\n",
              "2003     4878.000000\n",
              "2004     4727.615385\n",
              "2005     4426.111111\n",
              "2006     4036.875000\n",
              "2007     5136.045455\n",
              "2008     6967.437500\n",
              "2009     6166.764706\n",
              "2010     8308.473684\n",
              "2011    12624.894737\n",
              "2012    10845.140351\n",
              "2013    11939.842466\n",
              "2014    14042.936864\n",
              "2015    16731.780020\n",
              "2016    19307.892948\n",
              "2017    21514.307854\n",
              "2018    25720.162918\n",
              "2019    31290.020865\n",
              "2020    35433.282337\n",
              "Name: price, dtype: float64"
            ]
          },
          "metadata": {},
          "execution_count": 25
        }
      ]
    },
    {
      "cell_type": "markdown",
      "metadata": {
        "id": "7JpfI4yIWnfI"
      },
      "source": [
        "1970 arabası ortalama 24999.000000 fiyata satılmış.(1970 de satılan arabanın fiyatı 2017 ile yakın garip bir durum.) 1970i çıkarmalıyız.\n"
      ]
    },
    {
      "cell_type": "code",
      "metadata": {
        "colab": {
          "base_uri": "https://localhost:8080/"
        },
        "id": "j-moYOGyWiE_",
        "outputId": "05df8dc4-d5a3-439f-96c6-0bc804050a92"
      },
      "source": [
        "yuzdeDoksanDokuzDF.groupby(\"year\").mean()[\"price\"]"
      ],
      "execution_count": null,
      "outputs": [
        {
          "output_type": "execute_result",
          "data": {
            "text/plain": [
              "year\n",
              "1970    24999.000000\n",
              "1997     9995.000000\n",
              "1998     8605.000000\n",
              "1999     5995.000000\n",
              "2000     5743.333333\n",
              "2001     4957.900000\n",
              "2002     5820.444444\n",
              "2003     4878.000000\n",
              "2004     4727.615385\n",
              "2005     4426.111111\n",
              "2006     4036.875000\n",
              "2007     5136.045455\n",
              "2008     6967.437500\n",
              "2009     6166.764706\n",
              "2010     8308.473684\n",
              "2011     8913.459459\n",
              "2012    10845.140351\n",
              "2013    11939.842466\n",
              "2014    14042.936864\n",
              "2015    16647.822222\n",
              "2016    19223.558943\n",
              "2017    21356.280421\n",
              "2018    24800.844506\n",
              "2019    30289.524832\n",
              "2020    34234.794872\n",
              "Name: price, dtype: float64"
            ]
          },
          "metadata": {},
          "execution_count": 26
        }
      ]
    },
    {
      "cell_type": "markdown",
      "metadata": {
        "id": "ls1Cr9d4XkmX"
      },
      "source": [
        "düzelttiğimiz veride de durum aynı 1970 i çıkaracağız."
      ]
    },
    {
      "cell_type": "code",
      "metadata": {
        "colab": {
          "base_uri": "https://localhost:8080/"
        },
        "id": "wPDtjnbRXjIe",
        "outputId": "9f4b9122-1f5f-4278-a6f8-16c651ea15c0"
      },
      "source": [
        "dataFrame[dataFrame.year != 1970].groupby(\"year\").mean()[\"price\"]"
      ],
      "execution_count": null,
      "outputs": [
        {
          "output_type": "execute_result",
          "data": {
            "text/plain": [
              "year\n",
              "1997     9995.000000\n",
              "1998     8605.000000\n",
              "1999     5995.000000\n",
              "2000     5743.333333\n",
              "2001     4957.900000\n",
              "2002     5820.444444\n",
              "2003     4878.000000\n",
              "2004     4727.615385\n",
              "2005     4426.111111\n",
              "2006     4036.875000\n",
              "2007     5136.045455\n",
              "2008     6967.437500\n",
              "2009     6166.764706\n",
              "2010     8308.473684\n",
              "2011    12624.894737\n",
              "2012    10845.140351\n",
              "2013    11939.842466\n",
              "2014    14042.936864\n",
              "2015    16731.780020\n",
              "2016    19307.892948\n",
              "2017    21514.307854\n",
              "2018    25720.162918\n",
              "2019    31290.020865\n",
              "2020    35433.282337\n",
              "Name: price, dtype: float64"
            ]
          },
          "metadata": {},
          "execution_count": 28
        }
      ]
    },
    {
      "cell_type": "markdown",
      "metadata": {
        "id": "D2KmpGjzYooQ"
      },
      "source": [
        "dataFrame ile yuzde doksandokuzluk veri eşitleyecegız"
      ]
    },
    {
      "cell_type": "code",
      "metadata": {
        "id": "6fLD4sKlYNhf"
      },
      "source": [
        "dataFrame=yuzdeDoksanDokuzDF"
      ],
      "execution_count": null,
      "outputs": []
    },
    {
      "cell_type": "code",
      "metadata": {
        "colab": {
          "base_uri": "https://localhost:8080/",
          "height": 295
        },
        "id": "MbWhzGyHYxXZ",
        "outputId": "bfc1748b-98ce-438b-ccab-30cdec066874"
      },
      "source": [
        "dataFrame.describe()"
      ],
      "execution_count": null,
      "outputs": [
        {
          "output_type": "execute_result",
          "data": {
            "text/html": [
              "<div>\n",
              "<style scoped>\n",
              "    .dataframe tbody tr th:only-of-type {\n",
              "        vertical-align: middle;\n",
              "    }\n",
              "\n",
              "    .dataframe tbody tr th {\n",
              "        vertical-align: top;\n",
              "    }\n",
              "\n",
              "    .dataframe thead th {\n",
              "        text-align: right;\n",
              "    }\n",
              "</style>\n",
              "<table border=\"1\" class=\"dataframe\">\n",
              "  <thead>\n",
              "    <tr style=\"text-align: right;\">\n",
              "      <th></th>\n",
              "      <th>year</th>\n",
              "      <th>price</th>\n",
              "      <th>mileage</th>\n",
              "      <th>tax</th>\n",
              "      <th>mpg</th>\n",
              "      <th>engineSize</th>\n",
              "    </tr>\n",
              "  </thead>\n",
              "  <tbody>\n",
              "    <tr>\n",
              "      <th>count</th>\n",
              "      <td>12988.000000</td>\n",
              "      <td>12988.000000</td>\n",
              "      <td>12988.000000</td>\n",
              "      <td>12988.000000</td>\n",
              "      <td>12988.000000</td>\n",
              "      <td>12988.000000</td>\n",
              "    </tr>\n",
              "    <tr>\n",
              "      <th>mean</th>\n",
              "      <td>2017.281876</td>\n",
              "      <td>24074.926933</td>\n",
              "      <td>22132.741146</td>\n",
              "      <td>129.689714</td>\n",
              "      <td>55.437142</td>\n",
              "      <td>2.050901</td>\n",
              "    </tr>\n",
              "    <tr>\n",
              "      <th>std</th>\n",
              "      <td>2.228515</td>\n",
              "      <td>9866.224575</td>\n",
              "      <td>21196.776401</td>\n",
              "      <td>65.183076</td>\n",
              "      <td>15.025999</td>\n",
              "      <td>0.532596</td>\n",
              "    </tr>\n",
              "    <tr>\n",
              "      <th>min</th>\n",
              "      <td>1970.000000</td>\n",
              "      <td>650.000000</td>\n",
              "      <td>1.000000</td>\n",
              "      <td>0.000000</td>\n",
              "      <td>1.100000</td>\n",
              "      <td>0.000000</td>\n",
              "    </tr>\n",
              "    <tr>\n",
              "      <th>25%</th>\n",
              "      <td>2016.000000</td>\n",
              "      <td>17357.500000</td>\n",
              "      <td>6322.000000</td>\n",
              "      <td>125.000000</td>\n",
              "      <td>45.600000</td>\n",
              "      <td>1.675000</td>\n",
              "    </tr>\n",
              "    <tr>\n",
              "      <th>50%</th>\n",
              "      <td>2018.000000</td>\n",
              "      <td>22299.000000</td>\n",
              "      <td>15369.500000</td>\n",
              "      <td>145.000000</td>\n",
              "      <td>56.500000</td>\n",
              "      <td>2.000000</td>\n",
              "    </tr>\n",
              "    <tr>\n",
              "      <th>75%</th>\n",
              "      <td>2019.000000</td>\n",
              "      <td>28706.000000</td>\n",
              "      <td>31982.250000</td>\n",
              "      <td>145.000000</td>\n",
              "      <td>64.200000</td>\n",
              "      <td>2.100000</td>\n",
              "    </tr>\n",
              "    <tr>\n",
              "      <th>max</th>\n",
              "      <td>2020.000000</td>\n",
              "      <td>65990.000000</td>\n",
              "      <td>259000.000000</td>\n",
              "      <td>580.000000</td>\n",
              "      <td>217.300000</td>\n",
              "      <td>6.200000</td>\n",
              "    </tr>\n",
              "  </tbody>\n",
              "</table>\n",
              "</div>"
            ],
            "text/plain": [
              "               year         price  ...           mpg    engineSize\n",
              "count  12988.000000  12988.000000  ...  12988.000000  12988.000000\n",
              "mean    2017.281876  24074.926933  ...     55.437142      2.050901\n",
              "std        2.228515   9866.224575  ...     15.025999      0.532596\n",
              "min     1970.000000    650.000000  ...      1.100000      0.000000\n",
              "25%     2016.000000  17357.500000  ...     45.600000      1.675000\n",
              "50%     2018.000000  22299.000000  ...     56.500000      2.000000\n",
              "75%     2019.000000  28706.000000  ...     64.200000      2.100000\n",
              "max     2020.000000  65990.000000  ...    217.300000      6.200000\n",
              "\n",
              "[8 rows x 6 columns]"
            ]
          },
          "metadata": {},
          "execution_count": 30
        }
      ]
    },
    {
      "cell_type": "code",
      "metadata": {
        "id": "KtELr1mWYz4E"
      },
      "source": [
        "dataFrame= dataFrame[dataFrame.year != 1970]"
      ],
      "execution_count": null,
      "outputs": []
    },
    {
      "cell_type": "code",
      "metadata": {
        "colab": {
          "base_uri": "https://localhost:8080/"
        },
        "id": "BiMHUIJdZDSk",
        "outputId": "6f2c00c6-4e36-43dd-df41-c219184b8f04"
      },
      "source": [
        "dataFrame.groupby(\"year\").mean()[\"price\"]"
      ],
      "execution_count": null,
      "outputs": [
        {
          "output_type": "execute_result",
          "data": {
            "text/plain": [
              "year\n",
              "1997     9995.000000\n",
              "1998     8605.000000\n",
              "1999     5995.000000\n",
              "2000     5743.333333\n",
              "2001     4957.900000\n",
              "2002     5820.444444\n",
              "2003     4878.000000\n",
              "2004     4727.615385\n",
              "2005     4426.111111\n",
              "2006     4036.875000\n",
              "2007     5136.045455\n",
              "2008     6967.437500\n",
              "2009     6166.764706\n",
              "2010     8308.473684\n",
              "2011     8913.459459\n",
              "2012    10845.140351\n",
              "2013    11939.842466\n",
              "2014    14042.936864\n",
              "2015    16647.822222\n",
              "2016    19223.558943\n",
              "2017    21356.280421\n",
              "2018    24800.844506\n",
              "2019    30289.524832\n",
              "2020    34234.794872\n",
              "Name: price, dtype: float64"
            ]
          },
          "metadata": {},
          "execution_count": 32
        }
      ]
    },
    {
      "cell_type": "code",
      "metadata": {
        "colab": {
          "base_uri": "https://localhost:8080/",
          "height": 203
        },
        "id": "Cnd10ipYZQw5",
        "outputId": "dca13d78-0e39-4575-faff-c428064d660d"
      },
      "source": [
        "dataFrame.head()"
      ],
      "execution_count": null,
      "outputs": [
        {
          "output_type": "execute_result",
          "data": {
            "text/html": [
              "<div>\n",
              "<style scoped>\n",
              "    .dataframe tbody tr th:only-of-type {\n",
              "        vertical-align: middle;\n",
              "    }\n",
              "\n",
              "    .dataframe tbody tr th {\n",
              "        vertical-align: top;\n",
              "    }\n",
              "\n",
              "    .dataframe thead th {\n",
              "        text-align: right;\n",
              "    }\n",
              "</style>\n",
              "<table border=\"1\" class=\"dataframe\">\n",
              "  <thead>\n",
              "    <tr style=\"text-align: right;\">\n",
              "      <th></th>\n",
              "      <th>year</th>\n",
              "      <th>price</th>\n",
              "      <th>transmission</th>\n",
              "      <th>mileage</th>\n",
              "      <th>tax</th>\n",
              "      <th>mpg</th>\n",
              "      <th>engineSize</th>\n",
              "    </tr>\n",
              "  </thead>\n",
              "  <tbody>\n",
              "    <tr>\n",
              "      <th>6177</th>\n",
              "      <td>2019</td>\n",
              "      <td>65990</td>\n",
              "      <td>Semi-Auto</td>\n",
              "      <td>5076</td>\n",
              "      <td>150</td>\n",
              "      <td>30.4</td>\n",
              "      <td>3.0</td>\n",
              "    </tr>\n",
              "    <tr>\n",
              "      <th>5779</th>\n",
              "      <td>2020</td>\n",
              "      <td>65990</td>\n",
              "      <td>Semi-Auto</td>\n",
              "      <td>999</td>\n",
              "      <td>145</td>\n",
              "      <td>28.0</td>\n",
              "      <td>4.0</td>\n",
              "    </tr>\n",
              "    <tr>\n",
              "      <th>3191</th>\n",
              "      <td>2020</td>\n",
              "      <td>65980</td>\n",
              "      <td>Semi-Auto</td>\n",
              "      <td>3999</td>\n",
              "      <td>145</td>\n",
              "      <td>28.0</td>\n",
              "      <td>4.0</td>\n",
              "    </tr>\n",
              "    <tr>\n",
              "      <th>4727</th>\n",
              "      <td>2019</td>\n",
              "      <td>65000</td>\n",
              "      <td>Semi-Auto</td>\n",
              "      <td>3398</td>\n",
              "      <td>145</td>\n",
              "      <td>27.2</td>\n",
              "      <td>4.0</td>\n",
              "    </tr>\n",
              "    <tr>\n",
              "      <th>8814</th>\n",
              "      <td>2019</td>\n",
              "      <td>64999</td>\n",
              "      <td>Semi-Auto</td>\n",
              "      <td>119</td>\n",
              "      <td>145</td>\n",
              "      <td>40.9</td>\n",
              "      <td>3.0</td>\n",
              "    </tr>\n",
              "  </tbody>\n",
              "</table>\n",
              "</div>"
            ],
            "text/plain": [
              "      year  price transmission  mileage  tax   mpg  engineSize\n",
              "6177  2019  65990    Semi-Auto     5076  150  30.4         3.0\n",
              "5779  2020  65990    Semi-Auto      999  145  28.0         4.0\n",
              "3191  2020  65980    Semi-Auto     3999  145  28.0         4.0\n",
              "4727  2019  65000    Semi-Auto     3398  145  27.2         4.0\n",
              "8814  2019  64999    Semi-Auto      119  145  40.9         3.0"
            ]
          },
          "metadata": {},
          "execution_count": 33
        }
      ]
    },
    {
      "cell_type": "markdown",
      "metadata": {
        "id": "Z4dL9gkCZYUG"
      },
      "source": [
        "burada gereksiz transmission kolonu var (katogorik değişken),atarsak"
      ]
    },
    {
      "cell_type": "code",
      "metadata": {
        "id": "K6vv-RxyZl1g"
      },
      "source": [
        "dataFrame=dataFrame.drop(\"transmission\",axis=1)  #iki defa çalıştırdıgımdan hata verdi o değişken yok diye \n",
        "#bu fonksiyon ile transmission kolonunu sildik."
      ],
      "execution_count": null,
      "outputs": []
    },
    {
      "cell_type": "code",
      "metadata": {
        "colab": {
          "base_uri": "https://localhost:8080/",
          "height": 203
        },
        "id": "VckR28kraPXV",
        "outputId": "17409783-373c-4172-a830-0b9146a94f17"
      },
      "source": [
        "dataFrame.head()"
      ],
      "execution_count": null,
      "outputs": [
        {
          "output_type": "execute_result",
          "data": {
            "text/html": [
              "<div>\n",
              "<style scoped>\n",
              "    .dataframe tbody tr th:only-of-type {\n",
              "        vertical-align: middle;\n",
              "    }\n",
              "\n",
              "    .dataframe tbody tr th {\n",
              "        vertical-align: top;\n",
              "    }\n",
              "\n",
              "    .dataframe thead th {\n",
              "        text-align: right;\n",
              "    }\n",
              "</style>\n",
              "<table border=\"1\" class=\"dataframe\">\n",
              "  <thead>\n",
              "    <tr style=\"text-align: right;\">\n",
              "      <th></th>\n",
              "      <th>year</th>\n",
              "      <th>price</th>\n",
              "      <th>mileage</th>\n",
              "      <th>tax</th>\n",
              "      <th>mpg</th>\n",
              "      <th>engineSize</th>\n",
              "    </tr>\n",
              "  </thead>\n",
              "  <tbody>\n",
              "    <tr>\n",
              "      <th>6177</th>\n",
              "      <td>2019</td>\n",
              "      <td>65990</td>\n",
              "      <td>5076</td>\n",
              "      <td>150</td>\n",
              "      <td>30.4</td>\n",
              "      <td>3.0</td>\n",
              "    </tr>\n",
              "    <tr>\n",
              "      <th>5779</th>\n",
              "      <td>2020</td>\n",
              "      <td>65990</td>\n",
              "      <td>999</td>\n",
              "      <td>145</td>\n",
              "      <td>28.0</td>\n",
              "      <td>4.0</td>\n",
              "    </tr>\n",
              "    <tr>\n",
              "      <th>3191</th>\n",
              "      <td>2020</td>\n",
              "      <td>65980</td>\n",
              "      <td>3999</td>\n",
              "      <td>145</td>\n",
              "      <td>28.0</td>\n",
              "      <td>4.0</td>\n",
              "    </tr>\n",
              "    <tr>\n",
              "      <th>4727</th>\n",
              "      <td>2019</td>\n",
              "      <td>65000</td>\n",
              "      <td>3398</td>\n",
              "      <td>145</td>\n",
              "      <td>27.2</td>\n",
              "      <td>4.0</td>\n",
              "    </tr>\n",
              "    <tr>\n",
              "      <th>8814</th>\n",
              "      <td>2019</td>\n",
              "      <td>64999</td>\n",
              "      <td>119</td>\n",
              "      <td>145</td>\n",
              "      <td>40.9</td>\n",
              "      <td>3.0</td>\n",
              "    </tr>\n",
              "  </tbody>\n",
              "</table>\n",
              "</div>"
            ],
            "text/plain": [
              "      year  price  mileage  tax   mpg  engineSize\n",
              "6177  2019  65990     5076  150  30.4         3.0\n",
              "5779  2020  65990      999  145  28.0         4.0\n",
              "3191  2020  65980     3999  145  28.0         4.0\n",
              "4727  2019  65000     3398  145  27.2         4.0\n",
              "8814  2019  64999      119  145  40.9         3.0"
            ]
          },
          "metadata": {},
          "execution_count": 37
        }
      ]
    },
    {
      "cell_type": "markdown",
      "metadata": {
        "id": "m2yXsmF3Z672"
      },
      "source": [
        "#model oluşturmak"
      ]
    },
    {
      "cell_type": "code",
      "metadata": {
        "id": "HXZa8qZ-ZXQC"
      },
      "source": [
        "y=dataFrame[\"price\"].values\n",
        "x=dataFrame.drop(\"price\",axis=1).values "
      ],
      "execution_count": null,
      "outputs": []
    },
    {
      "cell_type": "code",
      "metadata": {
        "colab": {
          "base_uri": "https://localhost:8080/"
        },
        "id": "lLYqYUuTbTnA",
        "outputId": "917e75be-ae48-41f3-f641-176814531cc2"
      },
      "source": [
        "x"
      ],
      "execution_count": null,
      "outputs": [
        {
          "output_type": "execute_result",
          "data": {
            "text/plain": [
              "array([[2.01900e+03, 5.07600e+03, 1.50000e+02, 3.04000e+01, 3.00000e+00],\n",
              "       [2.02000e+03, 9.99000e+02, 1.45000e+02, 2.80000e+01, 4.00000e+00],\n",
              "       [2.02000e+03, 3.99900e+03, 1.45000e+02, 2.80000e+01, 4.00000e+00],\n",
              "       ...,\n",
              "       [2.00000e+03, 8.70000e+04, 2.65000e+02, 2.72000e+01, 3.20000e+00],\n",
              "       [2.01000e+03, 1.16126e+05, 1.45000e+02, 5.43000e+01, 2.00000e+00],\n",
              "       [2.00300e+03, 1.09090e+05, 2.35000e+02, 4.00000e+01, 1.40000e+00]])"
            ]
          },
          "metadata": {},
          "execution_count": 39
        }
      ]
    },
    {
      "cell_type": "code",
      "metadata": {
        "colab": {
          "base_uri": "https://localhost:8080/"
        },
        "id": "Jmg2JL0QbUSz",
        "outputId": "8e7e697b-cc76-4c61-e347-6797c81ada42"
      },
      "source": [
        "y"
      ],
      "execution_count": null,
      "outputs": [
        {
          "output_type": "execute_result",
          "data": {
            "text/plain": [
              "array([65990, 65990, 65980, ...,  1490,  1350,   650])"
            ]
          },
          "metadata": {},
          "execution_count": 40
        }
      ]
    },
    {
      "cell_type": "code",
      "metadata": {
        "id": "8FxlHpzZbU7f"
      },
      "source": [
        "from sklearn.model_selection import train_test_split"
      ],
      "execution_count": null,
      "outputs": []
    },
    {
      "cell_type": "code",
      "metadata": {
        "id": "oYIKhvjCbop3"
      },
      "source": [
        "x_train,x_test,y_train,y_test= train_test_split(x,y,test_size=0.3,random_state=10)"
      ],
      "execution_count": null,
      "outputs": []
    },
    {
      "cell_type": "code",
      "metadata": {
        "colab": {
          "base_uri": "https://localhost:8080/"
        },
        "id": "xXW1I7cQcbcU",
        "outputId": "debc8349-ce9d-42a2-97bb-01b31cb14253"
      },
      "source": [
        "len(x_train)"
      ],
      "execution_count": null,
      "outputs": [
        {
          "output_type": "execute_result",
          "data": {
            "text/plain": [
              "9090"
            ]
          },
          "metadata": {},
          "execution_count": 43
        }
      ]
    },
    {
      "cell_type": "code",
      "metadata": {
        "colab": {
          "base_uri": "https://localhost:8080/"
        },
        "id": "XOpRpAc5cdj_",
        "outputId": "9a2935d6-dcfe-4cbf-ddf7-135ce7165fde"
      },
      "source": [
        "len(x_test)"
      ],
      "execution_count": null,
      "outputs": [
        {
          "output_type": "execute_result",
          "data": {
            "text/plain": [
              "3897"
            ]
          },
          "metadata": {},
          "execution_count": 44
        }
      ]
    },
    {
      "cell_type": "code",
      "metadata": {
        "id": "MTnlIq9Lcg6i"
      },
      "source": [
        "from sklearn.preprocessing import MinMaxScaler"
      ],
      "execution_count": null,
      "outputs": []
    },
    {
      "cell_type": "code",
      "metadata": {
        "id": "4KLM-HQxcwe7"
      },
      "source": [
        "scaler = MinMaxScaler()"
      ],
      "execution_count": null,
      "outputs": []
    },
    {
      "cell_type": "code",
      "metadata": {
        "id": "RkCuWgeQc3X8"
      },
      "source": [
        "x_train = scaler.fit_transform(x_train)"
      ],
      "execution_count": null,
      "outputs": []
    },
    {
      "cell_type": "code",
      "metadata": {
        "id": "3xw3eKGidCRH"
      },
      "source": [
        "x_test= scaler.transform(x_test)"
      ],
      "execution_count": null,
      "outputs": []
    },
    {
      "cell_type": "code",
      "metadata": {
        "id": "-jlqju2VdKHH"
      },
      "source": [
        "from tensorflow.keras.models import Sequential\n",
        "from tensorflow.keras.layers import Dense"
      ],
      "execution_count": null,
      "outputs": []
    },
    {
      "cell_type": "code",
      "metadata": {
        "colab": {
          "base_uri": "https://localhost:8080/"
        },
        "id": "NS4dC7nueR5T",
        "outputId": "b669be37-f0f5-488b-87ef-dcd83da4bbba"
      },
      "source": [
        "x_train.shape"
      ],
      "execution_count": null,
      "outputs": [
        {
          "output_type": "execute_result",
          "data": {
            "text/plain": [
              "(9090, 5)"
            ]
          },
          "metadata": {},
          "execution_count": 50
        }
      ]
    },
    {
      "cell_type": "markdown",
      "metadata": {
        "id": "SK7Y6V4beX4O"
      },
      "source": [
        "not: bir değişken attık ,toplam 7 tane vardı 6 kaldı.fiyat değişkenini de y'ye aldık. katmanları 5 den başlatsak iyi olur,ama istemezsek ekleyebiliriz.  "
      ]
    },
    {
      "cell_type": "code",
      "metadata": {
        "id": "nms5xBaVeXEJ"
      },
      "source": [
        "model= Sequential()\n",
        "\n",
        "model.add(Dense(12,activation=\"relu\")) #katman ekledik, dense katmanı 12 oldu.\n",
        "model.add(Dense(12,activation=\"relu\"))\n",
        "model.add(Dense(12,activation=\"relu\"))\n",
        "model.add(Dense(12,activation=\"relu\"))\n",
        "\n",
        "model.add(Dense(1)) #çıkış katmanı\n",
        "\n",
        "model.compile(optimizer= \"adam\",loss=\"mse\")"
      ],
      "execution_count": null,
      "outputs": []
    },
    {
      "cell_type": "markdown",
      "metadata": {
        "id": "QVpoXZjLgaYP"
      },
      "source": [
        "#model eğitim"
      ]
    },
    {
      "cell_type": "markdown",
      "metadata": {
        "id": "AehNpgASgmSv"
      },
      "source": [
        "not:validasyon=doğrulama\n",
        "batch size = modele datayı parti parti verecek anlamında"
      ]
    },
    {
      "cell_type": "code",
      "metadata": {
        "colab": {
          "base_uri": "https://localhost:8080/"
        },
        "id": "5bDQBRDYgXHn",
        "outputId": "c63f5733-3cd7-48a8-9548-2de50eb37c59"
      },
      "source": [
        "model.fit(x=x_train,y=y_train,validation_data=(x_test,y_test),batch_size=250,epochs=300)"
      ],
      "execution_count": null,
      "outputs": [
        {
          "output_type": "stream",
          "text": [
            "Epoch 1/300\n",
            "37/37 [==============================] - 1s 6ms/step - loss: 672146944.0000 - val_loss: 688107264.0000\n",
            "Epoch 2/300\n",
            "37/37 [==============================] - 0s 2ms/step - loss: 672133760.0000 - val_loss: 688087232.0000\n",
            "Epoch 3/300\n",
            "37/37 [==============================] - 0s 2ms/step - loss: 672097792.0000 - val_loss: 688022912.0000\n",
            "Epoch 4/300\n",
            "37/37 [==============================] - 0s 2ms/step - loss: 671983360.0000 - val_loss: 687827520.0000\n",
            "Epoch 5/300\n",
            "37/37 [==============================] - 0s 2ms/step - loss: 671659904.0000 - val_loss: 687309440.0000\n",
            "Epoch 6/300\n",
            "37/37 [==============================] - 0s 2ms/step - loss: 670859968.0000 - val_loss: 686092672.0000\n",
            "Epoch 7/300\n",
            "37/37 [==============================] - 0s 2ms/step - loss: 669102144.0000 - val_loss: 683567040.0000\n",
            "Epoch 8/300\n",
            "37/37 [==============================] - 0s 2ms/step - loss: 665626304.0000 - val_loss: 678700160.0000\n",
            "Epoch 9/300\n",
            "37/37 [==============================] - 0s 2ms/step - loss: 659072320.0000 - val_loss: 669847808.0000\n",
            "Epoch 10/300\n",
            "37/37 [==============================] - 0s 2ms/step - loss: 647759040.0000 - val_loss: 655119552.0000\n",
            "Epoch 11/300\n",
            "37/37 [==============================] - 0s 2ms/step - loss: 629674304.0000 - val_loss: 632463936.0000\n",
            "Epoch 12/300\n",
            "37/37 [==============================] - 0s 2ms/step - loss: 602699456.0000 - val_loss: 599684864.0000\n",
            "Epoch 13/300\n",
            "37/37 [==============================] - 0s 3ms/step - loss: 564787904.0000 - val_loss: 555008448.0000\n",
            "Epoch 14/300\n",
            "37/37 [==============================] - 0s 2ms/step - loss: 514889216.0000 - val_loss: 497946880.0000\n",
            "Epoch 15/300\n",
            "37/37 [==============================] - 0s 2ms/step - loss: 453327744.0000 - val_loss: 429716192.0000\n",
            "Epoch 16/300\n",
            "37/37 [==============================] - 0s 2ms/step - loss: 382306528.0000 - val_loss: 354253280.0000\n",
            "Epoch 17/300\n",
            "37/37 [==============================] - 0s 2ms/step - loss: 307099712.0000 - val_loss: 277777216.0000\n",
            "Epoch 18/300\n",
            "37/37 [==============================] - 0s 2ms/step - loss: 235142576.0000 - val_loss: 208678704.0000\n",
            "Epoch 19/300\n",
            "37/37 [==============================] - 0s 2ms/step - loss: 174692384.0000 - val_loss: 154887280.0000\n",
            "Epoch 20/300\n",
            "37/37 [==============================] - 0s 3ms/step - loss: 131437144.0000 - val_loss: 120108568.0000\n",
            "Epoch 21/300\n",
            "37/37 [==============================] - 0s 2ms/step - loss: 106279848.0000 - val_loss: 101582848.0000\n",
            "Epoch 22/300\n",
            "37/37 [==============================] - 0s 2ms/step - loss: 94484000.0000 - val_loss: 93578544.0000\n",
            "Epoch 23/300\n",
            "37/37 [==============================] - 0s 2ms/step - loss: 89887936.0000 - val_loss: 90565296.0000\n",
            "Epoch 24/300\n",
            "37/37 [==============================] - 0s 3ms/step - loss: 88203296.0000 - val_loss: 89235256.0000\n",
            "Epoch 25/300\n",
            "37/37 [==============================] - 0s 2ms/step - loss: 87417136.0000 - val_loss: 88565904.0000\n",
            "Epoch 26/300\n",
            "37/37 [==============================] - 0s 2ms/step - loss: 86887200.0000 - val_loss: 87968800.0000\n",
            "Epoch 27/300\n",
            "37/37 [==============================] - 0s 2ms/step - loss: 86414056.0000 - val_loss: 87530968.0000\n",
            "Epoch 28/300\n",
            "37/37 [==============================] - 0s 3ms/step - loss: 85978304.0000 - val_loss: 87072456.0000\n",
            "Epoch 29/300\n",
            "37/37 [==============================] - 0s 3ms/step - loss: 85560696.0000 - val_loss: 86658632.0000\n",
            "Epoch 30/300\n",
            "37/37 [==============================] - 0s 3ms/step - loss: 85140520.0000 - val_loss: 86256096.0000\n",
            "Epoch 31/300\n",
            "37/37 [==============================] - 0s 3ms/step - loss: 84737296.0000 - val_loss: 85859104.0000\n",
            "Epoch 32/300\n",
            "37/37 [==============================] - 0s 3ms/step - loss: 84341848.0000 - val_loss: 85461784.0000\n",
            "Epoch 33/300\n",
            "37/37 [==============================] - 0s 2ms/step - loss: 83955560.0000 - val_loss: 85080544.0000\n",
            "Epoch 34/300\n",
            "37/37 [==============================] - 0s 2ms/step - loss: 83575464.0000 - val_loss: 84688360.0000\n",
            "Epoch 35/300\n",
            "37/37 [==============================] - 0s 3ms/step - loss: 83196784.0000 - val_loss: 84342704.0000\n",
            "Epoch 36/300\n",
            "37/37 [==============================] - 0s 3ms/step - loss: 82816912.0000 - val_loss: 83957440.0000\n",
            "Epoch 37/300\n",
            "37/37 [==============================] - 0s 2ms/step - loss: 82443848.0000 - val_loss: 83582896.0000\n",
            "Epoch 38/300\n",
            "37/37 [==============================] - 0s 3ms/step - loss: 82075832.0000 - val_loss: 83229568.0000\n",
            "Epoch 39/300\n",
            "37/37 [==============================] - 0s 2ms/step - loss: 81707808.0000 - val_loss: 82869912.0000\n",
            "Epoch 40/300\n",
            "37/37 [==============================] - 0s 3ms/step - loss: 81341736.0000 - val_loss: 82498760.0000\n",
            "Epoch 41/300\n",
            "37/37 [==============================] - 0s 3ms/step - loss: 80972416.0000 - val_loss: 82131352.0000\n",
            "Epoch 42/300\n",
            "37/37 [==============================] - 0s 3ms/step - loss: 80610096.0000 - val_loss: 81787024.0000\n",
            "Epoch 43/300\n",
            "37/37 [==============================] - 0s 3ms/step - loss: 80248856.0000 - val_loss: 81395944.0000\n",
            "Epoch 44/300\n",
            "37/37 [==============================] - 0s 2ms/step - loss: 79903816.0000 - val_loss: 81091448.0000\n",
            "Epoch 45/300\n",
            "37/37 [==============================] - 0s 2ms/step - loss: 79518904.0000 - val_loss: 80689528.0000\n",
            "Epoch 46/300\n",
            "37/37 [==============================] - 0s 3ms/step - loss: 79163848.0000 - val_loss: 80334584.0000\n",
            "Epoch 47/300\n",
            "37/37 [==============================] - 0s 2ms/step - loss: 78808248.0000 - val_loss: 79972800.0000\n",
            "Epoch 48/300\n",
            "37/37 [==============================] - 0s 2ms/step - loss: 78449144.0000 - val_loss: 79621536.0000\n",
            "Epoch 49/300\n",
            "37/37 [==============================] - 0s 2ms/step - loss: 78083168.0000 - val_loss: 79253104.0000\n",
            "Epoch 50/300\n",
            "37/37 [==============================] - 0s 3ms/step - loss: 77718816.0000 - val_loss: 78926728.0000\n",
            "Epoch 51/300\n",
            "37/37 [==============================] - 0s 3ms/step - loss: 77353056.0000 - val_loss: 78537040.0000\n",
            "Epoch 52/300\n",
            "37/37 [==============================] - 0s 2ms/step - loss: 76992144.0000 - val_loss: 78188632.0000\n",
            "Epoch 53/300\n",
            "37/37 [==============================] - 0s 3ms/step - loss: 76632152.0000 - val_loss: 77824896.0000\n",
            "Epoch 54/300\n",
            "37/37 [==============================] - 0s 3ms/step - loss: 76260816.0000 - val_loss: 77491472.0000\n",
            "Epoch 55/300\n",
            "37/37 [==============================] - 0s 3ms/step - loss: 75904136.0000 - val_loss: 77100272.0000\n",
            "Epoch 56/300\n",
            "37/37 [==============================] - 0s 3ms/step - loss: 75533960.0000 - val_loss: 76767584.0000\n",
            "Epoch 57/300\n",
            "37/37 [==============================] - 0s 2ms/step - loss: 75171504.0000 - val_loss: 76410680.0000\n",
            "Epoch 58/300\n",
            "37/37 [==============================] - 0s 2ms/step - loss: 74796096.0000 - val_loss: 76005880.0000\n",
            "Epoch 59/300\n",
            "37/37 [==============================] - 0s 2ms/step - loss: 74431656.0000 - val_loss: 75657920.0000\n",
            "Epoch 60/300\n",
            "37/37 [==============================] - 0s 2ms/step - loss: 74056840.0000 - val_loss: 75286024.0000\n",
            "Epoch 61/300\n",
            "37/37 [==============================] - 0s 2ms/step - loss: 73684936.0000 - val_loss: 74913448.0000\n",
            "Epoch 62/300\n",
            "37/37 [==============================] - 0s 2ms/step - loss: 73317672.0000 - val_loss: 74535400.0000\n",
            "Epoch 63/300\n",
            "37/37 [==============================] - 0s 2ms/step - loss: 72934648.0000 - val_loss: 74173512.0000\n",
            "Epoch 64/300\n",
            "37/37 [==============================] - 0s 3ms/step - loss: 72563840.0000 - val_loss: 73814304.0000\n",
            "Epoch 65/300\n",
            "37/37 [==============================] - 0s 3ms/step - loss: 72182760.0000 - val_loss: 73429256.0000\n",
            "Epoch 66/300\n",
            "37/37 [==============================] - 0s 2ms/step - loss: 71816432.0000 - val_loss: 73062816.0000\n",
            "Epoch 67/300\n",
            "37/37 [==============================] - 0s 2ms/step - loss: 71428712.0000 - val_loss: 72661256.0000\n",
            "Epoch 68/300\n",
            "37/37 [==============================] - 0s 2ms/step - loss: 71024616.0000 - val_loss: 72296984.0000\n",
            "Epoch 69/300\n",
            "37/37 [==============================] - 0s 3ms/step - loss: 70635296.0000 - val_loss: 71909904.0000\n",
            "Epoch 70/300\n",
            "37/37 [==============================] - 0s 2ms/step - loss: 70248928.0000 - val_loss: 71522960.0000\n",
            "Epoch 71/300\n",
            "37/37 [==============================] - 0s 2ms/step - loss: 69859096.0000 - val_loss: 71133288.0000\n",
            "Epoch 72/300\n",
            "37/37 [==============================] - 0s 2ms/step - loss: 69458856.0000 - val_loss: 70752808.0000\n",
            "Epoch 73/300\n",
            "37/37 [==============================] - 0s 2ms/step - loss: 69069000.0000 - val_loss: 70329112.0000\n",
            "Epoch 74/300\n",
            "37/37 [==============================] - 0s 2ms/step - loss: 68658664.0000 - val_loss: 69930008.0000\n",
            "Epoch 75/300\n",
            "37/37 [==============================] - 0s 2ms/step - loss: 68251544.0000 - val_loss: 69524720.0000\n",
            "Epoch 76/300\n",
            "37/37 [==============================] - 0s 3ms/step - loss: 67837312.0000 - val_loss: 69109304.0000\n",
            "Epoch 77/300\n",
            "37/37 [==============================] - 0s 3ms/step - loss: 67422152.0000 - val_loss: 68728352.0000\n",
            "Epoch 78/300\n",
            "37/37 [==============================] - 0s 2ms/step - loss: 67008644.0000 - val_loss: 68280592.0000\n",
            "Epoch 79/300\n",
            "37/37 [==============================] - 0s 3ms/step - loss: 66583436.0000 - val_loss: 67872448.0000\n",
            "Epoch 80/300\n",
            "37/37 [==============================] - 0s 3ms/step - loss: 66159060.0000 - val_loss: 67458184.0000\n",
            "Epoch 81/300\n",
            "37/37 [==============================] - 0s 2ms/step - loss: 65732696.0000 - val_loss: 67024796.0000\n",
            "Epoch 82/300\n",
            "37/37 [==============================] - 0s 3ms/step - loss: 65297008.0000 - val_loss: 66607288.0000\n",
            "Epoch 83/300\n",
            "37/37 [==============================] - 0s 2ms/step - loss: 64861880.0000 - val_loss: 66162772.0000\n",
            "Epoch 84/300\n",
            "37/37 [==============================] - 0s 3ms/step - loss: 64412544.0000 - val_loss: 65736032.0000\n",
            "Epoch 85/300\n",
            "37/37 [==============================] - 0s 2ms/step - loss: 63970044.0000 - val_loss: 65312416.0000\n",
            "Epoch 86/300\n",
            "37/37 [==============================] - 0s 2ms/step - loss: 63509244.0000 - val_loss: 64810724.0000\n",
            "Epoch 87/300\n",
            "37/37 [==============================] - 0s 2ms/step - loss: 63055280.0000 - val_loss: 64376148.0000\n",
            "Epoch 88/300\n",
            "37/37 [==============================] - 0s 2ms/step - loss: 62588676.0000 - val_loss: 63891928.0000\n",
            "Epoch 89/300\n",
            "37/37 [==============================] - 0s 2ms/step - loss: 62114768.0000 - val_loss: 63444280.0000\n",
            "Epoch 90/300\n",
            "37/37 [==============================] - 0s 3ms/step - loss: 61649260.0000 - val_loss: 62948448.0000\n",
            "Epoch 91/300\n",
            "37/37 [==============================] - 0s 2ms/step - loss: 61153616.0000 - val_loss: 62474196.0000\n",
            "Epoch 92/300\n",
            "37/37 [==============================] - 0s 2ms/step - loss: 60664792.0000 - val_loss: 61985480.0000\n",
            "Epoch 93/300\n",
            "37/37 [==============================] - 0s 2ms/step - loss: 60170040.0000 - val_loss: 61500284.0000\n",
            "Epoch 94/300\n",
            "37/37 [==============================] - 0s 2ms/step - loss: 59663000.0000 - val_loss: 60983640.0000\n",
            "Epoch 95/300\n",
            "37/37 [==============================] - 0s 2ms/step - loss: 59146040.0000 - val_loss: 60452344.0000\n",
            "Epoch 96/300\n",
            "37/37 [==============================] - 0s 2ms/step - loss: 58640068.0000 - val_loss: 59938084.0000\n",
            "Epoch 97/300\n",
            "37/37 [==============================] - 0s 2ms/step - loss: 58102956.0000 - val_loss: 59428352.0000\n",
            "Epoch 98/300\n",
            "37/37 [==============================] - 0s 3ms/step - loss: 57571552.0000 - val_loss: 58871224.0000\n",
            "Epoch 99/300\n",
            "37/37 [==============================] - 0s 3ms/step - loss: 57060044.0000 - val_loss: 58395452.0000\n",
            "Epoch 100/300\n",
            "37/37 [==============================] - 0s 3ms/step - loss: 56499216.0000 - val_loss: 57772372.0000\n",
            "Epoch 101/300\n",
            "37/37 [==============================] - 0s 3ms/step - loss: 55928368.0000 - val_loss: 57234460.0000\n",
            "Epoch 102/300\n",
            "37/37 [==============================] - 0s 3ms/step - loss: 55365516.0000 - val_loss: 56647388.0000\n",
            "Epoch 103/300\n",
            "37/37 [==============================] - 0s 2ms/step - loss: 54800876.0000 - val_loss: 56074644.0000\n",
            "Epoch 104/300\n",
            "37/37 [==============================] - 0s 3ms/step - loss: 54213788.0000 - val_loss: 55492228.0000\n",
            "Epoch 105/300\n",
            "37/37 [==============================] - 0s 2ms/step - loss: 53604452.0000 - val_loss: 54883400.0000\n",
            "Epoch 106/300\n",
            "37/37 [==============================] - 0s 2ms/step - loss: 53009460.0000 - val_loss: 54300440.0000\n",
            "Epoch 107/300\n",
            "37/37 [==============================] - 0s 3ms/step - loss: 52392100.0000 - val_loss: 53665824.0000\n",
            "Epoch 108/300\n",
            "37/37 [==============================] - 0s 3ms/step - loss: 51786372.0000 - val_loss: 53037088.0000\n",
            "Epoch 109/300\n",
            "37/37 [==============================] - 0s 2ms/step - loss: 51170164.0000 - val_loss: 52418780.0000\n",
            "Epoch 110/300\n",
            "37/37 [==============================] - 0s 2ms/step - loss: 50518272.0000 - val_loss: 51760196.0000\n",
            "Epoch 111/300\n",
            "37/37 [==============================] - 0s 2ms/step - loss: 49882880.0000 - val_loss: 51100660.0000\n",
            "Epoch 112/300\n",
            "37/37 [==============================] - 0s 2ms/step - loss: 49221040.0000 - val_loss: 50451852.0000\n",
            "Epoch 113/300\n",
            "37/37 [==============================] - 0s 2ms/step - loss: 48564340.0000 - val_loss: 49770788.0000\n",
            "Epoch 114/300\n",
            "37/37 [==============================] - 0s 2ms/step - loss: 47894644.0000 - val_loss: 49095988.0000\n",
            "Epoch 115/300\n",
            "37/37 [==============================] - 0s 2ms/step - loss: 47218404.0000 - val_loss: 48412920.0000\n",
            "Epoch 116/300\n",
            "37/37 [==============================] - 0s 2ms/step - loss: 46557496.0000 - val_loss: 47711188.0000\n",
            "Epoch 117/300\n",
            "37/37 [==============================] - 0s 2ms/step - loss: 45870796.0000 - val_loss: 47016224.0000\n",
            "Epoch 118/300\n",
            "37/37 [==============================] - 0s 2ms/step - loss: 45181484.0000 - val_loss: 46331044.0000\n",
            "Epoch 119/300\n",
            "37/37 [==============================] - 0s 2ms/step - loss: 44518480.0000 - val_loss: 45637372.0000\n",
            "Epoch 120/300\n",
            "37/37 [==============================] - 0s 3ms/step - loss: 43824740.0000 - val_loss: 44941392.0000\n",
            "Epoch 121/300\n",
            "37/37 [==============================] - 0s 2ms/step - loss: 43156352.0000 - val_loss: 44226892.0000\n",
            "Epoch 122/300\n",
            "37/37 [==============================] - 0s 2ms/step - loss: 42455004.0000 - val_loss: 43539204.0000\n",
            "Epoch 123/300\n",
            "37/37 [==============================] - 0s 2ms/step - loss: 41779944.0000 - val_loss: 42838112.0000\n",
            "Epoch 124/300\n",
            "37/37 [==============================] - 0s 2ms/step - loss: 41115212.0000 - val_loss: 42146592.0000\n",
            "Epoch 125/300\n",
            "37/37 [==============================] - 0s 2ms/step - loss: 40445836.0000 - val_loss: 41474316.0000\n",
            "Epoch 126/300\n",
            "37/37 [==============================] - 0s 3ms/step - loss: 39787308.0000 - val_loss: 40802264.0000\n",
            "Epoch 127/300\n",
            "37/37 [==============================] - 0s 3ms/step - loss: 39155196.0000 - val_loss: 40129816.0000\n",
            "Epoch 128/300\n",
            "37/37 [==============================] - 0s 3ms/step - loss: 38509124.0000 - val_loss: 39464380.0000\n",
            "Epoch 129/300\n",
            "37/37 [==============================] - 0s 2ms/step - loss: 37877772.0000 - val_loss: 38820352.0000\n",
            "Epoch 130/300\n",
            "37/37 [==============================] - 0s 2ms/step - loss: 37254460.0000 - val_loss: 38181128.0000\n",
            "Epoch 131/300\n",
            "37/37 [==============================] - 0s 3ms/step - loss: 36632312.0000 - val_loss: 37539040.0000\n",
            "Epoch 132/300\n",
            "37/37 [==============================] - 0s 3ms/step - loss: 36029096.0000 - val_loss: 36923276.0000\n",
            "Epoch 133/300\n",
            "37/37 [==============================] - 0s 3ms/step - loss: 35439708.0000 - val_loss: 36309844.0000\n",
            "Epoch 134/300\n",
            "37/37 [==============================] - 0s 3ms/step - loss: 34895624.0000 - val_loss: 35720668.0000\n",
            "Epoch 135/300\n",
            "37/37 [==============================] - 0s 3ms/step - loss: 34338616.0000 - val_loss: 35149108.0000\n",
            "Epoch 136/300\n",
            "37/37 [==============================] - 0s 3ms/step - loss: 33784840.0000 - val_loss: 34636688.0000\n",
            "Epoch 137/300\n",
            "37/37 [==============================] - 0s 2ms/step - loss: 33270746.0000 - val_loss: 34084220.0000\n",
            "Epoch 138/300\n",
            "37/37 [==============================] - 0s 3ms/step - loss: 32762372.0000 - val_loss: 33573636.0000\n",
            "Epoch 139/300\n",
            "37/37 [==============================] - 0s 2ms/step - loss: 32282950.0000 - val_loss: 33091464.0000\n",
            "Epoch 140/300\n",
            "37/37 [==============================] - 0s 3ms/step - loss: 31815876.0000 - val_loss: 32629434.0000\n",
            "Epoch 141/300\n",
            "37/37 [==============================] - 0s 3ms/step - loss: 31337974.0000 - val_loss: 32171342.0000\n",
            "Epoch 142/300\n",
            "37/37 [==============================] - 0s 2ms/step - loss: 30919244.0000 - val_loss: 31741398.0000\n",
            "Epoch 143/300\n",
            "37/37 [==============================] - 0s 2ms/step - loss: 30508298.0000 - val_loss: 31327694.0000\n",
            "Epoch 144/300\n",
            "37/37 [==============================] - 0s 3ms/step - loss: 30084626.0000 - val_loss: 30884444.0000\n",
            "Epoch 145/300\n",
            "37/37 [==============================] - 0s 3ms/step - loss: 29669878.0000 - val_loss: 30482134.0000\n",
            "Epoch 146/300\n",
            "37/37 [==============================] - 0s 3ms/step - loss: 29277250.0000 - val_loss: 30078870.0000\n",
            "Epoch 147/300\n",
            "37/37 [==============================] - 0s 2ms/step - loss: 28887108.0000 - val_loss: 29688710.0000\n",
            "Epoch 148/300\n",
            "37/37 [==============================] - 0s 3ms/step - loss: 28509182.0000 - val_loss: 29331036.0000\n",
            "Epoch 149/300\n",
            "37/37 [==============================] - 0s 2ms/step - loss: 28158314.0000 - val_loss: 28975304.0000\n",
            "Epoch 150/300\n",
            "37/37 [==============================] - 0s 3ms/step - loss: 27809738.0000 - val_loss: 28647640.0000\n",
            "Epoch 151/300\n",
            "37/37 [==============================] - 0s 2ms/step - loss: 27521922.0000 - val_loss: 28341144.0000\n",
            "Epoch 152/300\n",
            "37/37 [==============================] - 0s 2ms/step - loss: 27206100.0000 - val_loss: 28065412.0000\n",
            "Epoch 153/300\n",
            "37/37 [==============================] - 0s 3ms/step - loss: 26942954.0000 - val_loss: 27813726.0000\n",
            "Epoch 154/300\n",
            "37/37 [==============================] - 0s 3ms/step - loss: 26698120.0000 - val_loss: 27560616.0000\n",
            "Epoch 155/300\n",
            "37/37 [==============================] - 0s 2ms/step - loss: 26467782.0000 - val_loss: 27332760.0000\n",
            "Epoch 156/300\n",
            "37/37 [==============================] - 0s 3ms/step - loss: 26242206.0000 - val_loss: 27132884.0000\n",
            "Epoch 157/300\n",
            "37/37 [==============================] - 0s 2ms/step - loss: 26056732.0000 - val_loss: 26931808.0000\n",
            "Epoch 158/300\n",
            "37/37 [==============================] - 0s 2ms/step - loss: 25851010.0000 - val_loss: 26744320.0000\n",
            "Epoch 159/300\n",
            "37/37 [==============================] - 0s 2ms/step - loss: 25679680.0000 - val_loss: 26566166.0000\n",
            "Epoch 160/300\n",
            "37/37 [==============================] - 0s 2ms/step - loss: 25503666.0000 - val_loss: 26400978.0000\n",
            "Epoch 161/300\n",
            "37/37 [==============================] - 0s 2ms/step - loss: 25339908.0000 - val_loss: 26242976.0000\n",
            "Epoch 162/300\n",
            "37/37 [==============================] - 0s 2ms/step - loss: 25188836.0000 - val_loss: 26110198.0000\n",
            "Epoch 163/300\n",
            "37/37 [==============================] - 0s 3ms/step - loss: 25038186.0000 - val_loss: 25944466.0000\n",
            "Epoch 164/300\n",
            "37/37 [==============================] - 0s 2ms/step - loss: 24883184.0000 - val_loss: 25845518.0000\n",
            "Epoch 165/300\n",
            "37/37 [==============================] - 0s 3ms/step - loss: 24751682.0000 - val_loss: 25667536.0000\n",
            "Epoch 166/300\n",
            "37/37 [==============================] - 0s 2ms/step - loss: 24604852.0000 - val_loss: 25542686.0000\n",
            "Epoch 167/300\n",
            "37/37 [==============================] - 0s 3ms/step - loss: 24475546.0000 - val_loss: 25405722.0000\n",
            "Epoch 168/300\n",
            "37/37 [==============================] - 0s 2ms/step - loss: 24332748.0000 - val_loss: 25278056.0000\n",
            "Epoch 169/300\n",
            "37/37 [==============================] - 0s 3ms/step - loss: 24205076.0000 - val_loss: 25157860.0000\n",
            "Epoch 170/300\n",
            "37/37 [==============================] - 0s 2ms/step - loss: 24067962.0000 - val_loss: 25017354.0000\n",
            "Epoch 171/300\n",
            "37/37 [==============================] - 0s 2ms/step - loss: 23927418.0000 - val_loss: 24865048.0000\n",
            "Epoch 172/300\n",
            "37/37 [==============================] - 0s 2ms/step - loss: 23755530.0000 - val_loss: 24752876.0000\n",
            "Epoch 173/300\n",
            "37/37 [==============================] - 0s 3ms/step - loss: 23611718.0000 - val_loss: 24581236.0000\n",
            "Epoch 174/300\n",
            "37/37 [==============================] - 0s 2ms/step - loss: 23459380.0000 - val_loss: 24453578.0000\n",
            "Epoch 175/300\n",
            "37/37 [==============================] - 0s 2ms/step - loss: 23311384.0000 - val_loss: 24319348.0000\n",
            "Epoch 176/300\n",
            "37/37 [==============================] - 0s 2ms/step - loss: 23171102.0000 - val_loss: 24158494.0000\n",
            "Epoch 177/300\n",
            "37/37 [==============================] - 0s 2ms/step - loss: 23043114.0000 - val_loss: 24020054.0000\n",
            "Epoch 178/300\n",
            "37/37 [==============================] - 0s 3ms/step - loss: 22887204.0000 - val_loss: 23894828.0000\n",
            "Epoch 179/300\n",
            "37/37 [==============================] - 0s 3ms/step - loss: 22762754.0000 - val_loss: 23794716.0000\n",
            "Epoch 180/300\n",
            "37/37 [==============================] - 0s 3ms/step - loss: 22623956.0000 - val_loss: 23722146.0000\n",
            "Epoch 181/300\n",
            "37/37 [==============================] - 0s 3ms/step - loss: 22514156.0000 - val_loss: 23551680.0000\n",
            "Epoch 182/300\n",
            "37/37 [==============================] - 0s 2ms/step - loss: 22393462.0000 - val_loss: 23465664.0000\n",
            "Epoch 183/300\n",
            "37/37 [==============================] - 0s 2ms/step - loss: 22284302.0000 - val_loss: 23371542.0000\n",
            "Epoch 184/300\n",
            "37/37 [==============================] - 0s 2ms/step - loss: 22182262.0000 - val_loss: 23275208.0000\n",
            "Epoch 185/300\n",
            "37/37 [==============================] - 0s 2ms/step - loss: 22091190.0000 - val_loss: 23204298.0000\n",
            "Epoch 186/300\n",
            "37/37 [==============================] - 0s 3ms/step - loss: 22036142.0000 - val_loss: 23132062.0000\n",
            "Epoch 187/300\n",
            "37/37 [==============================] - 0s 3ms/step - loss: 21921874.0000 - val_loss: 23074052.0000\n",
            "Epoch 188/300\n",
            "37/37 [==============================] - 0s 2ms/step - loss: 21857022.0000 - val_loss: 23015512.0000\n",
            "Epoch 189/300\n",
            "37/37 [==============================] - 0s 3ms/step - loss: 21796160.0000 - val_loss: 22964452.0000\n",
            "Epoch 190/300\n",
            "37/37 [==============================] - 0s 3ms/step - loss: 21726836.0000 - val_loss: 22902036.0000\n",
            "Epoch 191/300\n",
            "37/37 [==============================] - 0s 2ms/step - loss: 21687366.0000 - val_loss: 22862502.0000\n",
            "Epoch 192/300\n",
            "37/37 [==============================] - 0s 3ms/step - loss: 21603500.0000 - val_loss: 22821994.0000\n",
            "Epoch 193/300\n",
            "37/37 [==============================] - 0s 3ms/step - loss: 21558638.0000 - val_loss: 22764572.0000\n",
            "Epoch 194/300\n",
            "37/37 [==============================] - 0s 2ms/step - loss: 21515792.0000 - val_loss: 22726208.0000\n",
            "Epoch 195/300\n",
            "37/37 [==============================] - 0s 2ms/step - loss: 21465804.0000 - val_loss: 22690934.0000\n",
            "Epoch 196/300\n",
            "37/37 [==============================] - 0s 2ms/step - loss: 21442112.0000 - val_loss: 22649726.0000\n",
            "Epoch 197/300\n",
            "37/37 [==============================] - 0s 2ms/step - loss: 21387974.0000 - val_loss: 22611416.0000\n",
            "Epoch 198/300\n",
            "37/37 [==============================] - 0s 2ms/step - loss: 21346018.0000 - val_loss: 22596184.0000\n",
            "Epoch 199/300\n",
            "37/37 [==============================] - 0s 2ms/step - loss: 21314698.0000 - val_loss: 22546568.0000\n",
            "Epoch 200/300\n",
            "37/37 [==============================] - 0s 3ms/step - loss: 21278480.0000 - val_loss: 22519966.0000\n",
            "Epoch 201/300\n",
            "37/37 [==============================] - 0s 3ms/step - loss: 21251550.0000 - val_loss: 22484794.0000\n",
            "Epoch 202/300\n",
            "37/37 [==============================] - 0s 3ms/step - loss: 21216558.0000 - val_loss: 22459084.0000\n",
            "Epoch 203/300\n",
            "37/37 [==============================] - 0s 3ms/step - loss: 21191164.0000 - val_loss: 22465232.0000\n",
            "Epoch 204/300\n",
            "37/37 [==============================] - 0s 3ms/step - loss: 21150818.0000 - val_loss: 22403680.0000\n",
            "Epoch 205/300\n",
            "37/37 [==============================] - 0s 3ms/step - loss: 21144044.0000 - val_loss: 22404528.0000\n",
            "Epoch 206/300\n",
            "37/37 [==============================] - 0s 2ms/step - loss: 21083662.0000 - val_loss: 22349828.0000\n",
            "Epoch 207/300\n",
            "37/37 [==============================] - 0s 2ms/step - loss: 21069194.0000 - val_loss: 22323396.0000\n",
            "Epoch 208/300\n",
            "37/37 [==============================] - 0s 2ms/step - loss: 21050908.0000 - val_loss: 22307836.0000\n",
            "Epoch 209/300\n",
            "37/37 [==============================] - 0s 3ms/step - loss: 21014974.0000 - val_loss: 22272322.0000\n",
            "Epoch 210/300\n",
            "37/37 [==============================] - 0s 2ms/step - loss: 20974006.0000 - val_loss: 22245898.0000\n",
            "Epoch 211/300\n",
            "37/37 [==============================] - 0s 3ms/step - loss: 20973958.0000 - val_loss: 22225832.0000\n",
            "Epoch 212/300\n",
            "37/37 [==============================] - 0s 2ms/step - loss: 20943366.0000 - val_loss: 22205278.0000\n",
            "Epoch 213/300\n",
            "37/37 [==============================] - 0s 2ms/step - loss: 20902148.0000 - val_loss: 22258108.0000\n",
            "Epoch 214/300\n",
            "37/37 [==============================] - 0s 2ms/step - loss: 20926320.0000 - val_loss: 22205308.0000\n",
            "Epoch 215/300\n",
            "37/37 [==============================] - 0s 2ms/step - loss: 20845244.0000 - val_loss: 22142494.0000\n",
            "Epoch 216/300\n",
            "37/37 [==============================] - 0s 3ms/step - loss: 20832230.0000 - val_loss: 22135046.0000\n",
            "Epoch 217/300\n",
            "37/37 [==============================] - 0s 2ms/step - loss: 20813510.0000 - val_loss: 22097160.0000\n",
            "Epoch 218/300\n",
            "37/37 [==============================] - 0s 3ms/step - loss: 20767026.0000 - val_loss: 22135862.0000\n",
            "Epoch 219/300\n",
            "37/37 [==============================] - 0s 3ms/step - loss: 20806990.0000 - val_loss: 22080806.0000\n",
            "Epoch 220/300\n",
            "37/37 [==============================] - 0s 3ms/step - loss: 20747196.0000 - val_loss: 22036240.0000\n",
            "Epoch 221/300\n",
            "37/37 [==============================] - 0s 2ms/step - loss: 20699330.0000 - val_loss: 22027386.0000\n",
            "Epoch 222/300\n",
            "37/37 [==============================] - 0s 3ms/step - loss: 20678596.0000 - val_loss: 21991304.0000\n",
            "Epoch 223/300\n",
            "37/37 [==============================] - 0s 3ms/step - loss: 20674006.0000 - val_loss: 21966608.0000\n",
            "Epoch 224/300\n",
            "37/37 [==============================] - 0s 3ms/step - loss: 20631860.0000 - val_loss: 21950256.0000\n",
            "Epoch 225/300\n",
            "37/37 [==============================] - 0s 2ms/step - loss: 20600604.0000 - val_loss: 21963948.0000\n",
            "Epoch 226/300\n",
            "37/37 [==============================] - 0s 3ms/step - loss: 20606400.0000 - val_loss: 21906776.0000\n",
            "Epoch 227/300\n",
            "37/37 [==============================] - 0s 3ms/step - loss: 20554450.0000 - val_loss: 21891292.0000\n",
            "Epoch 228/300\n",
            "37/37 [==============================] - 0s 3ms/step - loss: 20550382.0000 - val_loss: 21869174.0000\n",
            "Epoch 229/300\n",
            "37/37 [==============================] - 0s 3ms/step - loss: 20513708.0000 - val_loss: 21857184.0000\n",
            "Epoch 230/300\n",
            "37/37 [==============================] - 0s 2ms/step - loss: 20483514.0000 - val_loss: 21835656.0000\n",
            "Epoch 231/300\n",
            "37/37 [==============================] - 0s 3ms/step - loss: 20461252.0000 - val_loss: 21821026.0000\n",
            "Epoch 232/300\n",
            "37/37 [==============================] - 0s 3ms/step - loss: 20436468.0000 - val_loss: 21822934.0000\n",
            "Epoch 233/300\n",
            "37/37 [==============================] - 0s 3ms/step - loss: 20433850.0000 - val_loss: 21786652.0000\n",
            "Epoch 234/300\n",
            "37/37 [==============================] - 0s 3ms/step - loss: 20391858.0000 - val_loss: 21775928.0000\n",
            "Epoch 235/300\n",
            "37/37 [==============================] - 0s 3ms/step - loss: 20377732.0000 - val_loss: 21754006.0000\n",
            "Epoch 236/300\n",
            "37/37 [==============================] - 0s 2ms/step - loss: 20387042.0000 - val_loss: 21759038.0000\n",
            "Epoch 237/300\n",
            "37/37 [==============================] - 0s 2ms/step - loss: 20325458.0000 - val_loss: 21720004.0000\n",
            "Epoch 238/300\n",
            "37/37 [==============================] - 0s 3ms/step - loss: 20312668.0000 - val_loss: 21703426.0000\n",
            "Epoch 239/300\n",
            "37/37 [==============================] - 0s 3ms/step - loss: 20295078.0000 - val_loss: 21740824.0000\n",
            "Epoch 240/300\n",
            "37/37 [==============================] - 0s 3ms/step - loss: 20277998.0000 - val_loss: 21668206.0000\n",
            "Epoch 241/300\n",
            "37/37 [==============================] - 0s 2ms/step - loss: 20262098.0000 - val_loss: 21667580.0000\n",
            "Epoch 242/300\n",
            "37/37 [==============================] - 0s 3ms/step - loss: 20244058.0000 - val_loss: 21640700.0000\n",
            "Epoch 243/300\n",
            "37/37 [==============================] - 0s 2ms/step - loss: 20223084.0000 - val_loss: 21629786.0000\n",
            "Epoch 244/300\n",
            "37/37 [==============================] - 0s 3ms/step - loss: 20196162.0000 - val_loss: 21615118.0000\n",
            "Epoch 245/300\n",
            "37/37 [==============================] - 0s 3ms/step - loss: 20169446.0000 - val_loss: 21593984.0000\n",
            "Epoch 246/300\n",
            "37/37 [==============================] - 0s 2ms/step - loss: 20164090.0000 - val_loss: 21579014.0000\n",
            "Epoch 247/300\n",
            "37/37 [==============================] - 0s 2ms/step - loss: 20133966.0000 - val_loss: 21584650.0000\n",
            "Epoch 248/300\n",
            "37/37 [==============================] - 0s 2ms/step - loss: 20107486.0000 - val_loss: 21565146.0000\n",
            "Epoch 249/300\n",
            "37/37 [==============================] - 0s 3ms/step - loss: 20100356.0000 - val_loss: 21549018.0000\n",
            "Epoch 250/300\n",
            "37/37 [==============================] - 0s 2ms/step - loss: 20088540.0000 - val_loss: 21519894.0000\n",
            "Epoch 251/300\n",
            "37/37 [==============================] - 0s 2ms/step - loss: 20057842.0000 - val_loss: 21523810.0000\n",
            "Epoch 252/300\n",
            "37/37 [==============================] - 0s 2ms/step - loss: 20052054.0000 - val_loss: 21493926.0000\n",
            "Epoch 253/300\n",
            "37/37 [==============================] - 0s 3ms/step - loss: 20018876.0000 - val_loss: 21476762.0000\n",
            "Epoch 254/300\n",
            "37/37 [==============================] - 0s 3ms/step - loss: 20021052.0000 - val_loss: 21460476.0000\n",
            "Epoch 255/300\n",
            "37/37 [==============================] - 0s 2ms/step - loss: 20000452.0000 - val_loss: 21451298.0000\n",
            "Epoch 256/300\n",
            "37/37 [==============================] - 0s 2ms/step - loss: 19992886.0000 - val_loss: 21430610.0000\n",
            "Epoch 257/300\n",
            "37/37 [==============================] - 0s 2ms/step - loss: 19959168.0000 - val_loss: 21414678.0000\n",
            "Epoch 258/300\n",
            "37/37 [==============================] - 0s 3ms/step - loss: 19938226.0000 - val_loss: 21424562.0000\n",
            "Epoch 259/300\n",
            "37/37 [==============================] - 0s 3ms/step - loss: 19910762.0000 - val_loss: 21384012.0000\n",
            "Epoch 260/300\n",
            "37/37 [==============================] - 0s 3ms/step - loss: 19902796.0000 - val_loss: 21370636.0000\n",
            "Epoch 261/300\n",
            "37/37 [==============================] - 0s 3ms/step - loss: 19886158.0000 - val_loss: 21359810.0000\n",
            "Epoch 262/300\n",
            "37/37 [==============================] - 0s 3ms/step - loss: 19875000.0000 - val_loss: 21443040.0000\n",
            "Epoch 263/300\n",
            "37/37 [==============================] - 0s 2ms/step - loss: 19852110.0000 - val_loss: 21341272.0000\n",
            "Epoch 264/300\n",
            "37/37 [==============================] - 0s 3ms/step - loss: 19843352.0000 - val_loss: 21322260.0000\n",
            "Epoch 265/300\n",
            "37/37 [==============================] - 0s 2ms/step - loss: 19827304.0000 - val_loss: 21301888.0000\n",
            "Epoch 266/300\n",
            "37/37 [==============================] - 0s 3ms/step - loss: 19794264.0000 - val_loss: 21325454.0000\n",
            "Epoch 267/300\n",
            "37/37 [==============================] - 0s 3ms/step - loss: 19817898.0000 - val_loss: 21279586.0000\n",
            "Epoch 268/300\n",
            "37/37 [==============================] - 0s 2ms/step - loss: 19789884.0000 - val_loss: 21272406.0000\n",
            "Epoch 269/300\n",
            "37/37 [==============================] - 0s 2ms/step - loss: 19791058.0000 - val_loss: 21306692.0000\n",
            "Epoch 270/300\n",
            "37/37 [==============================] - 0s 3ms/step - loss: 19773218.0000 - val_loss: 21344274.0000\n",
            "Epoch 271/300\n",
            "37/37 [==============================] - 0s 3ms/step - loss: 19807752.0000 - val_loss: 21278098.0000\n",
            "Epoch 272/300\n",
            "37/37 [==============================] - 0s 3ms/step - loss: 19720648.0000 - val_loss: 21236796.0000\n",
            "Epoch 273/300\n",
            "37/37 [==============================] - 0s 3ms/step - loss: 19704514.0000 - val_loss: 21209178.0000\n",
            "Epoch 274/300\n",
            "37/37 [==============================] - 0s 3ms/step - loss: 19697216.0000 - val_loss: 21209694.0000\n",
            "Epoch 275/300\n",
            "37/37 [==============================] - 0s 2ms/step - loss: 19683600.0000 - val_loss: 21188588.0000\n",
            "Epoch 276/300\n",
            "37/37 [==============================] - 0s 3ms/step - loss: 19675934.0000 - val_loss: 21179576.0000\n",
            "Epoch 277/300\n",
            "37/37 [==============================] - 0s 2ms/step - loss: 19673498.0000 - val_loss: 21167796.0000\n",
            "Epoch 278/300\n",
            "37/37 [==============================] - 0s 3ms/step - loss: 19655116.0000 - val_loss: 21171338.0000\n",
            "Epoch 279/300\n",
            "37/37 [==============================] - 0s 2ms/step - loss: 19646176.0000 - val_loss: 21141346.0000\n",
            "Epoch 280/300\n",
            "37/37 [==============================] - 0s 3ms/step - loss: 19639772.0000 - val_loss: 21123954.0000\n",
            "Epoch 281/300\n",
            "37/37 [==============================] - 0s 3ms/step - loss: 19614248.0000 - val_loss: 21115028.0000\n",
            "Epoch 282/300\n",
            "37/37 [==============================] - 0s 2ms/step - loss: 19622324.0000 - val_loss: 21148946.0000\n",
            "Epoch 283/300\n",
            "37/37 [==============================] - 0s 3ms/step - loss: 19601898.0000 - val_loss: 21099290.0000\n",
            "Epoch 284/300\n",
            "37/37 [==============================] - 0s 3ms/step - loss: 19581356.0000 - val_loss: 21084138.0000\n",
            "Epoch 285/300\n",
            "37/37 [==============================] - 0s 2ms/step - loss: 19576380.0000 - val_loss: 21077180.0000\n",
            "Epoch 286/300\n",
            "37/37 [==============================] - 0s 3ms/step - loss: 19566106.0000 - val_loss: 21129030.0000\n",
            "Epoch 287/300\n",
            "37/37 [==============================] - 0s 2ms/step - loss: 19557550.0000 - val_loss: 21056744.0000\n",
            "Epoch 288/300\n",
            "37/37 [==============================] - 0s 2ms/step - loss: 19550980.0000 - val_loss: 21059038.0000\n",
            "Epoch 289/300\n",
            "37/37 [==============================] - 0s 2ms/step - loss: 19536396.0000 - val_loss: 21046264.0000\n",
            "Epoch 290/300\n",
            "37/37 [==============================] - 0s 3ms/step - loss: 19519032.0000 - val_loss: 21053970.0000\n",
            "Epoch 291/300\n",
            "37/37 [==============================] - 0s 2ms/step - loss: 19549220.0000 - val_loss: 21060616.0000\n",
            "Epoch 292/300\n",
            "37/37 [==============================] - 0s 2ms/step - loss: 19521178.0000 - val_loss: 21011682.0000\n",
            "Epoch 293/300\n",
            "37/37 [==============================] - 0s 2ms/step - loss: 19501782.0000 - val_loss: 21002504.0000\n",
            "Epoch 294/300\n",
            "37/37 [==============================] - 0s 3ms/step - loss: 19507788.0000 - val_loss: 20991894.0000\n",
            "Epoch 295/300\n",
            "37/37 [==============================] - 0s 2ms/step - loss: 19477912.0000 - val_loss: 21048758.0000\n",
            "Epoch 296/300\n",
            "37/37 [==============================] - 0s 2ms/step - loss: 19478646.0000 - val_loss: 20984778.0000\n",
            "Epoch 297/300\n",
            "37/37 [==============================] - 0s 2ms/step - loss: 19463174.0000 - val_loss: 21016984.0000\n",
            "Epoch 298/300\n",
            "37/37 [==============================] - 0s 3ms/step - loss: 19471824.0000 - val_loss: 20986798.0000\n",
            "Epoch 299/300\n",
            "37/37 [==============================] - 0s 2ms/step - loss: 19442570.0000 - val_loss: 20956566.0000\n",
            "Epoch 300/300\n",
            "37/37 [==============================] - 0s 3ms/step - loss: 19442142.0000 - val_loss: 20932346.0000\n"
          ],
          "name": "stdout"
        },
        {
          "output_type": "execute_result",
          "data": {
            "text/plain": [
              "<keras.callbacks.History at 0x7f1d1ff7a9d0>"
            ]
          },
          "metadata": {},
          "execution_count": 52
        }
      ]
    },
    {
      "cell_type": "markdown",
      "metadata": {
        "id": "neyFyxtDiaY2"
      },
      "source": [
        "#sonuç"
      ]
    },
    {
      "cell_type": "code",
      "metadata": {
        "id": "yZyJIZ3Rhh6c"
      },
      "source": [
        "kayıpVerisi=pd.DataFrame(model.history.history)"
      ],
      "execution_count": null,
      "outputs": []
    },
    {
      "cell_type": "code",
      "metadata": {
        "colab": {
          "base_uri": "https://localhost:8080/",
          "height": 203
        },
        "id": "IwBcDIdsi1Yb",
        "outputId": "6d897feb-78a6-4ddd-bbc9-58b963e09559"
      },
      "source": [
        "kayıpVerisi.head()"
      ],
      "execution_count": null,
      "outputs": [
        {
          "output_type": "execute_result",
          "data": {
            "text/html": [
              "<div>\n",
              "<style scoped>\n",
              "    .dataframe tbody tr th:only-of-type {\n",
              "        vertical-align: middle;\n",
              "    }\n",
              "\n",
              "    .dataframe tbody tr th {\n",
              "        vertical-align: top;\n",
              "    }\n",
              "\n",
              "    .dataframe thead th {\n",
              "        text-align: right;\n",
              "    }\n",
              "</style>\n",
              "<table border=\"1\" class=\"dataframe\">\n",
              "  <thead>\n",
              "    <tr style=\"text-align: right;\">\n",
              "      <th></th>\n",
              "      <th>loss</th>\n",
              "      <th>val_loss</th>\n",
              "    </tr>\n",
              "  </thead>\n",
              "  <tbody>\n",
              "    <tr>\n",
              "      <th>0</th>\n",
              "      <td>672146944.0</td>\n",
              "      <td>688107264.0</td>\n",
              "    </tr>\n",
              "    <tr>\n",
              "      <th>1</th>\n",
              "      <td>672133760.0</td>\n",
              "      <td>688087232.0</td>\n",
              "    </tr>\n",
              "    <tr>\n",
              "      <th>2</th>\n",
              "      <td>672097792.0</td>\n",
              "      <td>688022912.0</td>\n",
              "    </tr>\n",
              "    <tr>\n",
              "      <th>3</th>\n",
              "      <td>671983360.0</td>\n",
              "      <td>687827520.0</td>\n",
              "    </tr>\n",
              "    <tr>\n",
              "      <th>4</th>\n",
              "      <td>671659904.0</td>\n",
              "      <td>687309440.0</td>\n",
              "    </tr>\n",
              "  </tbody>\n",
              "</table>\n",
              "</div>"
            ],
            "text/plain": [
              "          loss     val_loss\n",
              "0  672146944.0  688107264.0\n",
              "1  672133760.0  688087232.0\n",
              "2  672097792.0  688022912.0\n",
              "3  671983360.0  687827520.0\n",
              "4  671659904.0  687309440.0"
            ]
          },
          "metadata": {},
          "execution_count": 54
        }
      ]
    },
    {
      "cell_type": "code",
      "metadata": {
        "colab": {
          "base_uri": "https://localhost:8080/",
          "height": 293
        },
        "id": "GAXYQBpOi3Nm",
        "outputId": "1132573a-f355-4c68-f139-2c7eac47d16b"
      },
      "source": [
        "kayıpVerisi.plot()"
      ],
      "execution_count": null,
      "outputs": [
        {
          "output_type": "execute_result",
          "data": {
            "text/plain": [
              "<matplotlib.axes._subplots.AxesSubplot at 0x7f1d1fa53690>"
            ]
          },
          "metadata": {},
          "execution_count": 55
        },
        {
          "output_type": "display_data",
          "data": {
            "image/png": "[encoded data removed]",
            "text/plain": [
              "<Figure size 432x288 with 1 Axes>"
            ]
          },
          "metadata": {
            "needs_background": "light"
          }
        }
      ]
    },
    {
      "cell_type": "markdown",
      "metadata": {
        "id": "IaBufWIHjIf0"
      },
      "source": [
        "1. grafik azalmalı (evet azalıyor)\n",
        "2.kayıp ve dogrulama kaydı birlikte hareket ediyor mu(yes)\n",
        "3.epoch u çok fazla verirsek 500/1000..  overfitting olur(yani nöronlar esas problemi çözmek yerine şuanki veri setine en uygun agırlıgı bulmmaya çalışıyorlar.bunu istemiyoruz geleceği tahmin etmek amacımız. o yuzden grafıkte loss ve validation lossun bir yerde ayrıldığını görüyorsak overfitting var demektir.val aşagı gider loss yukarı,epoch azaltılmalı.yada modeli baştan kurmalı)"
      ]
    },
    {
      "cell_type": "code",
      "metadata": {
        "id": "GXFY8F7ai_xD"
      },
      "source": [
        "from sklearn.metrics import mean_squared_error,mean_absolute_error"
      ],
      "execution_count": null,
      "outputs": []
    },
    {
      "cell_type": "code",
      "metadata": {
        "id": "FWEpJNSYk1HO"
      },
      "source": [
        "tahminDizisi = model.predict(x_test)"
      ],
      "execution_count": null,
      "outputs": []
    },
    {
      "cell_type": "code",
      "metadata": {
        "colab": {
          "base_uri": "https://localhost:8080/"
        },
        "id": "uTz70f9Zk8HE",
        "outputId": "c11e729a-8d22-49a3-f9dc-a505781381ca"
      },
      "source": [
        "tahminDizisi  #fiyatlar (ytest içerisinde dogru karşılıklar var)"
      ],
      "execution_count": null,
      "outputs": [
        {
          "output_type": "execute_result",
          "data": {
            "text/plain": [
              "array([[22511.14 ],\n",
              "       [23755.273],\n",
              "       [24853.883],\n",
              "       ...,\n",
              "       [26186.8  ],\n",
              "       [11139.992],\n",
              "       [24700.186]], dtype=float32)"
            ]
          },
          "metadata": {},
          "execution_count": 59
        }
      ]
    },
    {
      "cell_type": "code",
      "metadata": {
        "colab": {
          "base_uri": "https://localhost:8080/"
        },
        "id": "jJtB-N3qk95i",
        "outputId": "e73de5f5-382b-4ddb-f12b-f877b05d5a50"
      },
      "source": [
        "mean_absolute_error(y_test,tahminDizisi)"
      ],
      "execution_count": null,
      "outputs": [
        {
          "output_type": "execute_result",
          "data": {
            "text/plain": [
              "3251.312658876219"
            ]
          },
          "metadata": {},
          "execution_count": 60
        }
      ]
    },
    {
      "cell_type": "code",
      "metadata": {
        "colab": {
          "base_uri": "https://localhost:8080/",
          "height": 295
        },
        "id": "l1t2d2l5leUC",
        "outputId": "5670a9b2-c823-439b-8b71-1f24bd4628f8"
      },
      "source": [
        "dataFrame.describe()"
      ],
      "execution_count": null,
      "outputs": [
        {
          "output_type": "execute_result",
          "data": {
            "text/html": [
              "<div>\n",
              "<style scoped>\n",
              "    .dataframe tbody tr th:only-of-type {\n",
              "        vertical-align: middle;\n",
              "    }\n",
              "\n",
              "    .dataframe tbody tr th {\n",
              "        vertical-align: top;\n",
              "    }\n",
              "\n",
              "    .dataframe thead th {\n",
              "        text-align: right;\n",
              "    }\n",
              "</style>\n",
              "<table border=\"1\" class=\"dataframe\">\n",
              "  <thead>\n",
              "    <tr style=\"text-align: right;\">\n",
              "      <th></th>\n",
              "      <th>year</th>\n",
              "      <th>price</th>\n",
              "      <th>mileage</th>\n",
              "      <th>tax</th>\n",
              "      <th>mpg</th>\n",
              "      <th>engineSize</th>\n",
              "    </tr>\n",
              "  </thead>\n",
              "  <tbody>\n",
              "    <tr>\n",
              "      <th>count</th>\n",
              "      <td>12987.000000</td>\n",
              "      <td>12987.000000</td>\n",
              "      <td>12987.000000</td>\n",
              "      <td>12987.000000</td>\n",
              "      <td>12987.000000</td>\n",
              "      <td>12987.000000</td>\n",
              "    </tr>\n",
              "    <tr>\n",
              "      <th>mean</th>\n",
              "      <td>2017.285516</td>\n",
              "      <td>24074.855779</td>\n",
              "      <td>22133.367367</td>\n",
              "      <td>129.676215</td>\n",
              "      <td>55.438392</td>\n",
              "      <td>2.051059</td>\n",
              "    </tr>\n",
              "    <tr>\n",
              "      <th>std</th>\n",
              "      <td>2.189633</td>\n",
              "      <td>9866.601115</td>\n",
              "      <td>21197.472376</td>\n",
              "      <td>65.167429</td>\n",
              "      <td>15.025902</td>\n",
              "      <td>0.532313</td>\n",
              "    </tr>\n",
              "    <tr>\n",
              "      <th>min</th>\n",
              "      <td>1997.000000</td>\n",
              "      <td>650.000000</td>\n",
              "      <td>1.000000</td>\n",
              "      <td>0.000000</td>\n",
              "      <td>1.100000</td>\n",
              "      <td>0.000000</td>\n",
              "    </tr>\n",
              "    <tr>\n",
              "      <th>25%</th>\n",
              "      <td>2016.000000</td>\n",
              "      <td>17355.000000</td>\n",
              "      <td>6320.000000</td>\n",
              "      <td>125.000000</td>\n",
              "      <td>45.600000</td>\n",
              "      <td>1.700000</td>\n",
              "    </tr>\n",
              "    <tr>\n",
              "      <th>50%</th>\n",
              "      <td>2018.000000</td>\n",
              "      <td>22299.000000</td>\n",
              "      <td>15371.000000</td>\n",
              "      <td>145.000000</td>\n",
              "      <td>56.500000</td>\n",
              "      <td>2.000000</td>\n",
              "    </tr>\n",
              "    <tr>\n",
              "      <th>75%</th>\n",
              "      <td>2019.000000</td>\n",
              "      <td>28706.000000</td>\n",
              "      <td>31986.500000</td>\n",
              "      <td>145.000000</td>\n",
              "      <td>64.200000</td>\n",
              "      <td>2.100000</td>\n",
              "    </tr>\n",
              "    <tr>\n",
              "      <th>max</th>\n",
              "      <td>2020.000000</td>\n",
              "      <td>65990.000000</td>\n",
              "      <td>259000.000000</td>\n",
              "      <td>580.000000</td>\n",
              "      <td>217.300000</td>\n",
              "      <td>6.200000</td>\n",
              "    </tr>\n",
              "  </tbody>\n",
              "</table>\n",
              "</div>"
            ],
            "text/plain": [
              "               year         price  ...           mpg    engineSize\n",
              "count  12987.000000  12987.000000  ...  12987.000000  12987.000000\n",
              "mean    2017.285516  24074.855779  ...     55.438392      2.051059\n",
              "std        2.189633   9866.601115  ...     15.025902      0.532313\n",
              "min     1997.000000    650.000000  ...      1.100000      0.000000\n",
              "25%     2016.000000  17355.000000  ...     45.600000      1.700000\n",
              "50%     2018.000000  22299.000000  ...     56.500000      2.000000\n",
              "75%     2019.000000  28706.000000  ...     64.200000      2.100000\n",
              "max     2020.000000  65990.000000  ...    217.300000      6.200000\n",
              "\n",
              "[8 rows x 6 columns]"
            ]
          },
          "metadata": {},
          "execution_count": 62
        }
      ]
    },
    {
      "cell_type": "markdown",
      "metadata": {
        "id": "oVAPGXbjlqLV"
      },
      "source": [
        "ortalama fiyat 24bin paund diyelim, bu fiyattan 3200paund sapabiliriz ve  3200/24000=0.13 neredeyse yuzde 13 lük bir fark var. bu fark kabul edilebilir mi kişiye kalmış."
      ]
    },
    {
      "cell_type": "markdown",
      "metadata": {
        "id": "RF7l_l20mdbS"
      },
      "source": [
        "Napabiliriz : geri dönüp veriyi daha fazla temizleyebiliriz,test size yada split size değiştirebilliriz,epocks u arttırabiliriz,nöron sayısını değiştirebiliriz, katman sayısını değiştirebiliriz."
      ]
    },
    {
      "cell_type": "code",
      "metadata": {
        "colab": {
          "base_uri": "https://localhost:8080/",
          "height": 284
        },
        "id": "LCnDDDc6lny3",
        "outputId": "56d3128b-5b58-46bb-fb18-ab21a25337ad"
      },
      "source": [
        "plt.scatter(y_test,tahminDizisi)\n",
        "plt.plot(y_test,y_test,\"g-*\")"
      ],
      "execution_count": null,
      "outputs": [
        {
          "output_type": "execute_result",
          "data": {
            "text/plain": [
              "[<matplotlib.lines.Line2D at 0x7f1d1e6d2850>]"
            ]
          },
          "metadata": {},
          "execution_count": 64
        },
        {
          "output_type": "display_data",
          "data": {
            "image/png": "[encoded data removed]",
            "text/plain": [
              "<Figure size 432x288 with 1 Axes>"
            ]
          },
          "metadata": {
            "needs_background": "light"
          }
        }
      ]
    },
    {
      "cell_type": "markdown",
      "metadata": {
        "id": "mefKmrwjnSnz"
      },
      "source": [
        "görüldüğü gibi çok normal ötesi bir durum yok,birkaç sapma var"
      ]
    },
    {
      "cell_type": "code",
      "metadata": {
        "colab": {
          "base_uri": "https://localhost:8080/",
          "height": 417
        },
        "id": "gA_IMn1gnRjG",
        "outputId": "2288b0fa-31c8-4151-c577-25708436b625"
      },
      "source": [
        "dataFrame"
      ],
      "execution_count": null,
      "outputs": [
        {
          "output_type": "execute_result",
          "data": {
            "text/html": [
              "<div>\n",
              "<style scoped>\n",
              "    .dataframe tbody tr th:only-of-type {\n",
              "        vertical-align: middle;\n",
              "    }\n",
              "\n",
              "    .dataframe tbody tr th {\n",
              "        vertical-align: top;\n",
              "    }\n",
              "\n",
              "    .dataframe thead th {\n",
              "        text-align: right;\n",
              "    }\n",
              "</style>\n",
              "<table border=\"1\" class=\"dataframe\">\n",
              "  <thead>\n",
              "    <tr style=\"text-align: right;\">\n",
              "      <th></th>\n",
              "      <th>year</th>\n",
              "      <th>price</th>\n",
              "      <th>mileage</th>\n",
              "      <th>tax</th>\n",
              "      <th>mpg</th>\n",
              "      <th>engineSize</th>\n",
              "    </tr>\n",
              "  </thead>\n",
              "  <tbody>\n",
              "    <tr>\n",
              "      <th>6177</th>\n",
              "      <td>2019</td>\n",
              "      <td>65990</td>\n",
              "      <td>5076</td>\n",
              "      <td>150</td>\n",
              "      <td>30.4</td>\n",
              "      <td>3.0</td>\n",
              "    </tr>\n",
              "    <tr>\n",
              "      <th>5779</th>\n",
              "      <td>2020</td>\n",
              "      <td>65990</td>\n",
              "      <td>999</td>\n",
              "      <td>145</td>\n",
              "      <td>28.0</td>\n",
              "      <td>4.0</td>\n",
              "    </tr>\n",
              "    <tr>\n",
              "      <th>3191</th>\n",
              "      <td>2020</td>\n",
              "      <td>65980</td>\n",
              "      <td>3999</td>\n",
              "      <td>145</td>\n",
              "      <td>28.0</td>\n",
              "      <td>4.0</td>\n",
              "    </tr>\n",
              "    <tr>\n",
              "      <th>4727</th>\n",
              "      <td>2019</td>\n",
              "      <td>65000</td>\n",
              "      <td>3398</td>\n",
              "      <td>145</td>\n",
              "      <td>27.2</td>\n",
              "      <td>4.0</td>\n",
              "    </tr>\n",
              "    <tr>\n",
              "      <th>8814</th>\n",
              "      <td>2019</td>\n",
              "      <td>64999</td>\n",
              "      <td>119</td>\n",
              "      <td>145</td>\n",
              "      <td>40.9</td>\n",
              "      <td>3.0</td>\n",
              "    </tr>\n",
              "    <tr>\n",
              "      <th>...</th>\n",
              "      <td>...</td>\n",
              "      <td>...</td>\n",
              "      <td>...</td>\n",
              "      <td>...</td>\n",
              "      <td>...</td>\n",
              "      <td>...</td>\n",
              "    </tr>\n",
              "    <tr>\n",
              "      <th>11549</th>\n",
              "      <td>2002</td>\n",
              "      <td>1495</td>\n",
              "      <td>13800</td>\n",
              "      <td>305</td>\n",
              "      <td>39.8</td>\n",
              "      <td>2.7</td>\n",
              "    </tr>\n",
              "    <tr>\n",
              "      <th>12594</th>\n",
              "      <td>2004</td>\n",
              "      <td>1495</td>\n",
              "      <td>119000</td>\n",
              "      <td>300</td>\n",
              "      <td>34.5</td>\n",
              "      <td>1.8</td>\n",
              "    </tr>\n",
              "    <tr>\n",
              "      <th>11765</th>\n",
              "      <td>2000</td>\n",
              "      <td>1490</td>\n",
              "      <td>87000</td>\n",
              "      <td>265</td>\n",
              "      <td>27.2</td>\n",
              "      <td>3.2</td>\n",
              "    </tr>\n",
              "    <tr>\n",
              "      <th>12008</th>\n",
              "      <td>2010</td>\n",
              "      <td>1350</td>\n",
              "      <td>116126</td>\n",
              "      <td>145</td>\n",
              "      <td>54.3</td>\n",
              "      <td>2.0</td>\n",
              "    </tr>\n",
              "    <tr>\n",
              "      <th>11816</th>\n",
              "      <td>2003</td>\n",
              "      <td>650</td>\n",
              "      <td>109090</td>\n",
              "      <td>235</td>\n",
              "      <td>40.0</td>\n",
              "      <td>1.4</td>\n",
              "    </tr>\n",
              "  </tbody>\n",
              "</table>\n",
              "<p>12987 rows × 6 columns</p>\n",
              "</div>"
            ],
            "text/plain": [
              "       year  price  mileage  tax   mpg  engineSize\n",
              "6177   2019  65990     5076  150  30.4         3.0\n",
              "5779   2020  65990      999  145  28.0         4.0\n",
              "3191   2020  65980     3999  145  28.0         4.0\n",
              "4727   2019  65000     3398  145  27.2         4.0\n",
              "8814   2019  64999      119  145  40.9         3.0\n",
              "...     ...    ...      ...  ...   ...         ...\n",
              "11549  2002   1495    13800  305  39.8         2.7\n",
              "12594  2004   1495   119000  300  34.5         1.8\n",
              "11765  2000   1490    87000  265  27.2         3.2\n",
              "12008  2010   1350   116126  145  54.3         2.0\n",
              "11816  2003    650   109090  235  40.0         1.4\n",
              "\n",
              "[12987 rows x 6 columns]"
            ]
          },
          "metadata": {},
          "execution_count": 65
        }
      ]
    },
    {
      "cell_type": "code",
      "metadata": {
        "colab": {
          "base_uri": "https://localhost:8080/"
        },
        "id": "NGkZ_dMan24F",
        "outputId": "36b979f9-c105-482d-8d66-61fa98668f1b"
      },
      "source": [
        "dataFrame.iloc[2] #3.elemanı getirir."
      ],
      "execution_count": null,
      "outputs": [
        {
          "output_type": "execute_result",
          "data": {
            "text/plain": [
              "year           2020.0\n",
              "price         65980.0\n",
              "mileage        3999.0\n",
              "tax             145.0\n",
              "mpg              28.0\n",
              "engineSize        4.0\n",
              "Name: 3191, dtype: float64"
            ]
          },
          "metadata": {},
          "execution_count": 66
        }
      ]
    },
    {
      "cell_type": "code",
      "metadata": {
        "id": "nblW-FpuoAC-"
      },
      "source": [
        "yeniArabaSeries= dataFrame.drop(\"price\",axis=1).iloc[2]  #3.elemanı çıkarıyoruz."
      ],
      "execution_count": null,
      "outputs": []
    },
    {
      "cell_type": "code",
      "metadata": {
        "colab": {
          "base_uri": "https://localhost:8080/"
        },
        "id": "_6qEvkRhu1hB",
        "outputId": "cac75dff-bc8c-4ebd-e716-cfa4f63ba9e4"
      },
      "source": [
        "yeniArabaSeries"
      ],
      "execution_count": null,
      "outputs": [
        {
          "output_type": "execute_result",
          "data": {
            "text/plain": [
              "year          2020.0\n",
              "mileage       3999.0\n",
              "tax            145.0\n",
              "mpg             28.0\n",
              "engineSize       4.0\n",
              "Name: 3191, dtype: float64"
            ]
          },
          "metadata": {},
          "execution_count": 68
        }
      ]
    },
    {
      "cell_type": "code",
      "metadata": {
        "id": "4ih0p0vXu2dY"
      },
      "source": [
        "yeniArabaSeries=scaler.transform(yeniArabaSeries.values.reshape(-1,5))"
      ],
      "execution_count": null,
      "outputs": []
    },
    {
      "cell_type": "code",
      "metadata": {
        "colab": {
          "base_uri": "https://localhost:8080/"
        },
        "id": "o5VGs5HpvqV6",
        "outputId": "13a9723d-38dd-407c-884c-3b7d4f3ca9e0"
      },
      "source": [
        "model.predict(yeniArabaSeries)"
      ],
      "execution_count": null,
      "outputs": [
        {
          "output_type": "execute_result",
          "data": {
            "text/plain": [
              "array([[61728.65]], dtype=float32)"
            ]
          },
          "metadata": {},
          "execution_count": 70
        }
      ]
    },
    {
      "cell_type": "markdown",
      "metadata": {
        "id": "PGfEuTOfv4jd"
      },
      "source": [
        "veri setinden çıkartarak aldıgımız 65bin paunda satılmış arabayı,61bin paund bulduk.bu deger yakın bir deger."
      ]
    },
    {
      "cell_type": "code",
      "metadata": {
        "id": "vUh8jyelvvDm"
      },
      "source": [
        ""
      ],
      "execution_count": null,
      "outputs": []
    }
  ]
}