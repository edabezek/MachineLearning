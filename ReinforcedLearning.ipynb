{
  "nbformat": 4,
  "nbformat_minor": 0,
  "metadata": {
    "colab": {
      "name": "ReinforcedLearning.ipynb",
      "provenance": [],
      "collapsed_sections": [],
      "authorship_tag": "ABX9TyOe1+NgZudAAqA6nutv8gd0",
      "include_colab_link": true
    },
    "kernelspec": {
      "name": "python3",
      "display_name": "Python 3"
    },
    "language_info": {
      "name": "python"
    }
  },
  "cells": [
    {
      "cell_type": "markdown",
      "metadata": {
        "id": "view-in-github",
        "colab_type": "text"
      },
      "source": [
        "<a href=\"https://colab.research.google.com/github/edabezek/MachineLearning/blob/main/ReinforcedLearning.ipynb\" target=\"_parent\"><img src=\"https://colab.research.google.com/assets/colab-badge.svg\" alt=\"Open In Colab\"/></a>"
      ]
    },
    {
      "cell_type": "markdown",
      "metadata": {
        "id": "UcfEPmnjrblU"
      },
      "source": [
        "##random selection uygulaması "
      ]
    },
    {
      "cell_type": "code",
      "metadata": {
        "id": "L2_EpePLhMfc"
      },
      "source": [
        "import numpy as np\n",
        "import pandas as pd\n",
        "import matplotlib.pyplot as plt\n",
        "\n",
        "veriler = pd.read_csv('Ads_CTR_Optimisation.csv')\n"
      ],
      "execution_count": null,
      "outputs": []
    },
    {
      "cell_type": "code",
      "metadata": {
        "colab": {
          "base_uri": "https://localhost:8080/",
          "height": 265
        },
        "id": "9nSs--lKf0XI",
        "outputId": "4cc90b4e-6915-481d-f8b8-45453e1f4fe8"
      },
      "source": [
        "\n",
        "import random\n",
        "\n",
        "N = 10000\n",
        "d = 10 \n",
        "toplam = 0\n",
        "secilenler = []\n",
        "for n in range(0,N):\n",
        "    ad = random.randrange(d)\n",
        "    secilenler.append(ad)\n",
        "    odul = veriler.values[n,ad] # verilerdeki n. satır = 1 ise odul 1\n",
        "    toplam = toplam + odul\n",
        "    \n",
        "    \n",
        "plt.hist(secilenler)\n",
        "plt.show()\n",
        "#grafik her bir ilandan ne kadar seçildiğini gösteriyor."
      ],
      "execution_count": null,
      "outputs": [
        {
          "output_type": "display_data",
          "data": {
            "image/png": "[encoded data removed]",
            "text/plain": [
              "<Figure size 432x288 with 1 Axes>"
            ]
          },
          "metadata": {
            "needs_background": "light"
          }
        }
      ]
    },
    {
      "cell_type": "code",
      "metadata": {
        "colab": {
          "base_uri": "https://localhost:8080/",
          "height": 298
        },
        "id": "MZ44ad2mu7CA",
        "outputId": "b2685fb7-1545-4d04-f51e-a2be2aa926b6"
      },
      "source": [
        "import math\n",
        "N = 10000 # 10.000 tıklama\n",
        "d = 10  # toplam 10 ilan var\n",
        "#Ri(n)\n",
        "oduller = [0] * d #ilk basta butun ilanların odulu 0\n",
        "#Ni(n)\n",
        "tiklamalar = [0] * d #o ana kadarki tıklamalar\n",
        "toplam = 0 # toplam odul\n",
        "secilenler = []\n",
        "for n in range(1,N):\n",
        "    ad = 0 #seçilen ilan\n",
        "    max_ucb = 0\n",
        "    for i in range(0,d):\n",
        "        if(tiklamalar[i] > 0):\n",
        "            ortalama = oduller[i] / tiklamalar[i]\n",
        "            delta = math.sqrt(3/2* math.log(n)/tiklamalar[i])\n",
        "            ucb = ortalama + delta\n",
        "        else:\n",
        "            ucb = N*10\n",
        "        if max_ucb < ucb: #max'tan büyük bir ucb çıktı\n",
        "            max_ucb = ucb\n",
        "            ad = i          \n",
        "    secilenler.append(ad)\n",
        "    tiklamalar[ad] = tiklamalar[ad]+ 1\n",
        "    odul = veriler.values[n,ad] # verilerdeki n. satır = 1 ise odul 1\n",
        "    oduller[ad] = oduller[ad]+ odul\n",
        "    toplam = toplam + odul\n",
        "print('Toplam Odul:')   \n",
        "print(toplam)\n",
        "\n",
        "plt.hist(secilenler)\n",
        "plt.show()\n"
      ],
      "execution_count": null,
      "outputs": [
        {
          "output_type": "stream",
          "name": "stdout",
          "text": [
            "Toplam Odul:\n",
            "2231\n"
          ]
        },
        {
          "output_type": "display_data",
          "data": {
            "image/png": "[encoded data removed]",
            "text/plain": [
              "<Figure size 432x288 with 1 Axes>"
            ]
          },
          "metadata": {
            "needs_background": "light"
          }
        }
      ]
    },
    {
      "cell_type": "markdown",
      "metadata": {
        "id": "JMhbKErC0RyE"
      },
      "source": [
        "4 nolu değişken yani ad5 toplamda 2695 tıklama vardı. toplam ödülümüz 2231 çıktı grafikte 4 ü işaret ediyor."
      ]
    },
    {
      "cell_type": "markdown",
      "metadata": {
        "id": "1zcXKfXZugt5"
      },
      "source": [
        "Thompson Örneklemesi (Sampling)"
      ]
    },
    {
      "cell_type": "code",
      "metadata": {
        "id": "tqOZrnIqsklv",
        "colab": {
          "base_uri": "https://localhost:8080/",
          "height": 298
        },
        "outputId": "03e760aa-dadc-4df4-f7dd-1ea7bccd38b4"
      },
      "source": [
        "import random\n",
        "N = 10000 # 10.000 tıklama\n",
        "d = 10  # toplam 10 ilan var\n",
        "#Ri(\n",
        "#Ni(n)\n",
        "toplam = 0 # toplam odul\n",
        "secilenler = []\n",
        "birler = [0] * d\n",
        "sifirlar = [0] * d\n",
        "for n in range(1,N):\n",
        "    ad = 0 #seçilen ilan\n",
        "    max_th = 0\n",
        "    for i in range(0,d):\n",
        "        rasbeta = random.betavariate ( birler[i] + 1 , sifirlar[i] +1)\n",
        "        if rasbeta > max_th:\n",
        "            max_th = rasbeta\n",
        "            ad = i\n",
        "    secilenler.append(ad)\n",
        "    odul = veriler.values[n,ad] # verilerdeki n. satır = 1 ise odul 1\n",
        "    if odul == 1:\n",
        "        birler[ad] = birler[ad]+1\n",
        "    else :\n",
        "        sifirlar[ad] = sifirlar[ad] + 1\n",
        "    toplam = toplam + odul\n",
        "print('Toplam Odul:')   \n",
        "print(toplam)\n",
        "\n",
        "plt.hist(secilenler)\n",
        "plt.show()"
      ],
      "execution_count": null,
      "outputs": [
        {
          "output_type": "stream",
          "name": "stdout",
          "text": [
            "Toplam Odul:\n",
            "2625\n"
          ]
        },
        {
          "output_type": "display_data",
          "data": {
            "image/png": "[encoded data removed]",
            "text/plain": [
              "<Figure size 432x288 with 1 Axes>"
            ]
          },
          "metadata": {
            "needs_background": "light"
          }
        }
      ]
    },
    {
      "cell_type": "markdown",
      "metadata": {
        "id": "W3ut7NyV2vyB"
      },
      "source": [
        "burada ödül daha yüksek geldi daha başarılı diyebiliriz. sebebi arakadaki dağılımdan kaynaklı ucb ile diğer şeyler aynı ."
      ]
    },
    {
      "cell_type": "code",
      "metadata": {
        "id": "R7ikuyW612vh"
      },
      "source": [
        ""
      ],
      "execution_count": null,
      "outputs": []
    }
  ]
}