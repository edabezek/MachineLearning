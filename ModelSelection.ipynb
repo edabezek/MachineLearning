{
  "nbformat": 4,
  "nbformat_minor": 0,
  "metadata": {
    "colab": {
      "name": "ModelSelection.ipynb",
      "provenance": [],
      "authorship_tag": "ABX9TyNRT7rSBDAvyhnZ00wEV3R9",
      "include_colab_link": true
    },
    "kernelspec": {
      "name": "python3",
      "display_name": "Python 3"
    },
    "language_info": {
      "name": "python"
    }
  },
  "cells": [
    {
      "cell_type": "markdown",
      "metadata": {
        "id": "view-in-github",
        "colab_type": "text"
      },
      "source": [
        "<a href=\"https://colab.research.google.com/github/edabezek/MachineLearning/blob/main/ModelSelection.ipynb\" target=\"_parent\"><img src=\"https://colab.research.google.com/assets/colab-badge.svg\" alt=\"Open In Colab\"/></a>"
      ]
    },
    {
      "cell_type": "code",
      "metadata": {
        "id": "cfOYyGTaI38V"
      },
      "source": [
        "#k-fold uygulaması\n",
        "import numpy as np\n",
        "import matplotlib.pyplot as plt\n",
        "import pandas as pd"
      ],
      "execution_count": null,
      "outputs": []
    },
    {
      "cell_type": "code",
      "metadata": {
        "id": "HNqxFSVIbAY-"
      },
      "source": [
        "# veri kümesi sosyal ağlrda verilen reklamlar üzerinden yapılmış, biz reklamın başarısını ölçmeye çalışıyoruz.\n",
        "dataset = pd.read_csv('Social_Network_Ads.csv')\n",
        "X = dataset.iloc[:, [2, 3]].values\n",
        "y = dataset.iloc[:, 4].values\n"
      ],
      "execution_count": null,
      "outputs": []
    },
    {
      "cell_type": "code",
      "metadata": {
        "colab": {
          "base_uri": "https://localhost:8080/",
          "height": 203
        },
        "id": "cvP0w6lzbe8I",
        "outputId": "d58c42a5-ca1f-4bad-9efa-a13e72553f3e"
      },
      "source": [
        "dataset.head() #purchased reklamın alınıp alınmadığı"
      ],
      "execution_count": null,
      "outputs": [
        {
          "output_type": "execute_result",
          "data": {
            "text/html": [
              "<div>\n",
              "<style scoped>\n",
              "    .dataframe tbody tr th:only-of-type {\n",
              "        vertical-align: middle;\n",
              "    }\n",
              "\n",
              "    .dataframe tbody tr th {\n",
              "        vertical-align: top;\n",
              "    }\n",
              "\n",
              "    .dataframe thead th {\n",
              "        text-align: right;\n",
              "    }\n",
              "</style>\n",
              "<table border=\"1\" class=\"dataframe\">\n",
              "  <thead>\n",
              "    <tr style=\"text-align: right;\">\n",
              "      <th></th>\n",
              "      <th>User ID</th>\n",
              "      <th>Gender</th>\n",
              "      <th>Age</th>\n",
              "      <th>EstimatedSalary</th>\n",
              "      <th>Purchased</th>\n",
              "    </tr>\n",
              "  </thead>\n",
              "  <tbody>\n",
              "    <tr>\n",
              "      <th>0</th>\n",
              "      <td>15624510</td>\n",
              "      <td>Male</td>\n",
              "      <td>19.0</td>\n",
              "      <td>19000.0</td>\n",
              "      <td>0</td>\n",
              "    </tr>\n",
              "    <tr>\n",
              "      <th>1</th>\n",
              "      <td>15810944</td>\n",
              "      <td>Male</td>\n",
              "      <td>35.0</td>\n",
              "      <td>20000.0</td>\n",
              "      <td>0</td>\n",
              "    </tr>\n",
              "    <tr>\n",
              "      <th>2</th>\n",
              "      <td>15668575</td>\n",
              "      <td>Female</td>\n",
              "      <td>26.0</td>\n",
              "      <td>43000.0</td>\n",
              "      <td>0</td>\n",
              "    </tr>\n",
              "    <tr>\n",
              "      <th>3</th>\n",
              "      <td>15603246</td>\n",
              "      <td>Female</td>\n",
              "      <td>27.0</td>\n",
              "      <td>57000.0</td>\n",
              "      <td>0</td>\n",
              "    </tr>\n",
              "    <tr>\n",
              "      <th>4</th>\n",
              "      <td>15804002</td>\n",
              "      <td>Male</td>\n",
              "      <td>19.0</td>\n",
              "      <td>76000.0</td>\n",
              "      <td>0</td>\n",
              "    </tr>\n",
              "  </tbody>\n",
              "</table>\n",
              "</div>"
            ],
            "text/plain": [
              "    User ID  Gender   Age  EstimatedSalary  Purchased\n",
              "0  15624510    Male  19.0          19000.0          0\n",
              "1  15810944    Male  35.0          20000.0          0\n",
              "2  15668575  Female  26.0          43000.0          0\n",
              "3  15603246  Female  27.0          57000.0          0\n",
              "4  15804002    Male  19.0          76000.0          0"
            ]
          },
          "metadata": {},
          "execution_count": 5
        }
      ]
    },
    {
      "cell_type": "code",
      "metadata": {
        "id": "5nVwg-YobUp3"
      },
      "source": [
        "# eğitim ve test kümelerinin bölünmesi\n",
        "from sklearn.model_selection import train_test_split\n",
        "X_train, X_test, y_train, y_test = train_test_split(X, y, test_size = 0.25, random_state = 0)"
      ],
      "execution_count": null,
      "outputs": []
    },
    {
      "cell_type": "code",
      "metadata": {
        "id": "-DSj2Eo7bYz5"
      },
      "source": [
        "# Ölçekleme\n",
        "from sklearn.preprocessing import StandardScaler\n",
        "sc = StandardScaler()\n",
        "X_train = sc.fit_transform(X_train)\n",
        "X_test = sc.transform(X_test)\n"
      ],
      "execution_count": null,
      "outputs": []
    },
    {
      "cell_type": "code",
      "metadata": {
        "colab": {
          "base_uri": "https://localhost:8080/"
        },
        "id": "2RoKLYh3bvOr",
        "outputId": "070e0f3c-e818-4725-dc23-abd5e316850a"
      },
      "source": [
        "# SVM\n",
        "from sklearn.svm import SVC\n",
        "classifier = SVC(kernel = 'rbf', random_state = 0)\n",
        "classifier.fit(X_train, y_train)\n"
      ],
      "execution_count": null,
      "outputs": [
        {
          "output_type": "execute_result",
          "data": {
            "text/plain": [
              "SVC(C=1.0, break_ties=False, cache_size=200, class_weight=None, coef0=0.0,\n",
              "    decision_function_shape='ovr', degree=3, gamma='scale', kernel='rbf',\n",
              "    max_iter=-1, probability=False, random_state=0, shrinking=True, tol=0.001,\n",
              "    verbose=False)"
            ]
          },
          "metadata": {},
          "execution_count": 8
        }
      ]
    },
    {
      "cell_type": "code",
      "metadata": {
        "id": "VnZnoiyObyCa"
      },
      "source": [
        "# Tahminler\n",
        "y_pred = classifier.predict(X_test)"
      ],
      "execution_count": null,
      "outputs": []
    },
    {
      "cell_type": "code",
      "metadata": {
        "colab": {
          "base_uri": "https://localhost:8080/"
        },
        "id": "URDYO2pRb0fq",
        "outputId": "c3d7fbb3-5147-4bb1-f296-d91ac965348c"
      },
      "source": [
        "#  Confusion Matrix\n",
        "from sklearn.metrics import confusion_matrix\n",
        "cm = confusion_matrix(y_test, y_pred)\n",
        "\n",
        "print(cm)\n"
      ],
      "execution_count": null,
      "outputs": [
        {
          "output_type": "stream",
          "name": "stdout",
          "text": [
            "[[64  4]\n",
            " [ 3 29]]\n"
          ]
        }
      ]
    },
    {
      "cell_type": "code",
      "metadata": {
        "id": "CLmAK9Lbb26w"
      },
      "source": [
        "#k-katlamali capraz dogrulama \n",
        "from sklearn.model_selection import cross_val_score"
      ],
      "execution_count": null,
      "outputs": []
    },
    {
      "cell_type": "code",
      "metadata": {
        "colab": {
          "base_uri": "https://localhost:8080/"
        },
        "id": "f7uxHkbicFHk",
        "outputId": "4314cf72-a4a5-49e7-c612-af6a3bb7790c"
      },
      "source": [
        "''' \n",
        "1. estimator : classifier (bizim durum)\n",
        "2. X\n",
        "3. Y\n",
        "4. cv : kaç katlamalı\n",
        "\n",
        "'''\n",
        "\n",
        "basari = cross_val_score(estimator = classifier, X=X_train, y=y_train , cv = 4)\n",
        "print(basari.mean()) #başarının ortalaması\n",
        "print(basari.std()) #başarının standart sapması\n"
      ],
      "execution_count": null,
      "outputs": [
        {
          "output_type": "stream",
          "name": "stdout",
          "text": [
            "0.8999999999999999\n",
            "0.03590109871423001\n"
          ]
        }
      ]
    },
    {
      "cell_type": "markdown",
      "metadata": {
        "id": "D0bGoYdvc1Hr"
      },
      "source": [
        "accuracy ort yüzde 90 çıktı."
      ]
    },
    {
      "cell_type": "code",
      "metadata": {
        "colab": {
          "base_uri": "https://localhost:8080/"
        },
        "id": "kSKUDJevcuag",
        "outputId": "4b5bda72-5acd-4233-d42f-592790bdbe0b"
      },
      "source": [
        "# parametremetre optimizasyonu ve algoritma seçimi\n",
        "from sklearn.model_selection import GridSearchCV\n",
        "p = [{'C':[1,2,3,4,5],'kernel':['linear']},\n",
        "     {'C':[1,2,3,4,5] ,'kernel':['rbf'], #ilk denemeyi 1,10,100,1000 yapmıştık\n",
        "      'gamma':[1,0.5,0.1,0.01,0.001]} ]\n",
        "\n",
        "'''\n",
        "GSCV parametreleri\n",
        "estimator : sınıflandırma algoritması (neyi optimize etmek istediğimiz)\n",
        "param_grid : parametreler/ denenecekler\n",
        "scoring: neye göre skorlanacak : örn : accuracy\n",
        "cv : kaç katlamalı olacağı\n",
        "n_jobs : aynı anda çalışacak iş\n",
        "'''\n",
        "gs = GridSearchCV(estimator= classifier, #SVM algoritması\n",
        "                  param_grid = p,\n",
        "                  scoring =  'accuracy',\n",
        "                  cv = 10,\n",
        "                  n_jobs = -1)\n",
        "\n",
        "grid_search = gs.fit(X_train,y_train)\n",
        "eniyisonuc = grid_search.best_score_\n",
        "eniyiparametreler = grid_search.best_params_\n",
        "\n",
        "print(eniyisonuc)\n",
        "print(eniyiparametreler)\n",
        "\n",
        "\n"
      ],
      "execution_count": null,
      "outputs": [
        {
          "output_type": "stream",
          "name": "stdout",
          "text": [
            "0.9099999999999999\n",
            "{'C': 1, 'gamma': 1, 'kernel': 'rbf'}\n"
          ]
        }
      ]
    },
    {
      "cell_type": "markdown",
      "metadata": {
        "id": "FYEWIUuFmt3R"
      },
      "source": [
        "en iyi sonuç 0.9099 bu ve {'C': 1, 'gamma': 1, 'kernel': 'rbf'} bu parametreler ile çalışmış. yukarıda normalde herhangi bir parametre optimizasyonu yapmadığımızda 0.89999 çıkmıştı. Başarı artışı var"
      ]
    },
    {
      "cell_type": "code",
      "metadata": {
        "id": "Rx27I0OumliR"
      },
      "source": [
        ""
      ],
      "execution_count": null,
      "outputs": []
    }
  ]
}