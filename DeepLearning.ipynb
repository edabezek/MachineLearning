{
  "nbformat": 4,
  "nbformat_minor": 0,
  "metadata": {
    "colab": {
      "name": "DeepLearning.ipynb",
      "provenance": [],
      "authorship_tag": "ABX9TyNlEZdyx3aABaPlxEu69bbH",
      "include_colab_link": true
    },
    "kernelspec": {
      "name": "python3",
      "display_name": "Python 3"
    },
    "language_info": {
      "name": "python"
    }
  },
  "cells": [
    {
      "cell_type": "markdown",
      "metadata": {
        "id": "view-in-github",
        "colab_type": "text"
      },
      "source": [
        "<a href=\"https://colab.research.google.com/github/edabezek/MachineLearning/blob/main/DeepLearning.ipynb\" target=\"_parent\"><img src=\"https://colab.research.google.com/assets/colab-badge.svg\" alt=\"Open In Colab\"/></a>"
      ]
    },
    {
      "cell_type": "code",
      "metadata": {
        "colab": {
          "base_uri": "https://localhost:8080/"
        },
        "id": "7fJLLQ8T5YZR",
        "outputId": "fb42b36e-36de-44a2-8559-d5176da9bc40"
      },
      "source": [
        "import numpy\n",
        "print('numpy:', numpy.__version__)\n",
        "\n",
        "import scipy\n",
        "print('scipy:', scipy.__version__)\n",
        "\n",
        "import matplotlib\n",
        "print('matplotlib:', matplotlib.__version__)\n",
        "\n",
        "import IPython\n",
        "print('iPython:', IPython.__version__)\n",
        "\n",
        "import sklearn\n",
        "print('scikit-learn:', sklearn.__version__)"
      ],
      "execution_count": null,
      "outputs": [
        {
          "output_type": "stream",
          "name": "stdout",
          "text": [
            "numpy: 1.19.5\n",
            "scipy: 1.4.1\n",
            "matplotlib: 3.2.2\n",
            "iPython: 5.5.0\n",
            "scikit-learn: 0.22.2.post1\n"
          ]
        }
      ]
    },
    {
      "cell_type": "code",
      "metadata": {
        "colab": {
          "base_uri": "https://localhost:8080/"
        },
        "id": "awwOsHpc6nDv",
        "outputId": "80c2c01f-6d40-430d-b5e9-2935fa6f8f64"
      },
      "source": [
        "import keras\n",
        "print('keras: ', keras.__version__)\n",
        "\n",
        "# optional\n",
        "import theano\n",
        "print('Theano: ', theano.__version__)\n",
        "\n",
        "import tensorflow as tf\n",
        "print('Tensorflow: ', tf.__version__)"
      ],
      "execution_count": null,
      "outputs": [
        {
          "output_type": "stream",
          "name": "stdout",
          "text": [
            "keras:  2.6.0\n",
            "Theano:  1.1.2\n",
            "Tensorflow:  2.6.0\n"
          ]
        }
      ]
    },
    {
      "cell_type": "code",
      "metadata": {
        "id": "yD9BDDSW6uli"
      },
      "source": [
        "import numpy as np\n",
        "import matplotlib.pyplot as plt\n",
        "import pandas as pd"
      ],
      "execution_count": null,
      "outputs": []
    },
    {
      "cell_type": "code",
      "metadata": {
        "colab": {
          "base_uri": "https://localhost:8080/",
          "height": 223
        },
        "id": "8pdrskOr8_XT",
        "outputId": "56698a57-c443-4c71-902a-d9042c1650aa"
      },
      "source": [
        "veriler = pd.read_csv('Churn_Modelling.csv')\n",
        "veriler.head()"
      ],
      "execution_count": null,
      "outputs": [
        {
          "output_type": "execute_result",
          "data": {
            "text/html": [
              "<div>\n",
              "<style scoped>\n",
              "    .dataframe tbody tr th:only-of-type {\n",
              "        vertical-align: middle;\n",
              "    }\n",
              "\n",
              "    .dataframe tbody tr th {\n",
              "        vertical-align: top;\n",
              "    }\n",
              "\n",
              "    .dataframe thead th {\n",
              "        text-align: right;\n",
              "    }\n",
              "</style>\n",
              "<table border=\"1\" class=\"dataframe\">\n",
              "  <thead>\n",
              "    <tr style=\"text-align: right;\">\n",
              "      <th></th>\n",
              "      <th>RowNumber</th>\n",
              "      <th>CustomerId</th>\n",
              "      <th>Surname</th>\n",
              "      <th>CreditScore</th>\n",
              "      <th>Geography</th>\n",
              "      <th>Gender</th>\n",
              "      <th>Age</th>\n",
              "      <th>Tenure</th>\n",
              "      <th>Balance</th>\n",
              "      <th>NumOfProducts</th>\n",
              "      <th>HasCrCard</th>\n",
              "      <th>IsActiveMember</th>\n",
              "      <th>EstimatedSalary</th>\n",
              "      <th>Exited</th>\n",
              "    </tr>\n",
              "  </thead>\n",
              "  <tbody>\n",
              "    <tr>\n",
              "      <th>0</th>\n",
              "      <td>1</td>\n",
              "      <td>15634602</td>\n",
              "      <td>Hargrave</td>\n",
              "      <td>619</td>\n",
              "      <td>France</td>\n",
              "      <td>Female</td>\n",
              "      <td>42</td>\n",
              "      <td>2</td>\n",
              "      <td>0.00</td>\n",
              "      <td>1</td>\n",
              "      <td>1</td>\n",
              "      <td>1</td>\n",
              "      <td>101348.88</td>\n",
              "      <td>1</td>\n",
              "    </tr>\n",
              "    <tr>\n",
              "      <th>1</th>\n",
              "      <td>2</td>\n",
              "      <td>15647311</td>\n",
              "      <td>Hill</td>\n",
              "      <td>608</td>\n",
              "      <td>Spain</td>\n",
              "      <td>Female</td>\n",
              "      <td>41</td>\n",
              "      <td>1</td>\n",
              "      <td>83807.86</td>\n",
              "      <td>1</td>\n",
              "      <td>0</td>\n",
              "      <td>1</td>\n",
              "      <td>112542.58</td>\n",
              "      <td>0</td>\n",
              "    </tr>\n",
              "    <tr>\n",
              "      <th>2</th>\n",
              "      <td>3</td>\n",
              "      <td>15619304</td>\n",
              "      <td>Onio</td>\n",
              "      <td>502</td>\n",
              "      <td>France</td>\n",
              "      <td>Female</td>\n",
              "      <td>42</td>\n",
              "      <td>8</td>\n",
              "      <td>159660.80</td>\n",
              "      <td>3</td>\n",
              "      <td>1</td>\n",
              "      <td>0</td>\n",
              "      <td>113931.57</td>\n",
              "      <td>1</td>\n",
              "    </tr>\n",
              "    <tr>\n",
              "      <th>3</th>\n",
              "      <td>4</td>\n",
              "      <td>15701354</td>\n",
              "      <td>Boni</td>\n",
              "      <td>699</td>\n",
              "      <td>France</td>\n",
              "      <td>Female</td>\n",
              "      <td>39</td>\n",
              "      <td>1</td>\n",
              "      <td>0.00</td>\n",
              "      <td>2</td>\n",
              "      <td>0</td>\n",
              "      <td>0</td>\n",
              "      <td>93826.63</td>\n",
              "      <td>0</td>\n",
              "    </tr>\n",
              "    <tr>\n",
              "      <th>4</th>\n",
              "      <td>5</td>\n",
              "      <td>15737888</td>\n",
              "      <td>Mitchell</td>\n",
              "      <td>850</td>\n",
              "      <td>Spain</td>\n",
              "      <td>Female</td>\n",
              "      <td>43</td>\n",
              "      <td>2</td>\n",
              "      <td>125510.82</td>\n",
              "      <td>1</td>\n",
              "      <td>1</td>\n",
              "      <td>1</td>\n",
              "      <td>79084.10</td>\n",
              "      <td>0</td>\n",
              "    </tr>\n",
              "  </tbody>\n",
              "</table>\n",
              "</div>"
            ],
            "text/plain": [
              "   RowNumber  CustomerId   Surname  ...  IsActiveMember EstimatedSalary Exited\n",
              "0          1    15634602  Hargrave  ...               1       101348.88      1\n",
              "1          2    15647311      Hill  ...               1       112542.58      0\n",
              "2          3    15619304      Onio  ...               0       113931.57      1\n",
              "3          4    15701354      Boni  ...               0        93826.63      0\n",
              "4          5    15737888  Mitchell  ...               1        79084.10      0\n",
              "\n",
              "[5 rows x 14 columns]"
            ]
          },
          "metadata": {},
          "execution_count": 4
        }
      ]
    },
    {
      "cell_type": "code",
      "metadata": {
        "id": "S0dUSnrb9LzB"
      },
      "source": [
        "#veri on isleme\n",
        "\n",
        "X= veriler.iloc[:,3:13].values #rownumber,customerıd,surname atıyoruz\n",
        "Y = veriler.iloc[:,13].values #son kolon Y değeri olacak\n",
        "\n"
      ],
      "execution_count": null,
      "outputs": []
    },
    {
      "cell_type": "code",
      "metadata": {
        "colab": {
          "base_uri": "https://localhost:8080/"
        },
        "id": "z1A-a8nRFlZa",
        "outputId": "e0b0ed46-0157-4a58-f38a-1796393092a2"
      },
      "source": [
        "#encoder: Kategorik -> Numeric\n",
        "from sklearn import preprocessing\n",
        "\n",
        "le = preprocessing.LabelEncoder()\n",
        "X[:,1] = le.fit_transform(X[:,1]) #x'in 1 inci kolonu encode olup yerine geçecek, cografi kısım\n",
        "\n",
        "X[:5]"
      ],
      "execution_count": null,
      "outputs": [
        {
          "output_type": "execute_result",
          "data": {
            "text/plain": [
              "array([[619, 0, 'Female', 42, 2, 0.0, 1, 1, 1, 101348.88],\n",
              "       [608, 2, 'Female', 41, 1, 83807.86, 1, 0, 1, 112542.58],\n",
              "       [502, 0, 'Female', 42, 8, 159660.8, 3, 1, 0, 113931.57],\n",
              "       [699, 0, 'Female', 39, 1, 0.0, 2, 0, 0, 93826.63],\n",
              "       [850, 2, 'Female', 43, 2, 125510.82, 1, 1, 1, 79084.1]],\n",
              "      dtype=object)"
            ]
          },
          "metadata": {},
          "execution_count": 9
        }
      ]
    },
    {
      "cell_type": "code",
      "metadata": {
        "id": "i_-NwGYkFzcs"
      },
      "source": [
        "le2 = preprocessing.LabelEncoder()\n",
        "X[:,2] = le2.fit_transform(X[:,2]) #gender encoding olacak"
      ],
      "execution_count": null,
      "outputs": []
    },
    {
      "cell_type": "code",
      "metadata": {
        "colab": {
          "base_uri": "https://localhost:8080/"
        },
        "id": "_4SR5JntGXf-",
        "outputId": "29766680-7991-4f33-d6a6-bfc4c40796ea"
      },
      "source": [
        "X[:5]"
      ],
      "execution_count": null,
      "outputs": [
        {
          "output_type": "execute_result",
          "data": {
            "text/plain": [
              "array([[619, 0, 0, 42, 2, 0.0, 1, 1, 1, 101348.88],\n",
              "       [608, 2, 0, 41, 1, 83807.86, 1, 0, 1, 112542.58],\n",
              "       [502, 0, 0, 42, 8, 159660.8, 3, 1, 0, 113931.57],\n",
              "       [699, 0, 0, 39, 1, 0.0, 2, 0, 0, 93826.63],\n",
              "       [850, 2, 0, 43, 2, 125510.82, 1, 1, 1, 79084.1]], dtype=object)"
            ]
          },
          "metadata": {},
          "execution_count": 11
        }
      ]
    },
    {
      "cell_type": "code",
      "metadata": {
        "id": "MWWXQRGKGax-"
      },
      "source": [
        "#burada ülke kolonunu 1-0 şeklinde onehotencoding yapıyoruz. gender zaten 1-0 olmuştu.\n",
        "from sklearn.compose import ColumnTransformer\n",
        "from sklearn.preprocessing import OneHotEncoder\n",
        "\n",
        "ohe = ColumnTransformer([(\"ohe\", OneHotEncoder(dtype=float),[1])],\n",
        "                        remainder=\"passthrough\"\n",
        "                        )\n",
        "X = ohe.fit_transform(X)\n",
        "X = X[:,1:]\n"
      ],
      "execution_count": null,
      "outputs": []
    },
    {
      "cell_type": "code",
      "metadata": {
        "colab": {
          "base_uri": "https://localhost:8080/"
        },
        "id": "L4ATJFoQHkic",
        "outputId": "44d7de8e-f75b-4ee8-832a-9cfd8a8e8d8f"
      },
      "source": [
        "X[:5]"
      ],
      "execution_count": null,
      "outputs": [
        {
          "output_type": "execute_result",
          "data": {
            "text/plain": [
              "array([[0.0, 0.0, 619, 0, 42, 2, 0.0, 1, 1, 1, 101348.88],\n",
              "       [0.0, 1.0, 608, 0, 41, 1, 83807.86, 1, 0, 1, 112542.58],\n",
              "       [0.0, 0.0, 502, 0, 42, 8, 159660.8, 3, 1, 0, 113931.57],\n",
              "       [0.0, 0.0, 699, 0, 39, 1, 0.0, 2, 0, 0, 93826.63],\n",
              "       [0.0, 1.0, 850, 0, 43, 2, 125510.82, 1, 1, 1, 79084.1]],\n",
              "      dtype=object)"
            ]
          },
          "metadata": {},
          "execution_count": 13
        }
      ]
    },
    {
      "cell_type": "code",
      "metadata": {
        "colab": {
          "base_uri": "https://localhost:8080/",
          "height": 223
        },
        "id": "FdWbroLfHnSG",
        "outputId": "1f2687f0-8e2d-4478-b041-1742e28d1676"
      },
      "source": [
        "veriler.head()"
      ],
      "execution_count": null,
      "outputs": [
        {
          "output_type": "execute_result",
          "data": {
            "text/html": [
              "<div>\n",
              "<style scoped>\n",
              "    .dataframe tbody tr th:only-of-type {\n",
              "        vertical-align: middle;\n",
              "    }\n",
              "\n",
              "    .dataframe tbody tr th {\n",
              "        vertical-align: top;\n",
              "    }\n",
              "\n",
              "    .dataframe thead th {\n",
              "        text-align: right;\n",
              "    }\n",
              "</style>\n",
              "<table border=\"1\" class=\"dataframe\">\n",
              "  <thead>\n",
              "    <tr style=\"text-align: right;\">\n",
              "      <th></th>\n",
              "      <th>RowNumber</th>\n",
              "      <th>CustomerId</th>\n",
              "      <th>Surname</th>\n",
              "      <th>CreditScore</th>\n",
              "      <th>Geography</th>\n",
              "      <th>Gender</th>\n",
              "      <th>Age</th>\n",
              "      <th>Tenure</th>\n",
              "      <th>Balance</th>\n",
              "      <th>NumOfProducts</th>\n",
              "      <th>HasCrCard</th>\n",
              "      <th>IsActiveMember</th>\n",
              "      <th>EstimatedSalary</th>\n",
              "      <th>Exited</th>\n",
              "    </tr>\n",
              "  </thead>\n",
              "  <tbody>\n",
              "    <tr>\n",
              "      <th>0</th>\n",
              "      <td>1</td>\n",
              "      <td>15634602</td>\n",
              "      <td>Hargrave</td>\n",
              "      <td>619</td>\n",
              "      <td>France</td>\n",
              "      <td>Female</td>\n",
              "      <td>42</td>\n",
              "      <td>2</td>\n",
              "      <td>0.00</td>\n",
              "      <td>1</td>\n",
              "      <td>1</td>\n",
              "      <td>1</td>\n",
              "      <td>101348.88</td>\n",
              "      <td>1</td>\n",
              "    </tr>\n",
              "    <tr>\n",
              "      <th>1</th>\n",
              "      <td>2</td>\n",
              "      <td>15647311</td>\n",
              "      <td>Hill</td>\n",
              "      <td>608</td>\n",
              "      <td>Spain</td>\n",
              "      <td>Female</td>\n",
              "      <td>41</td>\n",
              "      <td>1</td>\n",
              "      <td>83807.86</td>\n",
              "      <td>1</td>\n",
              "      <td>0</td>\n",
              "      <td>1</td>\n",
              "      <td>112542.58</td>\n",
              "      <td>0</td>\n",
              "    </tr>\n",
              "    <tr>\n",
              "      <th>2</th>\n",
              "      <td>3</td>\n",
              "      <td>15619304</td>\n",
              "      <td>Onio</td>\n",
              "      <td>502</td>\n",
              "      <td>France</td>\n",
              "      <td>Female</td>\n",
              "      <td>42</td>\n",
              "      <td>8</td>\n",
              "      <td>159660.80</td>\n",
              "      <td>3</td>\n",
              "      <td>1</td>\n",
              "      <td>0</td>\n",
              "      <td>113931.57</td>\n",
              "      <td>1</td>\n",
              "    </tr>\n",
              "    <tr>\n",
              "      <th>3</th>\n",
              "      <td>4</td>\n",
              "      <td>15701354</td>\n",
              "      <td>Boni</td>\n",
              "      <td>699</td>\n",
              "      <td>France</td>\n",
              "      <td>Female</td>\n",
              "      <td>39</td>\n",
              "      <td>1</td>\n",
              "      <td>0.00</td>\n",
              "      <td>2</td>\n",
              "      <td>0</td>\n",
              "      <td>0</td>\n",
              "      <td>93826.63</td>\n",
              "      <td>0</td>\n",
              "    </tr>\n",
              "    <tr>\n",
              "      <th>4</th>\n",
              "      <td>5</td>\n",
              "      <td>15737888</td>\n",
              "      <td>Mitchell</td>\n",
              "      <td>850</td>\n",
              "      <td>Spain</td>\n",
              "      <td>Female</td>\n",
              "      <td>43</td>\n",
              "      <td>2</td>\n",
              "      <td>125510.82</td>\n",
              "      <td>1</td>\n",
              "      <td>1</td>\n",
              "      <td>1</td>\n",
              "      <td>79084.10</td>\n",
              "      <td>0</td>\n",
              "    </tr>\n",
              "  </tbody>\n",
              "</table>\n",
              "</div>"
            ],
            "text/plain": [
              "   RowNumber  CustomerId   Surname  ...  IsActiveMember EstimatedSalary Exited\n",
              "0          1    15634602  Hargrave  ...               1       101348.88      1\n",
              "1          2    15647311      Hill  ...               1       112542.58      0\n",
              "2          3    15619304      Onio  ...               0       113931.57      1\n",
              "3          4    15701354      Boni  ...               0        93826.63      0\n",
              "4          5    15737888  Mitchell  ...               1        79084.10      0\n",
              "\n",
              "[5 rows x 14 columns]"
            ]
          },
          "metadata": {},
          "execution_count": 14
        }
      ]
    },
    {
      "cell_type": "code",
      "metadata": {
        "id": "R3eGCTSVHqOS"
      },
      "source": [
        "#verilerin egitim ve test icin bolunmesi\n",
        "from sklearn.model_selection import train_test_split\n",
        "\n",
        "x_train, x_test,y_train,y_test = train_test_split(X,Y,test_size=0.33, random_state=0)\n"
      ],
      "execution_count": null,
      "outputs": []
    },
    {
      "cell_type": "code",
      "metadata": {
        "id": "rDKYYBAPI0V4"
      },
      "source": [
        "#verilerin olceklenmesi\n",
        "from sklearn.preprocessing import StandardScaler\n",
        "\n",
        "sc=StandardScaler() #burada standart dağılıma göre düzeltme yaptık hoca soru cevap kısmında anlatacakmış.\n",
        "\n",
        "X_train = sc.fit_transform(x_train)\n",
        "X_test = sc.fit_transform(x_test)"
      ],
      "execution_count": null,
      "outputs": []
    },
    {
      "cell_type": "code",
      "metadata": {
        "id": "V4WsB_d8I3aN"
      },
      "source": [
        "#Yapay Sinir ağı \n",
        "import keras\n",
        "from keras.models import Sequential\n",
        "from keras.layers import Dense\n",
        "\n",
        "#relu : rectifier, 0 ın altında 0 , 0 ın üstünde lieer artan bir fonksiyon\n",
        "#problem linear seperable : doğrusal olarak birbirinden ayrılabiliyorsa o zaman gizli katman kullanmamıza gerek yok\n",
        "#çıkış katmanımızda 1 tane nöron var , giriş katmanında 11  tane nöron var\n",
        "#6 dan başlamamızın sebebi 11+1=12/2 yaparak sallamamız (hoca sanat dedi)\n",
        "\n",
        "classifier = Sequential()\n",
        "#burada init uniform dememizin sebebi gradient ten dolayı 0 a yakın birer veri olarak sinapsislerin üzrine belirlemek\n",
        "#daha sonra sinir ağı çalıştıkça bu değişecek\n",
        "#input_dim  kaç değişken olduğu\n",
        "classifier.add(Dense(6, kernel_initializer='uniform', activation = 'relu' , input_dim = 11)) #6 nöronlu gizli katman var\n",
        "\n",
        "classifier.add(Dense(6, kernel_initializer='uniform', activation = 'relu')) #bir katman daha ekledik\n",
        "\n",
        "classifier.add(Dense(1, kernel_initializer='uniform', activation = 'sigmoid'))#çıkış katmanı"
      ],
      "execution_count": null,
      "outputs": []
    },
    {
      "cell_type": "code",
      "metadata": {
        "colab": {
          "base_uri": "https://localhost:8080/"
        },
        "id": "67wY-_1TJpI1",
        "outputId": "f1048c0a-cf1f-45b3-9c6f-b9daf303be74"
      },
      "source": [
        "#eğitme kısmı\n",
        "#adam sinapsisler üzerindeki değerlerin nasıl optimize edileceğini belirliyor.\n",
        "#loss : çıkan hatanın nasıl hesaplancağını belirtiyor. binary olmasının sebebi Ynin 1 veya 0 değerini alması\n",
        "classifier.compile(optimizer = 'adam', loss =  'binary_crossentropy' , metrics = ['accuracy'] )\n",
        "\n",
        "#çalıştırma kısmı\n",
        "classifier.fit(X_train, y_train, epochs=50)\n",
        "\n",
        "#tahmin kısmı\n",
        "y_pred = classifier.predict(X_test)\n"
      ],
      "execution_count": null,
      "outputs": [
        {
          "output_type": "stream",
          "name": "stdout",
          "text": [
            "Epoch 1/50\n",
            "210/210 [==============================] - 1s 2ms/step - loss: 0.5884 - accuracy: 0.7976\n",
            "Epoch 2/50\n",
            "210/210 [==============================] - 0s 2ms/step - loss: 0.4380 - accuracy: 0.7979\n",
            "Epoch 3/50\n",
            "210/210 [==============================] - 0s 1ms/step - loss: 0.4303 - accuracy: 0.7979\n",
            "Epoch 4/50\n",
            "210/210 [==============================] - 0s 1ms/step - loss: 0.4269 - accuracy: 0.7979\n",
            "Epoch 5/50\n",
            "210/210 [==============================] - 0s 1ms/step - loss: 0.4245 - accuracy: 0.7979\n",
            "Epoch 6/50\n",
            "210/210 [==============================] - 0s 2ms/step - loss: 0.4214 - accuracy: 0.7979\n",
            "Epoch 7/50\n",
            "210/210 [==============================] - 0s 2ms/step - loss: 0.4199 - accuracy: 0.7979\n",
            "Epoch 8/50\n",
            "210/210 [==============================] - 0s 1ms/step - loss: 0.4177 - accuracy: 0.8051\n",
            "Epoch 9/50\n",
            "210/210 [==============================] - 0s 1ms/step - loss: 0.4167 - accuracy: 0.8219\n",
            "Epoch 10/50\n",
            "210/210 [==============================] - 0s 1ms/step - loss: 0.4156 - accuracy: 0.8233\n",
            "Epoch 11/50\n",
            "210/210 [==============================] - 0s 2ms/step - loss: 0.4148 - accuracy: 0.8242\n",
            "Epoch 12/50\n",
            "210/210 [==============================] - 0s 2ms/step - loss: 0.4140 - accuracy: 0.8258\n",
            "Epoch 13/50\n",
            "210/210 [==============================] - 0s 1ms/step - loss: 0.4133 - accuracy: 0.8276\n",
            "Epoch 14/50\n",
            "210/210 [==============================] - 0s 2ms/step - loss: 0.4125 - accuracy: 0.8291\n",
            "Epoch 15/50\n",
            "210/210 [==============================] - 0s 2ms/step - loss: 0.4116 - accuracy: 0.8312\n",
            "Epoch 16/50\n",
            "210/210 [==============================] - 0s 2ms/step - loss: 0.4113 - accuracy: 0.8330\n",
            "Epoch 17/50\n",
            "210/210 [==============================] - 0s 2ms/step - loss: 0.4105 - accuracy: 0.8324\n",
            "Epoch 18/50\n",
            "210/210 [==============================] - 0s 1ms/step - loss: 0.4099 - accuracy: 0.8319\n",
            "Epoch 19/50\n",
            "210/210 [==============================] - 0s 1ms/step - loss: 0.4093 - accuracy: 0.8333\n",
            "Epoch 20/50\n",
            "210/210 [==============================] - 0s 1ms/step - loss: 0.4089 - accuracy: 0.8337\n",
            "Epoch 21/50\n",
            "210/210 [==============================] - 0s 1ms/step - loss: 0.4083 - accuracy: 0.8334\n",
            "Epoch 22/50\n",
            "210/210 [==============================] - 0s 1ms/step - loss: 0.4073 - accuracy: 0.8340\n",
            "Epoch 23/50\n",
            "210/210 [==============================] - 0s 1ms/step - loss: 0.4076 - accuracy: 0.8348\n",
            "Epoch 24/50\n",
            "210/210 [==============================] - 0s 1ms/step - loss: 0.4068 - accuracy: 0.8346\n",
            "Epoch 25/50\n",
            "210/210 [==============================] - 0s 1ms/step - loss: 0.4065 - accuracy: 0.8351\n",
            "Epoch 26/50\n",
            "210/210 [==============================] - 0s 1ms/step - loss: 0.4063 - accuracy: 0.8340\n",
            "Epoch 27/50\n",
            "210/210 [==============================] - 0s 1ms/step - loss: 0.4057 - accuracy: 0.8343\n",
            "Epoch 28/50\n",
            "210/210 [==============================] - 0s 1ms/step - loss: 0.4058 - accuracy: 0.8348\n",
            "Epoch 29/50\n",
            "210/210 [==============================] - 0s 1ms/step - loss: 0.4049 - accuracy: 0.8343\n",
            "Epoch 30/50\n",
            "210/210 [==============================] - 0s 1ms/step - loss: 0.4052 - accuracy: 0.8334\n",
            "Epoch 31/50\n",
            "210/210 [==============================] - 0s 1ms/step - loss: 0.4047 - accuracy: 0.8348\n",
            "Epoch 32/50\n",
            "210/210 [==============================] - 0s 1ms/step - loss: 0.4046 - accuracy: 0.8331\n",
            "Epoch 33/50\n",
            "210/210 [==============================] - 0s 1ms/step - loss: 0.4044 - accuracy: 0.8351\n",
            "Epoch 34/50\n",
            "210/210 [==============================] - 0s 2ms/step - loss: 0.4040 - accuracy: 0.8357\n",
            "Epoch 35/50\n",
            "210/210 [==============================] - 0s 1ms/step - loss: 0.4041 - accuracy: 0.8358\n",
            "Epoch 36/50\n",
            "210/210 [==============================] - 0s 2ms/step - loss: 0.4042 - accuracy: 0.8340\n",
            "Epoch 37/50\n",
            "210/210 [==============================] - 0s 1ms/step - loss: 0.4037 - accuracy: 0.8348\n",
            "Epoch 38/50\n",
            "210/210 [==============================] - 0s 1ms/step - loss: 0.4031 - accuracy: 0.8346\n",
            "Epoch 39/50\n",
            "210/210 [==============================] - 0s 1ms/step - loss: 0.4030 - accuracy: 0.8351\n",
            "Epoch 40/50\n",
            "210/210 [==============================] - 0s 1ms/step - loss: 0.4035 - accuracy: 0.8352\n",
            "Epoch 41/50\n",
            "210/210 [==============================] - 0s 1ms/step - loss: 0.4032 - accuracy: 0.8342\n",
            "Epoch 42/50\n",
            "210/210 [==============================] - 0s 1ms/step - loss: 0.4029 - accuracy: 0.8361\n",
            "Epoch 43/50\n",
            "210/210 [==============================] - 0s 1ms/step - loss: 0.4027 - accuracy: 0.8342\n",
            "Epoch 44/50\n",
            "210/210 [==============================] - 0s 1ms/step - loss: 0.4029 - accuracy: 0.8355\n",
            "Epoch 45/50\n",
            "210/210 [==============================] - 0s 1ms/step - loss: 0.4021 - accuracy: 0.8352\n",
            "Epoch 46/50\n",
            "210/210 [==============================] - 0s 1ms/step - loss: 0.4026 - accuracy: 0.8360\n",
            "Epoch 47/50\n",
            "210/210 [==============================] - 0s 1ms/step - loss: 0.4023 - accuracy: 0.8354\n",
            "Epoch 48/50\n",
            "210/210 [==============================] - 0s 2ms/step - loss: 0.4022 - accuracy: 0.8351\n",
            "Epoch 49/50\n",
            "210/210 [==============================] - 0s 1ms/step - loss: 0.4022 - accuracy: 0.8345\n",
            "Epoch 50/50\n",
            "210/210 [==============================] - 0s 1ms/step - loss: 0.4021 - accuracy: 0.8367\n"
          ]
        }
      ]
    },
    {
      "cell_type": "code",
      "metadata": {
        "colab": {
          "base_uri": "https://localhost:8080/"
        },
        "id": "PnaxYIpuSM-A",
        "outputId": "da0ec22e-f1ea-4345-d9f7-bbedb7139e7f"
      },
      "source": [
        "y_pred[:5] #sonuçlar yüzdeli olduğundan hoca yüzde 50 sini altı ve üstü diye bölecek\n",
        "#böylece müşteri bıraktı yada bırakmadı cinsinden gerçek veriyle(y_test) karşılaştıracağız."
      ],
      "execution_count": null,
      "outputs": [
        {
          "output_type": "execute_result",
          "data": {
            "text/plain": [
              "array([[0.2620251 ],\n",
              "       [0.30824918],\n",
              "       [0.18529812],\n",
              "       [0.05668536],\n",
              "       [0.19243503]], dtype=float32)"
            ]
          },
          "metadata": {},
          "execution_count": 25
        }
      ]
    },
    {
      "cell_type": "code",
      "metadata": {
        "colab": {
          "base_uri": "https://localhost:8080/"
        },
        "id": "tE8FfM02SR_2",
        "outputId": "aa342880-27c7-4944-c75c-5ec02ac10b7f"
      },
      "source": [
        "y_test[:5]"
      ],
      "execution_count": null,
      "outputs": [
        {
          "output_type": "execute_result",
          "data": {
            "text/plain": [
              "array([0, 1, 0, 0, 0])"
            ]
          },
          "metadata": {},
          "execution_count": 24
        }
      ]
    },
    {
      "cell_type": "code",
      "metadata": {
        "id": "y_TUH0BIR1yM"
      },
      "source": [
        "y_pred = (y_pred > 0.5) # true 1 ,falce 0 olacak"
      ],
      "execution_count": null,
      "outputs": []
    },
    {
      "cell_type": "code",
      "metadata": {
        "colab": {
          "base_uri": "https://localhost:8080/"
        },
        "id": "wA5rRsUpS6jL",
        "outputId": "8af7bf0d-2d73-428c-e741-9ac005f0b252"
      },
      "source": [
        "y_pred[:5]"
      ],
      "execution_count": null,
      "outputs": [
        {
          "output_type": "execute_result",
          "data": {
            "text/plain": [
              "array([[False],\n",
              "       [False],\n",
              "       [False],\n",
              "       [False],\n",
              "       [False]])"
            ]
          },
          "metadata": {},
          "execution_count": 27
        }
      ]
    },
    {
      "cell_type": "code",
      "metadata": {
        "colab": {
          "base_uri": "https://localhost:8080/"
        },
        "id": "GJ9648xcS8r2",
        "outputId": "7ec8d7dd-b706-48e6-d598-d289837be227"
      },
      "source": [
        "from sklearn.metrics import confusion_matrix\n",
        "cm = confusion_matrix(y_test,y_pred)\n",
        "\n",
        "print(cm)\n"
      ],
      "execution_count": null,
      "outputs": [
        {
          "output_type": "stream",
          "name": "stdout",
          "text": [
            "[[2561   56]\n",
            " [ 472  211]]\n"
          ]
        }
      ]
    },
    {
      "cell_type": "markdown",
      "metadata": {
        "id": "hQd_e3ghTTRy"
      },
      "source": [
        "2561+211= doğru tahmin"
      ]
    },
    {
      "cell_type": "code",
      "metadata": {
        "id": "RXl91oR8TLjC"
      },
      "source": [
        ""
      ],
      "execution_count": null,
      "outputs": []
    }
  ]
}