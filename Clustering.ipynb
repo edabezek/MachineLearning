{
  "nbformat": 4,
  "nbformat_minor": 0,
  "metadata": {
    "colab": {
      "name": "Clustering.ipynb ",
      "provenance": [],
      "authorship_tag": "ABX9TyPLXXYQnnlCdrLeC1UYoMk2",
      "include_colab_link": true
    },
    "kernelspec": {
      "name": "python3",
      "display_name": "Python 3"
    },
    "language_info": {
      "name": "python"
    }
  },
  "cells": [
    {
      "cell_type": "markdown",
      "metadata": {
        "id": "view-in-github",
        "colab_type": "text"
      },
      "source": [
        "<a href=\"https://colab.research.google.com/github/edabezek/MachineLearning/blob/main/Clustering.ipynb\" target=\"_parent\"><img src=\"https://colab.research.google.com/assets/colab-badge.svg\" alt=\"Open In Colab\"/></a>"
      ]
    },
    {
      "cell_type": "code",
      "metadata": {
        "id": "50fb6QEW8Mtl",
        "colab": {
          "base_uri": "https://localhost:8080/"
        },
        "outputId": "29dc4350-a263-4d30-a808-36f3e060c1f5"
      },
      "source": [
        "import numpy as np\n",
        "import pandas as pd\n",
        "import matplotlib.pyplot as plt\n",
        "\n",
        "veriler = pd.read_csv('musteriler.csv')\n",
        "\n",
        "X = veriler.iloc[:,3:].values\n",
        "X[:5] #hacim ve maas"
      ],
      "execution_count": null,
      "outputs": [
        {
          "output_type": "execute_result",
          "data": {
            "text/plain": [
              "array([[69900,  6325],\n",
              "       [79000,  5200],\n",
              "       [85500,  7825],\n",
              "       [17100,  8375],\n",
              "       [ 5500,  5450]])"
            ]
          },
          "metadata": {},
          "execution_count": 1
        }
      ]
    },
    {
      "cell_type": "code",
      "metadata": {
        "colab": {
          "base_uri": "https://localhost:8080/",
          "height": 203
        },
        "id": "uzNtx3GxV2QZ",
        "outputId": "89576e73-3611-4432-8f98-f8f45b81067b"
      },
      "source": [
        "veriler.head()"
      ],
      "execution_count": null,
      "outputs": [
        {
          "output_type": "execute_result",
          "data": {
            "text/html": [
              "<div>\n",
              "<style scoped>\n",
              "    .dataframe tbody tr th:only-of-type {\n",
              "        vertical-align: middle;\n",
              "    }\n",
              "\n",
              "    .dataframe tbody tr th {\n",
              "        vertical-align: top;\n",
              "    }\n",
              "\n",
              "    .dataframe thead th {\n",
              "        text-align: right;\n",
              "    }\n",
              "</style>\n",
              "<table border=\"1\" class=\"dataframe\">\n",
              "  <thead>\n",
              "    <tr style=\"text-align: right;\">\n",
              "      <th></th>\n",
              "      <th>No</th>\n",
              "      <th>Cinsiyet</th>\n",
              "      <th>Yas</th>\n",
              "      <th>Hacim</th>\n",
              "      <th>Maas</th>\n",
              "    </tr>\n",
              "  </thead>\n",
              "  <tbody>\n",
              "    <tr>\n",
              "      <th>0</th>\n",
              "      <td>1</td>\n",
              "      <td>K</td>\n",
              "      <td>60</td>\n",
              "      <td>69900</td>\n",
              "      <td>6325</td>\n",
              "    </tr>\n",
              "    <tr>\n",
              "      <th>1</th>\n",
              "      <td>2</td>\n",
              "      <td>K</td>\n",
              "      <td>30</td>\n",
              "      <td>79000</td>\n",
              "      <td>5200</td>\n",
              "    </tr>\n",
              "    <tr>\n",
              "      <th>2</th>\n",
              "      <td>3</td>\n",
              "      <td>E</td>\n",
              "      <td>52</td>\n",
              "      <td>85500</td>\n",
              "      <td>7825</td>\n",
              "    </tr>\n",
              "    <tr>\n",
              "      <th>3</th>\n",
              "      <td>4</td>\n",
              "      <td>E</td>\n",
              "      <td>57</td>\n",
              "      <td>17100</td>\n",
              "      <td>8375</td>\n",
              "    </tr>\n",
              "    <tr>\n",
              "      <th>4</th>\n",
              "      <td>5</td>\n",
              "      <td>E</td>\n",
              "      <td>55</td>\n",
              "      <td>5500</td>\n",
              "      <td>5450</td>\n",
              "    </tr>\n",
              "  </tbody>\n",
              "</table>\n",
              "</div>"
            ],
            "text/plain": [
              "   No Cinsiyet  Yas  Hacim  Maas\n",
              "0   1        K   60  69900  6325\n",
              "1   2        K   30  79000  5200\n",
              "2   3        E   52  85500  7825\n",
              "3   4        E   57  17100  8375\n",
              "4   5        E   55   5500  5450"
            ]
          },
          "metadata": {},
          "execution_count": 2
        }
      ]
    },
    {
      "cell_type": "code",
      "metadata": {
        "colab": {
          "base_uri": "https://localhost:8080/"
        },
        "id": "1_Gk8sqlWkM6",
        "outputId": "0832afea-a0c6-4c28-edbd-bc4dd792a76b"
      },
      "source": [
        "from sklearn.cluster import KMeans\n",
        "\n",
        "kmeans = KMeans ( n_clusters = 3, init = 'k-means++')\n",
        "kmeans.fit(X)"
      ],
      "execution_count": null,
      "outputs": [
        {
          "output_type": "execute_result",
          "data": {
            "text/plain": [
              "KMeans(algorithm='auto', copy_x=True, init='k-means++', max_iter=300,\n",
              "       n_clusters=3, n_init=10, n_jobs=None, precompute_distances='auto',\n",
              "       random_state=None, tol=0.0001, verbose=0)"
            ]
          },
          "metadata": {},
          "execution_count": 3
        }
      ]
    },
    {
      "cell_type": "code",
      "metadata": {
        "colab": {
          "base_uri": "https://localhost:8080/"
        },
        "id": "5E7sosTtXx0K",
        "outputId": "925f4b97-957b-499c-e9dd-f12f4c53b3c6"
      },
      "source": [
        "print(kmeans.cluster_centers_)\n",
        "#vereceği ilk satır ilk cluster orta noktaları, sırasıyla hacım ve maas \n",
        "#ikinci satır ikinci clusterler için "
      ],
      "execution_count": null,
      "outputs": [
        {
          "output_type": "stream",
          "name": "stdout",
          "text": [
            "[[ 22495.40229885   5307.18390805]\n",
            " [ 59182.08955224   5878.35820896]\n",
            " [104386.95652174   7289.13043478]]\n"
          ]
        }
      ]
    },
    {
      "cell_type": "code",
      "metadata": {
        "colab": {
          "base_uri": "https://localhost:8080/",
          "height": 293
        },
        "id": "ap7mOHApXmmL",
        "outputId": "cb02284b-41bd-43c8-a393-e6e5ada8d5f8"
      },
      "source": [
        "#k için optimum değer belirleme wcss\n",
        "sonuclar = []\n",
        "for i in range(1,11):\n",
        "    kmeans = KMeans (n_clusters = i, init='k-means++', random_state= 123)\n",
        "    kmeans.fit(X)\n",
        "    sonuclar.append(kmeans.inertia_)\n",
        "\n",
        "plt.plot(range(1,11),sonuclar)\n"
      ],
      "execution_count": null,
      "outputs": [
        {
          "output_type": "execute_result",
          "data": {
            "text/plain": [
              "[<matplotlib.lines.Line2D at 0x7f8a92cfd650>]"
            ]
          },
          "metadata": {},
          "execution_count": 5
        },
        {
          "output_type": "display_data",
          "data": {
            "image/png": "[encoded data removed]",
            "text/plain": [
              "<Figure size 432x288 with 1 Axes>"
            ]
          },
          "metadata": {
            "needs_background": "light"
          }
        }
      ]
    },
    {
      "cell_type": "markdown",
      "metadata": {
        "id": "a_783h6kZNFT"
      },
      "source": [
        "burada k değeri 4-3-2 herhangi biri olabilir. sonra k değerini değiştirerek duruma bakılabilir."
      ]
    },
    {
      "cell_type": "code",
      "metadata": {
        "colab": {
          "base_uri": "https://localhost:8080/",
          "height": 382
        },
        "id": "Bf5ZbiQiLwnE",
        "outputId": "83c35331-e42d-4e92-d573-4ea36b80580b"
      },
      "source": [
        "kmeans = KMeans (n_clusters = 4, init='k-means++', random_state= 123)\n",
        "Y_tahmin= kmeans.fit_predict(X)\n",
        "print(Y_tahmin)  \n",
        "plt.scatter(X[Y_tahmin==0,0],X[Y_tahmin==0,1],s=100, c='red')\n",
        "plt.scatter(X[Y_tahmin==1,0],X[Y_tahmin==1,1],s=100, c='blue')\n",
        "plt.scatter(X[Y_tahmin==2,0],X[Y_tahmin==2,1],s=100, c='green')\n",
        "plt.scatter(X[Y_tahmin==3,0],X[Y_tahmin==3,1],s=100, c='yellow')\n",
        "plt.title('KMeans')\n",
        "plt.show()\n"
      ],
      "execution_count": null,
      "outputs": [
        {
          "output_type": "stream",
          "name": "stdout",
          "text": [
            "[1 1 1 0 0 0 0 1 0 3 3 1 3 0 1 2 1 0 1 1 0 0 1 3 2 3 0 1 0 3 0 3 3 1 3 3 3\n",
            " 0 3 2 2 0 1 0 0 3 3 3 3 2 0 1 2 2 1 1 0 1 3 1 2 1 3 0 3 0 3 1 3 0 1 1 1 1\n",
            " 0 0 2 1 3 0 0 0 3 3 2 1 1 3 0 0 1 0 2 3 0 3 0 1 0 0 3 2 1 0 0 1 1 3 3 2 2\n",
            " 1 1 1 1 3 0 1 3 3 0 3 1 1 1 3 0 0 2 0 0 3 3 3 3 0 3 3 1 3 1 0 3 3 1 3 3 3\n",
            " 3 0 3 3 1 0 3 2 0 3 2 0 3 3 0 3 0 3 3 1 0 0 1 0 0 3 1 0 0 3 2 3 3 1 3 2 1\n",
            " 2 0 0 3 0 3 0 3 1 0 1 1 3 3 3]\n"
          ]
        },
        {
          "output_type": "display_data",
          "data": {
            "image/png": "[encoded data removed]",
            "text/plain": [
              "<Figure size 432x288 with 1 Axes>"
            ]
          },
          "metadata": {
            "needs_background": "light"
          }
        }
      ]
    },
    {
      "cell_type": "code",
      "metadata": {
        "colab": {
          "base_uri": "https://localhost:8080/"
        },
        "id": "6GVlAUgxAuRr",
        "outputId": "5c225b4b-d501-4f58-d68c-0eedf3d1c16c"
      },
      "source": [
        "from sklearn.cluster import AgglomerativeClustering\n",
        "ac = AgglomerativeClustering(n_clusters=4, affinity='euclidean', linkage='ward')\n",
        "Y_tahmin = ac.fit_predict(X)\n",
        "print(Y_tahmin)\n",
        "\n"
      ],
      "execution_count": null,
      "outputs": [
        {
          "output_type": "stream",
          "name": "stdout",
          "text": [
            "[0 0 0 2 2 2 2 0 2 1 1 0 1 2 0 3 0 2 0 0 2 2 0 1 3 1 2 0 2 1 2 1 1 0 1 1 1\n",
            " 2 1 3 0 2 0 2 2 1 1 1 1 3 2 0 3 3 0 0 2 0 1 0 3 0 1 2 1 2 1 0 1 2 0 0 0 0\n",
            " 2 2 3 0 1 2 2 2 1 1 3 0 0 1 2 2 0 2 3 1 2 1 2 0 2 2 1 3 0 2 2 0 0 1 1 3 3\n",
            " 0 0 0 0 1 2 0 1 1 2 1 0 0 0 1 2 2 3 2 2 1 1 1 1 2 1 1 0 1 0 2 1 1 0 1 1 1\n",
            " 1 2 1 1 0 2 1 3 2 1 3 2 1 1 2 1 2 1 1 0 2 2 0 2 2 1 1 2 2 1 3 1 1 0 1 3 0\n",
            " 3 2 2 1 2 1 2 1 0 2 0 0 1 1 1]\n"
          ]
        }
      ]
    },
    {
      "cell_type": "code",
      "metadata": {
        "colab": {
          "base_uri": "https://localhost:8080/",
          "height": 281
        },
        "id": "1trqi8sJL7Vj",
        "outputId": "4dc48cf0-6f44-44c1-8860-18b87b53d7dd"
      },
      "source": [
        "plt.scatter(X[Y_tahmin==0,0],X[Y_tahmin==0,1],s=100, c='red')\n",
        "plt.scatter(X[Y_tahmin==1,0],X[Y_tahmin==1,1],s=100, c='blue')\n",
        "plt.scatter(X[Y_tahmin==2,0],X[Y_tahmin==2,1],s=100, c='green')\n",
        "plt.scatter(X[Y_tahmin==3,0],X[Y_tahmin==3,1],s=100, c='yellow')\n",
        "plt.title('HC')\n",
        "plt.show()\n"
      ],
      "execution_count": null,
      "outputs": [
        {
          "output_type": "display_data",
          "data": {
            "image/png": "[encoded data removed]",
            "text/plain": [
              "<Figure size 432x288 with 1 Axes>"
            ]
          },
          "metadata": {
            "needs_background": "light"
          }
        }
      ]
    },
    {
      "cell_type": "code",
      "metadata": {
        "colab": {
          "base_uri": "https://localhost:8080/",
          "height": 265
        },
        "id": "n4kBGzkXL-u-",
        "outputId": "10a04d77-35cd-4d8a-9bcf-14c1f1695baf"
      },
      "source": [
        "\n",
        "import scipy.cluster.hierarchy as sch\n",
        "dendrogram = sch.dendrogram(sch.linkage(X, method='ward'))\n",
        "plt.show()\n"
      ],
      "execution_count": null,
      "outputs": [
        {
          "output_type": "display_data",
          "data": {
            "image/png": "[encoded data removed]",
            "text/plain": [
              "<Figure size 432x288 with 1 Axes>"
            ]
          },
          "metadata": {
            "needs_background": "light"
          }
        }
      ]
    }
  ]
}